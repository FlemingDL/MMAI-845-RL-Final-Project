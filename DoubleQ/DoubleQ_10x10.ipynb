{
 "cells": [
  {
   "cell_type": "code",
   "execution_count": 32,
   "metadata": {
    "colab": {
     "base_uri": "https://localhost:8080/",
     "height": 34
    },
    "colab_type": "code",
    "id": "YEXIVM65oapM",
    "outputId": "1eec12f7-df6b-45d4-eadc-979b552b2cd1"
   },
   "outputs": [
    {
     "name": "stdout",
     "output_type": "stream",
     "text": [
      "Mounted at /content/drive\n"
     ]
    }
   ],
   "source": [
    "from google.colab import drive\n",
    "drive.mount('/content/drive')"
   ]
  },
  {
   "cell_type": "code",
   "execution_count": 2,
   "metadata": {
    "colab": {
     "base_uri": "https://localhost:8080/",
     "height": 136
    },
    "colab_type": "code",
    "id": "nv3MDxNv8dHn",
    "outputId": "b6873342-030e-4a3b-9d61-67dc91c46175"
   },
   "outputs": [
    {
     "name": "stdout",
     "output_type": "stream",
     "text": [
      "Requirement already satisfied: gym in /usr/local/lib/python3.6/dist-packages (0.17.1)\n",
      "Requirement already satisfied: cloudpickle<1.4.0,>=1.2.0 in /usr/local/lib/python3.6/dist-packages (from gym) (1.3.0)\n",
      "Requirement already satisfied: numpy>=1.10.4 in /usr/local/lib/python3.6/dist-packages (from gym) (1.18.2)\n",
      "Requirement already satisfied: six in /usr/local/lib/python3.6/dist-packages (from gym) (1.12.0)\n",
      "Requirement already satisfied: pyglet<=1.5.0,>=1.4.0 in /usr/local/lib/python3.6/dist-packages (from gym) (1.5.0)\n",
      "Requirement already satisfied: scipy in /usr/local/lib/python3.6/dist-packages (from gym) (1.4.1)\n",
      "Requirement already satisfied: future in /usr/local/lib/python3.6/dist-packages (from pyglet<=1.5.0,>=1.4.0->gym) (0.16.0)\n"
     ]
    }
   ],
   "source": [
    "!pip install gym"
   ]
  },
  {
   "cell_type": "code",
   "execution_count": 2,
   "metadata": {
    "colab": {
     "base_uri": "https://localhost:8080/",
     "height": 306
    },
    "colab_type": "code",
    "id": "37R98CM3uNLI",
    "outputId": "82e731cd-7ec0-4e5b-b73c-09ed87e439a3"
   },
   "outputs": [
    {
     "name": "stdout",
     "output_type": "stream",
     "text": [
      "Cloning into 'gym_fleming'...\n",
      "remote: Enumerating objects: 99, done.\u001b[K\n",
      "remote: Counting objects: 100% (99/99), done.\u001b[K\n",
      "remote: Compressing objects: 100% (72/72), done.\u001b[K\n",
      "remote: Total 99 (delta 37), reused 86 (delta 24), pack-reused 0\u001b[K\n",
      "Unpacking objects: 100% (99/99), done.\n",
      "Obtaining file:///content/gym_fleming\n",
      "Requirement already satisfied: gym in /usr/local/lib/python3.6/dist-packages (from gym-fleming==0.0.2) (0.17.1)\n",
      "Requirement already satisfied: numpy in /usr/local/lib/python3.6/dist-packages (from gym-fleming==0.0.2) (1.18.2)\n",
      "Requirement already satisfied: six in /usr/local/lib/python3.6/dist-packages (from gym-fleming==0.0.2) (1.12.0)\n",
      "Requirement already satisfied: cloudpickle<1.4.0,>=1.2.0 in /usr/local/lib/python3.6/dist-packages (from gym->gym-fleming==0.0.2) (1.3.0)\n",
      "Requirement already satisfied: scipy in /usr/local/lib/python3.6/dist-packages (from gym->gym-fleming==0.0.2) (1.4.1)\n",
      "Requirement already satisfied: pyglet<=1.5.0,>=1.4.0 in /usr/local/lib/python3.6/dist-packages (from gym->gym-fleming==0.0.2) (1.5.0)\n",
      "Requirement already satisfied: future in /usr/local/lib/python3.6/dist-packages (from pyglet<=1.5.0,>=1.4.0->gym->gym-fleming==0.0.2) (0.16.0)\n",
      "Installing collected packages: gym-fleming\n",
      "  Running setup.py develop for gym-fleming\n",
      "Successfully installed gym-fleming\n"
     ]
    }
   ],
   "source": [
    "!git clone https://github.com/FlemingDL/gym_fleming.git\n",
    "\n",
    "!pip install -e gym_fleming"
   ]
  },
  {
   "cell_type": "code",
   "execution_count": 0,
   "metadata": {
    "colab": {},
    "colab_type": "code",
    "id": "vGWbBY4Aup1Y"
   },
   "outputs": [],
   "source": [
    "import sys\n",
    "from contextlib import closing\n",
    "from six import StringIO\n",
    "from gym import utils\n",
    "from gym.envs.toy_text import discrete\n",
    "import numpy as np\n",
    "from collections import defaultdict\n",
    "import matplotlib.pyplot as plt\n",
    "import seaborn as sns\n",
    "import torch\n",
    "import gym\n",
    "import gym_fleming\n",
    "from gym import wrappers"
   ]
  },
  {
   "cell_type": "code",
   "execution_count": 2,
   "metadata": {
    "colab": {
     "base_uri": "https://localhost:8080/",
     "height": 51
    },
    "colab_type": "code",
    "id": "IwzAIZwt9VhP",
    "outputId": "f11099f3-d3fd-4bf4-e29f-0665888394f6"
   },
   "outputs": [
    {
     "name": "stdout",
     "output_type": "stream",
     "text": [
      "2000\n",
      "6\n"
     ]
    }
   ],
   "source": [
    "\n",
    "# env = gym.make('taxi_fleming-v0')\n",
    "# env = gym.wrappers.Monitor(env, \"./drive/My Drive/Colab Notebooks/RL Project/double_Q_5x5\",  video_callable=lambda episode_id: True, force=True)\n",
    "env = gym.make('taxi_fleming-10x10-v0')\n",
    "# env = gym.wrappers.Monitor(env, \"./drive/My Drive/Colab Notebooks/RL Project/double_Q_10x10\",  video_callable=lambda episode_id: True, force=True)\n",
    "# env = gym.make('taxi_fleming-15x15-v0')\n",
    "# env = gym.wrappers.Monitor(env, \"./drive/My Drive/Colab Notebooks/RL Project/double_Q_15x15\",  video_callable=lambda episode_id: True, force=True)\n",
    "# env = gym.make('taxi_fleming-20x20-v0')\n",
    "# env = gym.wrappers.Monitor(env, \"./drive/My Drive/Colab Notebooks/RL Project/double_Q_20x20\",  video_callable=lambda episode_id: True, force=True)\n",
    "\n",
    "#  env = gym.wrappers.Monitor(env, directory, video_callable=lambda episode_id: episode_id%10==0)\n",
    "n_state = env.observation_space.n\n",
    "print(n_state)\n",
    "\n",
    "n_action = env.action_space.n\n",
    "print(n_action)"
   ]
  },
  {
   "cell_type": "code",
   "execution_count": 3,
   "metadata": {
    "colab": {
     "base_uri": "https://localhost:8080/",
     "height": 238
    },
    "colab_type": "code",
    "id": "c888oFKpHpe0",
    "outputId": "02def00a-a6e8-4883-bc11-690dcfdff54d"
   },
   "outputs": [
    {
     "name": "stdout",
     "output_type": "stream",
     "text": [
      "+-------------------+\n",
      "|\u001b[35mR\u001b[0m: | : : : : | : :G|\n",
      "| : | : : : : | :\u001b[43m \u001b[0m: |\n",
      "| : : : : : : : : : |\n",
      "| | : | : : | : | : |\n",
      "| | : | : : | : | : |\n",
      "| : | : : : : | : : |\n",
      "| : | : : : : | : : |\n",
      "| : : : : : : : : : |\n",
      "| | : | : : | : | : |\n",
      "|Y| : | : : | : |\u001b[34;1mB\u001b[0m: |\n",
      "+-------------------+\n",
      "\n"
     ]
    }
   ],
   "source": [
    "env.render()\n"
   ]
  },
  {
   "cell_type": "code",
   "execution_count": 0,
   "metadata": {
    "colab": {},
    "colab_type": "code",
    "id": "pwYg-nUOJ3-G"
   },
   "outputs": [],
   "source": [
    "\n",
    "# class TaxiEnv(discrete.DiscreteEnv):\n",
    "#     \"\"\"\n",
    "#     The Taxi Problem\n",
    "#     from \"Hierarchical Reinforcement Learning with the MAXQ Value Function Decomposition\"\n",
    "#     by Tom Dietterich\n",
    "#     Description:\n",
    "#     There are four designated locations in the grid world indicated by R(ed), G(reen), Y(ellow), and B(lue). When the episode starts, the taxi starts off at a random square and the passenger is at a random location. The taxi drives to the passenger's location, picks up the passenger, drives to the passenger's destination (another one of the four specified locations), and then drops off the passenger. Once the passenger is dropped off, the episode ends.\n",
    "#     Observations: \n",
    "#     There are 500 discrete states since there are 25 taxi positions, 5 possible locations of the passenger (including the case when the passenger is in the taxi), and 4 destination locations. \n",
    "    \n",
    "#     Passenger locations:\n",
    "#     - 0: R(ed)\n",
    "#     - 1: G(reen)\n",
    "#     - 2: Y(ellow)\n",
    "#     - 3: B(lue)\n",
    "#     - 4: in taxi\n",
    "    \n",
    "#     Destinations:\n",
    "#     - 0: R(ed)\n",
    "#     - 1: G(reen)\n",
    "#     - 2: Y(ellow)\n",
    "#     - 3: B(lue)\n",
    "        \n",
    "#     Actions:\n",
    "#     There are 6 discrete deterministic actions:\n",
    "#     - 0: move south\n",
    "#     - 1: move north\n",
    "#     - 2: move east \n",
    "#     - 3: move west \n",
    "#     - 4: pickup passenger\n",
    "#     - 5: dropoff passenger\n",
    "    \n",
    "#     Rewards: \n",
    "#     There is a reward of -1 for each action and an additional reward of +20 for delivering the passenger. There is a reward of -10 for executing actions \"pickup\" and \"dropoff\" illegally.\n",
    "    \n",
    "#     Rendering:\n",
    "#     - blue: passenger\n",
    "#     - magenta: destination\n",
    "#     - yellow: empty taxi\n",
    "#     - green: full taxi\n",
    "#     - other letters (R, G, Y and B): locations for passengers and destinations\n",
    "    \n",
    "#     state space is represented by:\n",
    "#         (taxi_row, taxi_col, passenger_location, destination)\n",
    "#     \"\"\"\n",
    "#     metadata = {'render.modes': ['human', 'ansi']}"
   ]
  },
  {
   "cell_type": "code",
   "execution_count": 0,
   "metadata": {
    "colab": {},
    "colab_type": "code",
    "id": "lsAvA0KEKdbz"
   },
   "outputs": [],
   "source": [
    ">>> def double_q_learning(env, gamma, n_episode, alpha):\n",
    "...     \"\"\"\n",
    "...     Obtain the optimal policy with off-policy double \n",
    "        Q-learning method\n",
    "...     @param env: OpenAI Gym environment\n",
    "...     @param gamma: discount factor\n",
    "...     @param n_episode: number of episodes\n",
    "...     @return: the optimal Q-function, and the optimal policy\n",
    "...     \"\"\"\n",
    "...     n_action = env.action_space.n\n",
    "...     n_state = env.observation_space.n\n",
    "...     Q1 = torch.zeros(n_state, n_action)\n",
    "...     Q2 = torch.zeros(n_state, n_action)\n",
    "...     frames =[]\n",
    "...     for episode in range(n_episode):\n",
    "...         state = env.reset()\n",
    "...         is_done = False\n",
    "...         while not is_done:\n",
    "# ...             env.render()\n",
    "# ...             env.close()\n",
    "...             action = epsilon_greedy_policy(state, Q1 + Q2)\n",
    "...             next_state, reward, is_done, info = env.step(action)\n",
    "...             if (torch.rand(1).item() < 0.5):\n",
    "...                 best_next_action = torch.argmax(Q1[next_state])\n",
    "...                 td_delta = reward + gamma * Q2[next_state][best_next_action]  - Q1[state][action]\n",
    "...                 Q1[state][action] += alpha * td_delta\n",
    "...             else:\n",
    "...                 best_next_action = torch.argmax(Q2[next_state])\n",
    "...                 td_delta = reward + gamma * Q1[next_state][best_next_action] - Q2[state][action]\n",
    "...                 Q2[state][action] += alpha * td_delta\n",
    "...             length_episode[episode] += 1\n",
    "...             total_reward_episode[episode] += reward\n",
    "# ...             frames.append({'frame': env.render(mode='ansi'),'state': state,'action': action,'reward': reward})\n",
    "...             if is_done:\n",
    "...                 break\n",
    "...             state = next_state\n",
    "# ...     env.close()\n",
    "...     policy = {}\n",
    "...     Q = Q1 + Q2\n",
    "\n",
    "\n",
    "...     for state in range(n_state):\n",
    "...         policy[state] = torch.argmax(Q[state]).item()\n",
    "...     return Q, policy#,frames"
   ]
  },
  {
   "cell_type": "code",
   "execution_count": 0,
   "metadata": {
    "colab": {},
    "colab_type": "code",
    "id": "qDirCtF8SwUT"
   },
   "outputs": [],
   "source": [
    ">>> def gen_epsilon_greedy_policy(n_action, epsilon):\n",
    "        def policy_function(state, Q):\n",
    "            probs = torch.ones(n_action) * epsilon / n_action\n",
    "            best_action = torch.argmax(Q[state]).item()\n",
    "            probs[best_action] += 1.0 - epsilon\n",
    "            action = torch.multinomial(probs, 1).item()\n",
    "            return action\n",
    "        return policy_function"
   ]
  },
  {
   "cell_type": "code",
   "execution_count": 0,
   "metadata": {
    "colab": {},
    "colab_type": "code",
    "id": "PAMy0klpCPan"
   },
   "outputs": [],
   "source": [
    "from IPython.display import clear_output\n",
    "from time import sleep\n",
    "\n",
    "def print_frames(frames):\n",
    "    for i, frame in enumerate(frames):\n",
    "        clear_output(wait=True)\n",
    "        print(frame['frame'])\n",
    "        print(f\"Timestep: {i + 1}\")\n",
    "        print(f\"State: {frame['state']}\")\n",
    "        print(f\"Action: {frame['action']}\")\n",
    "        print(f\"Reward: {frame['reward']}\")\n",
    "        sleep(.2)"
   ]
  },
  {
   "cell_type": "code",
   "execution_count": 0,
   "metadata": {
    "colab": {},
    "colab_type": "code",
    "id": "6IVvwFHENJft"
   },
   "outputs": [],
   "source": [
    ">>> n_episode = 2000\n",
    ">>> length_episode = [0] * n_episode\n",
    ">>> total_reward_episode = [0] * n_episode"
   ]
  },
  {
   "cell_type": "code",
   "execution_count": 0,
   "metadata": {
    "colab": {},
    "colab_type": "code",
    "id": "HXvqDJ8eFSXx"
   },
   "outputs": [],
   "source": [
    "alpha_options = [0.4, 0.5, 0.6]\n",
    "epsilon_options = [0.3, 0.1, 0.01]\n",
    "gamma = 1"
   ]
  },
  {
   "cell_type": "code",
   "execution_count": 21,
   "metadata": {
    "colab": {
     "base_uri": "https://localhost:8080/",
     "height": 782
    },
    "colab_type": "code",
    "id": "LasQkAkKFSbN",
    "outputId": "6f194c45-40a1-49ed-bfdc-13f1b45e034e"
   },
   "outputs": [
    {
     "name": "stdout",
     "output_type": "stream",
     "text": [
      "alpha: 0.4, epsilon: 0.3\n",
      "Average reward over 2000 episodes: -551.523\n",
      "Average length over 2000 episodes: 253.257\n",
      "Average reward per step over 2000 episodes: -1.675820900604702\n",
      "\n",
      "alpha: 0.4, epsilon: 0.1\n",
      "Average reward over 2000 episodes: -491.55\n",
      "Average length over 2000 episodes: 239.4765\n",
      "Average reward per step over 2000 episodes: -1.3336794819924893\n",
      "\n",
      "alpha: 0.4, epsilon: 0.01\n",
      "Average reward over 2000 episodes: -465.1255\n",
      "Average length over 2000 episodes: 229.6345\n",
      "Average reward per step over 2000 episodes: -1.2292287674703932\n",
      "\n",
      "alpha: 0.5, epsilon: 0.3\n",
      "Average reward over 2000 episodes: -508.288\n",
      "Average length over 2000 episodes: 226.0645\n",
      "Average reward per step over 2000 episodes: -1.6844674676080467\n",
      "\n",
      "alpha: 0.5, epsilon: 0.1\n",
      "Average reward over 2000 episodes: -466.3115\n",
      "Average length over 2000 episodes: 220.0115\n",
      "Average reward per step over 2000 episodes: -1.3657729577401203\n",
      "\n",
      "alpha: 0.5, epsilon: 0.01\n",
      "Average reward over 2000 episodes: -447.132\n",
      "Average length over 2000 episodes: 214.422\n",
      "Average reward per step over 2000 episodes: -1.1385397561534953\n",
      "\n",
      "alpha: 0.6, epsilon: 0.3\n",
      "Average reward over 2000 episodes: -521.439\n",
      "Average length over 2000 episodes: 223.695\n",
      "Average reward per step over 2000 episodes: -1.7449810469487337\n",
      "\n",
      "alpha: 0.6, epsilon: 0.1\n",
      "Average reward over 2000 episodes: -439.9555\n",
      "Average length over 2000 episodes: 200.9545\n",
      "Average reward per step over 2000 episodes: -1.3119767906476307\n",
      "\n",
      "alpha: 0.6, epsilon: 0.01\n",
      "Average reward over 2000 episodes: -417.6065\n",
      "Average length over 2000 episodes: 193.685\n",
      "Average reward per step over 2000 episodes: -1.1114480001425378\n",
      "\n"
     ]
    }
   ],
   "source": [
    "for alpha in alpha_options:\n",
    "     for epsilon in epsilon_options:\n",
    "         length_episode = [0] * n_episode\n",
    "         total_reward_episode = [0] * n_episode\n",
    "         epsilon_greedy_policy = gen_epsilon_greedy_policy(env.action_space.n, epsilon)\n",
    "         double_q_learning(env, gamma, n_episode, alpha)\n",
    "         reward_per_step = [reward/float(step) for \n",
    "                            reward, step in zip(\n",
    "                        total_reward_episode, length_episode)]\n",
    "         print('alpha: {}, epsilon: {}'.format(alpha, epsilon))\n",
    "         print('Average reward over {} episodes: {}'.format(\n",
    "            n_episode, sum(total_reward_episode) / n_episode))\n",
    "         print('Average length over {} episodes: {}'.format(\n",
    "            n_episode, sum(length_episode) / n_episode))\n",
    "         print('Average reward per step over {} episodes: {}\\n'.format(\n",
    "            n_episode, sum(reward_per_step) / n_episode))"
   ]
  },
  {
   "cell_type": "code",
   "execution_count": 0,
   "metadata": {
    "colab": {},
    "colab_type": "code",
    "id": "aoL9OgOFFSea"
   },
   "outputs": [],
   "source": []
  },
  {
   "cell_type": "code",
   "execution_count": 0,
   "metadata": {
    "colab": {},
    "colab_type": "code",
    "id": "Nki1lqfkFShX"
   },
   "outputs": [],
   "source": [
    "#10x10\n",
    ">>> gamma = 1\n",
    ">>> alpha = 0.6\n",
    ">>> epsilon = 0.01\n",
    ">>> epsilon_greedy_policy = gen_epsilon_greedy_policy(env.action_space.n, epsilon)\n",
    ">>> five_try = ['one','two','three','four','five']\n",
    "# >>> five_try = ['one']\n",
    ">>> for i in five_try:\n",
    ">>>   length_episode = [0] * n_episode\n",
    ">>>   total_reward_episode = [0] * n_episode\n",
    ">>>   optimal_Q, optimal_policy = double_q_learning(env, gamma, n_episode, alpha)\n",
    ">>>   vars()[\"length_episode_\"+i] = length_episode\n",
    ">>>   vars()[\"total_reward_episode_\"+i] = total_reward_episode"
   ]
  },
  {
   "cell_type": "code",
   "execution_count": 0,
   "metadata": {
    "colab": {},
    "colab_type": "code",
    "id": "zkKLkRi8FOty"
   },
   "outputs": [],
   "source": [
    "import pandas as pd\n",
    "\n",
    "\n",
    "length_df = pd.DataFrame({'10x10_one' : length_episode_one ,\n",
    "                   '10x10_two' : length_episode_two,\n",
    "                   '10x10_three' : length_episode_three,\n",
    "                   '10x10_four' : length_episode_four,\n",
    "                   '10x10_five' : length_episode_five\n",
    "                   }\n",
    "                    )\n",
    "\n",
    "reward_df = pd.DataFrame({'10x10_one' : total_reward_episode_one ,\n",
    "                   '10x10_two' : total_reward_episode_two,\n",
    "                   '10x10_three' : total_reward_episode_three,\n",
    "                   '10x10_four' : total_reward_episode_four,\n",
    "                   '10x10_five' : total_reward_episode_five\n",
    "                   }\n",
    "                    )\n"
   ]
  },
  {
   "cell_type": "code",
   "execution_count": 35,
   "metadata": {
    "colab": {
     "base_uri": "https://localhost:8080/",
     "height": 419
    },
    "colab_type": "code",
    "id": "_0k64buDFmhg",
    "outputId": "5c3b2e00-a0b7-4cc2-a155-8e3fd93d89aa"
   },
   "outputs": [
    {
     "data": {
      "text/html": [
       "<div>\n",
       "<style scoped>\n",
       "    .dataframe tbody tr th:only-of-type {\n",
       "        vertical-align: middle;\n",
       "    }\n",
       "\n",
       "    .dataframe tbody tr th {\n",
       "        vertical-align: top;\n",
       "    }\n",
       "\n",
       "    .dataframe thead th {\n",
       "        text-align: right;\n",
       "    }\n",
       "</style>\n",
       "<table border=\"1\" class=\"dataframe\">\n",
       "  <thead>\n",
       "    <tr style=\"text-align: right;\">\n",
       "      <th></th>\n",
       "      <th>10x10_one</th>\n",
       "      <th>10x10_two</th>\n",
       "      <th>10x10_three</th>\n",
       "      <th>10x10_four</th>\n",
       "      <th>10x10_five</th>\n",
       "    </tr>\n",
       "  </thead>\n",
       "  <tbody>\n",
       "    <tr>\n",
       "      <th>0</th>\n",
       "      <td>734</td>\n",
       "      <td>2482</td>\n",
       "      <td>6203</td>\n",
       "      <td>1179</td>\n",
       "      <td>746</td>\n",
       "    </tr>\n",
       "    <tr>\n",
       "      <th>1</th>\n",
       "      <td>4313</td>\n",
       "      <td>809</td>\n",
       "      <td>1209</td>\n",
       "      <td>869</td>\n",
       "      <td>1239</td>\n",
       "    </tr>\n",
       "    <tr>\n",
       "      <th>2</th>\n",
       "      <td>2840</td>\n",
       "      <td>1489</td>\n",
       "      <td>623</td>\n",
       "      <td>3329</td>\n",
       "      <td>4075</td>\n",
       "    </tr>\n",
       "    <tr>\n",
       "      <th>3</th>\n",
       "      <td>1139</td>\n",
       "      <td>2204</td>\n",
       "      <td>1208</td>\n",
       "      <td>953</td>\n",
       "      <td>1252</td>\n",
       "    </tr>\n",
       "    <tr>\n",
       "      <th>4</th>\n",
       "      <td>1537</td>\n",
       "      <td>4092</td>\n",
       "      <td>4658</td>\n",
       "      <td>1777</td>\n",
       "      <td>1439</td>\n",
       "    </tr>\n",
       "    <tr>\n",
       "      <th>...</th>\n",
       "      <td>...</td>\n",
       "      <td>...</td>\n",
       "      <td>...</td>\n",
       "      <td>...</td>\n",
       "      <td>...</td>\n",
       "    </tr>\n",
       "    <tr>\n",
       "      <th>1995</th>\n",
       "      <td>24</td>\n",
       "      <td>25</td>\n",
       "      <td>16</td>\n",
       "      <td>17</td>\n",
       "      <td>22</td>\n",
       "    </tr>\n",
       "    <tr>\n",
       "      <th>1996</th>\n",
       "      <td>40</td>\n",
       "      <td>22</td>\n",
       "      <td>22</td>\n",
       "      <td>25</td>\n",
       "      <td>20</td>\n",
       "    </tr>\n",
       "    <tr>\n",
       "      <th>1997</th>\n",
       "      <td>30</td>\n",
       "      <td>24</td>\n",
       "      <td>35</td>\n",
       "      <td>22</td>\n",
       "      <td>19</td>\n",
       "    </tr>\n",
       "    <tr>\n",
       "      <th>1998</th>\n",
       "      <td>47</td>\n",
       "      <td>22</td>\n",
       "      <td>27</td>\n",
       "      <td>29</td>\n",
       "      <td>30</td>\n",
       "    </tr>\n",
       "    <tr>\n",
       "      <th>1999</th>\n",
       "      <td>52</td>\n",
       "      <td>20</td>\n",
       "      <td>20</td>\n",
       "      <td>15</td>\n",
       "      <td>29</td>\n",
       "    </tr>\n",
       "  </tbody>\n",
       "</table>\n",
       "<p>2000 rows × 5 columns</p>\n",
       "</div>"
      ],
      "text/plain": [
       "      10x10_one  10x10_two  10x10_three  10x10_four  10x10_five\n",
       "0           734       2482         6203        1179         746\n",
       "1          4313        809         1209         869        1239\n",
       "2          2840       1489          623        3329        4075\n",
       "3          1139       2204         1208         953        1252\n",
       "4          1537       4092         4658        1777        1439\n",
       "...         ...        ...          ...         ...         ...\n",
       "1995         24         25           16          17          22\n",
       "1996         40         22           22          25          20\n",
       "1997         30         24           35          22          19\n",
       "1998         47         22           27          29          30\n",
       "1999         52         20           20          15          29\n",
       "\n",
       "[2000 rows x 5 columns]"
      ]
     },
     "execution_count": 35,
     "metadata": {
      "tags": []
     },
     "output_type": "execute_result"
    }
   ],
   "source": [
    "length_df"
   ]
  },
  {
   "cell_type": "code",
   "execution_count": 36,
   "metadata": {
    "colab": {
     "base_uri": "https://localhost:8080/",
     "height": 419
    },
    "colab_type": "code",
    "id": "UJxPkxR6IziV",
    "outputId": "725474af-d8c9-4986-aff2-4718349374cb"
   },
   "outputs": [
    {
     "data": {
      "text/html": [
       "<div>\n",
       "<style scoped>\n",
       "    .dataframe tbody tr th:only-of-type {\n",
       "        vertical-align: middle;\n",
       "    }\n",
       "\n",
       "    .dataframe tbody tr th {\n",
       "        vertical-align: top;\n",
       "    }\n",
       "\n",
       "    .dataframe thead th {\n",
       "        text-align: right;\n",
       "    }\n",
       "</style>\n",
       "<table border=\"1\" class=\"dataframe\">\n",
       "  <thead>\n",
       "    <tr style=\"text-align: right;\">\n",
       "      <th></th>\n",
       "      <th>10x10_one</th>\n",
       "      <th>10x10_two</th>\n",
       "      <th>10x10_three</th>\n",
       "      <th>10x10_four</th>\n",
       "      <th>10x10_five</th>\n",
       "    </tr>\n",
       "  </thead>\n",
       "  <tbody>\n",
       "    <tr>\n",
       "      <th>0</th>\n",
       "      <td>-2702</td>\n",
       "      <td>-7069</td>\n",
       "      <td>-17765</td>\n",
       "      <td>-4443</td>\n",
       "      <td>-2903</td>\n",
       "    </tr>\n",
       "    <tr>\n",
       "      <th>1</th>\n",
       "      <td>-12734</td>\n",
       "      <td>-2876</td>\n",
       "      <td>-4104</td>\n",
       "      <td>-3377</td>\n",
       "      <td>-4413</td>\n",
       "    </tr>\n",
       "    <tr>\n",
       "      <th>2</th>\n",
       "      <td>-7535</td>\n",
       "      <td>-5140</td>\n",
       "      <td>-2519</td>\n",
       "      <td>-10319</td>\n",
       "      <td>-10534</td>\n",
       "    </tr>\n",
       "    <tr>\n",
       "      <th>3</th>\n",
       "      <td>-4403</td>\n",
       "      <td>-5927</td>\n",
       "      <td>-3914</td>\n",
       "      <td>-2975</td>\n",
       "      <td>-4309</td>\n",
       "    </tr>\n",
       "    <tr>\n",
       "      <th>4</th>\n",
       "      <td>-3721</td>\n",
       "      <td>-11784</td>\n",
       "      <td>-12269</td>\n",
       "      <td>-4987</td>\n",
       "      <td>-3560</td>\n",
       "    </tr>\n",
       "    <tr>\n",
       "      <th>...</th>\n",
       "      <td>...</td>\n",
       "      <td>...</td>\n",
       "      <td>...</td>\n",
       "      <td>...</td>\n",
       "      <td>...</td>\n",
       "    </tr>\n",
       "    <tr>\n",
       "      <th>1995</th>\n",
       "      <td>-3</td>\n",
       "      <td>-4</td>\n",
       "      <td>5</td>\n",
       "      <td>4</td>\n",
       "      <td>-1</td>\n",
       "    </tr>\n",
       "    <tr>\n",
       "      <th>1996</th>\n",
       "      <td>-46</td>\n",
       "      <td>-1</td>\n",
       "      <td>-1</td>\n",
       "      <td>-4</td>\n",
       "      <td>1</td>\n",
       "    </tr>\n",
       "    <tr>\n",
       "      <th>1997</th>\n",
       "      <td>-9</td>\n",
       "      <td>-3</td>\n",
       "      <td>-32</td>\n",
       "      <td>-1</td>\n",
       "      <td>2</td>\n",
       "    </tr>\n",
       "    <tr>\n",
       "      <th>1998</th>\n",
       "      <td>-62</td>\n",
       "      <td>-1</td>\n",
       "      <td>-6</td>\n",
       "      <td>-8</td>\n",
       "      <td>-9</td>\n",
       "    </tr>\n",
       "    <tr>\n",
       "      <th>1999</th>\n",
       "      <td>-67</td>\n",
       "      <td>-8</td>\n",
       "      <td>1</td>\n",
       "      <td>6</td>\n",
       "      <td>-8</td>\n",
       "    </tr>\n",
       "  </tbody>\n",
       "</table>\n",
       "<p>2000 rows × 5 columns</p>\n",
       "</div>"
      ],
      "text/plain": [
       "      10x10_one  10x10_two  10x10_three  10x10_four  10x10_five\n",
       "0         -2702      -7069       -17765       -4443       -2903\n",
       "1        -12734      -2876        -4104       -3377       -4413\n",
       "2         -7535      -5140        -2519      -10319      -10534\n",
       "3         -4403      -5927        -3914       -2975       -4309\n",
       "4         -3721     -11784       -12269       -4987       -3560\n",
       "...         ...        ...          ...         ...         ...\n",
       "1995         -3         -4            5           4          -1\n",
       "1996        -46         -1           -1          -4           1\n",
       "1997         -9         -3          -32          -1           2\n",
       "1998        -62         -1           -6          -8          -9\n",
       "1999        -67         -8            1           6          -8\n",
       "\n",
       "[2000 rows x 5 columns]"
      ]
     },
     "execution_count": 36,
     "metadata": {
      "tags": []
     },
     "output_type": "execute_result"
    }
   ],
   "source": [
    "reward_df"
   ]
  },
  {
   "cell_type": "code",
   "execution_count": 0,
   "metadata": {
    "colab": {},
    "colab_type": "code",
    "id": "ZFJ--NEEFSk8"
   },
   "outputs": [],
   "source": [
    "from google.colab import files\n",
    "length_df.to_csv('10x10_length_result.csv') \n",
    "reward_df.to_csv('10x10_reward_result.csv') \n",
    "# files.download('filename.csv')\n",
    "\n"
   ]
  },
  {
   "cell_type": "code",
   "execution_count": 0,
   "metadata": {
    "colab": {},
    "colab_type": "code",
    "id": "gNpMB2-iMN7S"
   },
   "outputs": [],
   "source": []
  },
  {
   "cell_type": "code",
   "execution_count": 0,
   "metadata": {
    "colab": {},
    "colab_type": "code",
    "id": "gUXWmTwuMOHA"
   },
   "outputs": [],
   "source": []
  },
  {
   "cell_type": "code",
   "execution_count": 0,
   "metadata": {
    "colab": {},
    "colab_type": "code",
    "id": "vbM6WnT9MOKS"
   },
   "outputs": [],
   "source": []
  },
  {
   "cell_type": "code",
   "execution_count": 0,
   "metadata": {
    "colab": {},
    "colab_type": "code",
    "id": "u6rQ_K47MOPk"
   },
   "outputs": [],
   "source": []
  },
  {
   "cell_type": "code",
   "execution_count": 0,
   "metadata": {
    "colab": {},
    "colab_type": "code",
    "id": "rmdGsIHXMOSy"
   },
   "outputs": [],
   "source": []
  },
  {
   "cell_type": "code",
   "execution_count": 0,
   "metadata": {
    "colab": {},
    "colab_type": "code",
    "id": "iDi-1BMcMOYf"
   },
   "outputs": [],
   "source": []
  },
  {
   "cell_type": "code",
   "execution_count": 0,
   "metadata": {
    "colab": {},
    "colab_type": "code",
    "id": "ghYrNvxgMOcK"
   },
   "outputs": [],
   "source": []
  },
  {
   "cell_type": "code",
   "execution_count": 0,
   "metadata": {
    "colab": {},
    "colab_type": "code",
    "id": "qwYeMRYyMOWQ"
   },
   "outputs": [],
   "source": []
  },
  {
   "cell_type": "code",
   "execution_count": 0,
   "metadata": {
    "colab": {},
    "colab_type": "code",
    "id": "9bHPVxrXMONp"
   },
   "outputs": [],
   "source": []
  },
  {
   "cell_type": "code",
   "execution_count": 0,
   "metadata": {
    "colab": {},
    "colab_type": "code",
    "id": "3R3lYnK8MOEU"
   },
   "outputs": [],
   "source": []
  },
  {
   "cell_type": "code",
   "execution_count": 0,
   "metadata": {
    "colab": {},
    "colab_type": "code",
    "id": "5oNzBRSWMOBY"
   },
   "outputs": [],
   "source": []
  },
  {
   "cell_type": "code",
   "execution_count": 0,
   "metadata": {
    "colab": {},
    "colab_type": "code",
    "id": "1UsfEX-HMN_F"
   },
   "outputs": [],
   "source": []
  },
  {
   "cell_type": "code",
   "execution_count": 0,
   "metadata": {
    "colab": {},
    "colab_type": "code",
    "id": "LZNgGH4EMN5L"
   },
   "outputs": [],
   "source": []
  },
  {
   "cell_type": "code",
   "execution_count": 0,
   "metadata": {
    "colab": {},
    "colab_type": "code",
    "id": "uoSr3n4XKde7"
   },
   "outputs": [],
   "source": [
    ">>> gamma = 1\n",
    ">>> alpha = 0.4\n",
    ">>> epsilon = 0.1\n",
    ">>> epsilon_greedy_policy = gen_epsilon_greedy_policy(env.action_space.n, epsilon)"
   ]
  },
  {
   "cell_type": "code",
   "execution_count": 0,
   "metadata": {
    "colab": {},
    "colab_type": "code",
    "id": "6TQHcFPCHpms"
   },
   "outputs": [],
   "source": [
    ">>> optimal_Q, optimal_policy = double_q_learning(env, gamma, n_episode, alpha)"
   ]
  },
  {
   "cell_type": "code",
   "execution_count": 0,
   "metadata": {
    "colab": {},
    "colab_type": "code",
    "id": "nejPtajhB7Cr"
   },
   "outputs": [],
   "source": [
    "# print_frames(frames)"
   ]
  },
  {
   "cell_type": "code",
   "execution_count": 0,
   "metadata": {
    "colab": {},
    "colab_type": "code",
    "id": "BbQc16_gqNru"
   },
   "outputs": [],
   "source": [
    "length_episode_141 = length_episode\n",
    "total_reward_episode_141 = total_reward_episode"
   ]
  },
  {
   "cell_type": "code",
   "execution_count": 0,
   "metadata": {
    "colab": {
     "base_uri": "https://localhost:8080/",
     "height": 514
    },
    "colab_type": "code",
    "id": "gELDHY7l6Ycl",
    "outputId": "6be6d352-a433-4dff-d2f2-203c77b7f03a"
   },
   "outputs": [
    {
     "data": {
      "text/plain": [
       "Text(0, 0.5, 'Length')"
      ]
     },
     "execution_count": 13,
     "metadata": {
      "tags": []
     },
     "output_type": "execute_result"
    },
    {
     "data": {
      "image/png": "[encoded data removed]",
      "text/plain": [
       "<Figure size 1080x576 with 1 Axes>"
      ]
     },
     "metadata": {
      "tags": []
     },
     "output_type": "display_data"
    }
   ],
   "source": [
    "plt.figure(figsize=(15,8))\n",
    "plt.plot(length_episode)\n",
    "plt.xlabel('Episode')\n",
    "plt.ylabel('Length')"
   ]
  },
  {
   "cell_type": "code",
   "execution_count": 0,
   "metadata": {
    "colab": {
     "base_uri": "https://localhost:8080/",
     "height": 514
    },
    "colab_type": "code",
    "id": "8Sc2FK7v6Ycq",
    "outputId": "c778dc47-0469-4cd9-bb2b-e7d0045547ee"
   },
   "outputs": [
    {
     "data": {
      "text/plain": [
       "Text(0, 0.5, 'Total reward')"
      ]
     },
     "execution_count": 14,
     "metadata": {
      "tags": []
     },
     "output_type": "execute_result"
    },
    {
     "data": {
      "image/png": "[encoded data removed]",
      "text/plain": [
       "<Figure size 1080x576 with 1 Axes>"
      ]
     },
     "metadata": {
      "tags": []
     },
     "output_type": "display_data"
    }
   ],
   "source": [
    "plt.figure(figsize=(15,8))\n",
    "plt.plot(total_reward_episode)\n",
    "plt.xlabel('Episode')\n",
    "plt.ylabel('Total reward')"
   ]
  },
  {
   "cell_type": "markdown",
   "metadata": {
    "colab_type": "text",
    "id": "1c-X3tMaGX-b"
   },
   "source": [
    "BOKEHHHHHHHHHHHHH"
   ]
  },
  {
   "cell_type": "code",
   "execution_count": 0,
   "metadata": {
    "colab": {},
    "colab_type": "code",
    "id": "YtCCv9QC258e"
   },
   "outputs": [],
   "source": [
    "from bokeh.layouts import gridplot\n",
    "from bokeh.plotting import figure, output_file, show\n",
    "import numpy as np\n",
    "\n",
    "from bokeh.io import show\n",
    "from bokeh.layouts import column\n",
    "from bokeh.models import ColumnDataSource, RangeTool\n",
    "from bokeh.plotting import figure"
   ]
  },
  {
   "cell_type": "code",
   "execution_count": 0,
   "metadata": {
    "colab": {},
    "colab_type": "code",
    "id": "P5zWoh9L9sMH"
   },
   "outputs": [],
   "source": [
    "Y=np.array(length_episode)\n",
    "Y1=np.array(total_reward_episode)"
   ]
  },
  {
   "cell_type": "code",
   "execution_count": 0,
   "metadata": {
    "colab": {},
    "colab_type": "code",
    "id": "qJaJ_HJixd61"
   },
   "outputs": [],
   "source": [
    "TOOLS = \"pan,wheel_zoom,box_zoom,reset,save,box_select\""
   ]
  },
  {
   "cell_type": "code",
   "execution_count": 0,
   "metadata": {
    "colab": {},
    "colab_type": "code",
    "id": "aqroMqO6xd64"
   },
   "outputs": [],
   "source": [
    "p3 = figure(title=\"Episode length over time New Map_20x20\", tools=TOOLS)"
   ]
  },
  {
   "cell_type": "code",
   "execution_count": 0,
   "metadata": {
    "colab": {
     "base_uri": "https://localhost:8080/",
     "height": 34
    },
    "colab_type": "code",
    "id": "4gfp5PRzxd66",
    "outputId": "52c564b1-32d3-4f31-ef90-8b872af82c6c"
   },
   "outputs": [
    {
     "data": {
      "text/html": [
       "<div style=\"display: table;\"><div style=\"display: table-row;\"><div style=\"display: table-cell;\"><b title=\"bokeh.models.renderers.GlyphRenderer\">GlyphRenderer</b>(</div><div style=\"display: table-cell;\">id&nbsp;=&nbsp;'1038', <span id=\"1050\" style=\"cursor: pointer;\">&hellip;)</span></div></div><div class=\"1049\" style=\"display: none;\"><div style=\"display: table-cell;\"></div><div style=\"display: table-cell;\">data_source&nbsp;=&nbsp;ColumnDataSource(id='1035', ...),</div></div><div class=\"1049\" style=\"display: none;\"><div style=\"display: table-cell;\"></div><div style=\"display: table-cell;\">glyph&nbsp;=&nbsp;Line(id='1036', ...),</div></div><div class=\"1049\" style=\"display: none;\"><div style=\"display: table-cell;\"></div><div style=\"display: table-cell;\">hover_glyph&nbsp;=&nbsp;None,</div></div><div class=\"1049\" style=\"display: none;\"><div style=\"display: table-cell;\"></div><div style=\"display: table-cell;\">js_event_callbacks&nbsp;=&nbsp;{},</div></div><div class=\"1049\" style=\"display: none;\"><div style=\"display: table-cell;\"></div><div style=\"display: table-cell;\">js_property_callbacks&nbsp;=&nbsp;{},</div></div><div class=\"1049\" style=\"display: none;\"><div style=\"display: table-cell;\"></div><div style=\"display: table-cell;\">level&nbsp;=&nbsp;'glyph',</div></div><div class=\"1049\" style=\"display: none;\"><div style=\"display: table-cell;\"></div><div style=\"display: table-cell;\">muted&nbsp;=&nbsp;False,</div></div><div class=\"1049\" style=\"display: none;\"><div style=\"display: table-cell;\"></div><div style=\"display: table-cell;\">muted_glyph&nbsp;=&nbsp;None,</div></div><div class=\"1049\" style=\"display: none;\"><div style=\"display: table-cell;\"></div><div style=\"display: table-cell;\">name&nbsp;=&nbsp;None,</div></div><div class=\"1049\" style=\"display: none;\"><div style=\"display: table-cell;\"></div><div style=\"display: table-cell;\">nonselection_glyph&nbsp;=&nbsp;Line(id='1037', ...),</div></div><div class=\"1049\" style=\"display: none;\"><div style=\"display: table-cell;\"></div><div style=\"display: table-cell;\">selection_glyph&nbsp;=&nbsp;None,</div></div><div class=\"1049\" style=\"display: none;\"><div style=\"display: table-cell;\"></div><div style=\"display: table-cell;\">subscribed_events&nbsp;=&nbsp;[],</div></div><div class=\"1049\" style=\"display: none;\"><div style=\"display: table-cell;\"></div><div style=\"display: table-cell;\">tags&nbsp;=&nbsp;[],</div></div><div class=\"1049\" style=\"display: none;\"><div style=\"display: table-cell;\"></div><div style=\"display: table-cell;\">view&nbsp;=&nbsp;CDSView(id='1039', ...),</div></div><div class=\"1049\" style=\"display: none;\"><div style=\"display: table-cell;\"></div><div style=\"display: table-cell;\">visible&nbsp;=&nbsp;True,</div></div><div class=\"1049\" style=\"display: none;\"><div style=\"display: table-cell;\"></div><div style=\"display: table-cell;\">x_range_name&nbsp;=&nbsp;'default',</div></div><div class=\"1049\" style=\"display: none;\"><div style=\"display: table-cell;\"></div><div style=\"display: table-cell;\">y_range_name&nbsp;=&nbsp;'default')</div></div></div>\n",
       "<script>\n",
       "(function() {\n",
       "  var expanded = false;\n",
       "  var ellipsis = document.getElementById(\"1050\");\n",
       "  ellipsis.addEventListener(\"click\", function() {\n",
       "    var rows = document.getElementsByClassName(\"1049\");\n",
       "    for (var i = 0; i < rows.length; i++) {\n",
       "      var el = rows[i];\n",
       "      el.style.display = expanded ? \"none\" : \"table-row\";\n",
       "    }\n",
       "    ellipsis.innerHTML = expanded ? \"&hellip;)\" : \"&lsaquo;&lsaquo;&lsaquo;\";\n",
       "    expanded = !expanded;\n",
       "  });\n",
       "})();\n",
       "</script>\n"
      ],
      "text/plain": [
       "GlyphRenderer(id='1038', ...)"
      ]
     },
     "execution_count": 21,
     "metadata": {
      "tags": []
     },
     "output_type": "execute_result"
    }
   ],
   "source": [
    "\n",
    "##p3.circle(range(0, 1000), Y, legend_label=\"\")\n",
    "p3.line(range(0, 2000), Y, legend_label=\"\")"
   ]
  },
  {
   "cell_type": "code",
   "execution_count": 0,
   "metadata": {
    "colab": {},
    "colab_type": "code",
    "id": "Lr5MkAYNxd69"
   },
   "outputs": [],
   "source": [
    "p3.legend.title = ''"
   ]
  },
  {
   "cell_type": "code",
   "execution_count": 0,
   "metadata": {
    "colab": {},
    "colab_type": "code",
    "id": "B9dsnR88_y4E"
   },
   "outputs": [],
   "source": [
    "output_file(\"lenght.html\", title=\"Episode length over time New Map\")\n",
    "\n",
    "show(gridplot([p3], ncols=2, plot_width=1000, plot_height=400))  # open a browser"
   ]
  },
  {
   "cell_type": "code",
   "execution_count": 0,
   "metadata": {
    "colab": {},
    "colab_type": "code",
    "id": "7ARfqvq7xd6-"
   },
   "outputs": [],
   "source": [
    "p4 = figure(title=\"Episode reward over time New Map_20x20\", tools=TOOLS)"
   ]
  },
  {
   "cell_type": "code",
   "execution_count": 0,
   "metadata": {
    "colab": {
     "base_uri": "https://localhost:8080/",
     "height": 34
    },
    "colab_type": "code",
    "id": "qyepGTt3xd7A",
    "outputId": "453c029a-3acc-44e1-efcf-af05de9a7339"
   },
   "outputs": [
    {
     "data": {
      "text/html": [
       "<div style=\"display: table;\"><div style=\"display: table-row;\"><div style=\"display: table-cell;\"><b title=\"bokeh.models.renderers.GlyphRenderer\">GlyphRenderer</b>(</div><div style=\"display: table-cell;\">id&nbsp;=&nbsp;'1261', <span id=\"1273\" style=\"cursor: pointer;\">&hellip;)</span></div></div><div class=\"1272\" style=\"display: none;\"><div style=\"display: table-cell;\"></div><div style=\"display: table-cell;\">data_source&nbsp;=&nbsp;ColumnDataSource(id='1258', ...),</div></div><div class=\"1272\" style=\"display: none;\"><div style=\"display: table-cell;\"></div><div style=\"display: table-cell;\">glyph&nbsp;=&nbsp;Line(id='1259', ...),</div></div><div class=\"1272\" style=\"display: none;\"><div style=\"display: table-cell;\"></div><div style=\"display: table-cell;\">hover_glyph&nbsp;=&nbsp;None,</div></div><div class=\"1272\" style=\"display: none;\"><div style=\"display: table-cell;\"></div><div style=\"display: table-cell;\">js_event_callbacks&nbsp;=&nbsp;{},</div></div><div class=\"1272\" style=\"display: none;\"><div style=\"display: table-cell;\"></div><div style=\"display: table-cell;\">js_property_callbacks&nbsp;=&nbsp;{},</div></div><div class=\"1272\" style=\"display: none;\"><div style=\"display: table-cell;\"></div><div style=\"display: table-cell;\">level&nbsp;=&nbsp;'glyph',</div></div><div class=\"1272\" style=\"display: none;\"><div style=\"display: table-cell;\"></div><div style=\"display: table-cell;\">muted&nbsp;=&nbsp;False,</div></div><div class=\"1272\" style=\"display: none;\"><div style=\"display: table-cell;\"></div><div style=\"display: table-cell;\">muted_glyph&nbsp;=&nbsp;None,</div></div><div class=\"1272\" style=\"display: none;\"><div style=\"display: table-cell;\"></div><div style=\"display: table-cell;\">name&nbsp;=&nbsp;None,</div></div><div class=\"1272\" style=\"display: none;\"><div style=\"display: table-cell;\"></div><div style=\"display: table-cell;\">nonselection_glyph&nbsp;=&nbsp;Line(id='1260', ...),</div></div><div class=\"1272\" style=\"display: none;\"><div style=\"display: table-cell;\"></div><div style=\"display: table-cell;\">selection_glyph&nbsp;=&nbsp;None,</div></div><div class=\"1272\" style=\"display: none;\"><div style=\"display: table-cell;\"></div><div style=\"display: table-cell;\">subscribed_events&nbsp;=&nbsp;[],</div></div><div class=\"1272\" style=\"display: none;\"><div style=\"display: table-cell;\"></div><div style=\"display: table-cell;\">tags&nbsp;=&nbsp;[],</div></div><div class=\"1272\" style=\"display: none;\"><div style=\"display: table-cell;\"></div><div style=\"display: table-cell;\">view&nbsp;=&nbsp;CDSView(id='1262', ...),</div></div><div class=\"1272\" style=\"display: none;\"><div style=\"display: table-cell;\"></div><div style=\"display: table-cell;\">visible&nbsp;=&nbsp;True,</div></div><div class=\"1272\" style=\"display: none;\"><div style=\"display: table-cell;\"></div><div style=\"display: table-cell;\">x_range_name&nbsp;=&nbsp;'default',</div></div><div class=\"1272\" style=\"display: none;\"><div style=\"display: table-cell;\"></div><div style=\"display: table-cell;\">y_range_name&nbsp;=&nbsp;'default')</div></div></div>\n",
       "<script>\n",
       "(function() {\n",
       "  var expanded = false;\n",
       "  var ellipsis = document.getElementById(\"1273\");\n",
       "  ellipsis.addEventListener(\"click\", function() {\n",
       "    var rows = document.getElementsByClassName(\"1272\");\n",
       "    for (var i = 0; i < rows.length; i++) {\n",
       "      var el = rows[i];\n",
       "      el.style.display = expanded ? \"none\" : \"table-row\";\n",
       "    }\n",
       "    ellipsis.innerHTML = expanded ? \"&hellip;)\" : \"&lsaquo;&lsaquo;&lsaquo;\";\n",
       "    expanded = !expanded;\n",
       "  });\n",
       "})();\n",
       "</script>\n"
      ],
      "text/plain": [
       "GlyphRenderer(id='1261', ...)"
      ]
     },
     "execution_count": 28,
     "metadata": {
      "tags": []
     },
     "output_type": "execute_result"
    }
   ],
   "source": [
    "##p4.circle(range(0, 1000),Y1, legend_label=\"\",color=\"orange\")\n",
    "p4.line(range(0, 2000),Y1, legend_label=\"\",color=\"orange\")"
   ]
  },
  {
   "cell_type": "code",
   "execution_count": 0,
   "metadata": {
    "colab": {},
    "colab_type": "code",
    "id": "-UAvYAJKxd7C"
   },
   "outputs": [],
   "source": [
    "p4.legend.title = ''"
   ]
  },
  {
   "cell_type": "code",
   "execution_count": 0,
   "metadata": {
    "colab": {},
    "colab_type": "code",
    "id": "KJkcGBjTxd7E"
   },
   "outputs": [],
   "source": [
    "output_file(\"reward.html\", title=\"Episode length over time New Map\")\n",
    "\n",
    "show(gridplot([p4], ncols=2, plot_width=1000, plot_height=400))  # open a browser"
   ]
  },
  {
   "cell_type": "code",
   "execution_count": 0,
   "metadata": {
    "colab": {},
    "colab_type": "code",
    "id": "yRPe0EHu9ARr"
   },
   "outputs": [],
   "source": []
  },
  {
   "cell_type": "code",
   "execution_count": 0,
   "metadata": {
    "colab": {},
    "colab_type": "code",
    "id": "RLebJnd39AUk"
   },
   "outputs": [],
   "source": []
  },
  {
   "cell_type": "code",
   "execution_count": 0,
   "metadata": {
    "colab": {},
    "colab_type": "code",
    "id": "hXJdqNN-9AaY"
   },
   "outputs": [],
   "source": []
  },
  {
   "cell_type": "code",
   "execution_count": 0,
   "metadata": {
    "colab": {},
    "colab_type": "code",
    "id": "R-1JzCF09Axj"
   },
   "outputs": [],
   "source": []
  },
  {
   "cell_type": "code",
   "execution_count": 0,
   "metadata": {
    "colab": {},
    "colab_type": "code",
    "id": "KoSpaJtC9Apg"
   },
   "outputs": [],
   "source": []
  },
  {
   "cell_type": "code",
   "execution_count": 0,
   "metadata": {
    "colab": {},
    "colab_type": "code",
    "id": "Bvlg5cNb9AmL"
   },
   "outputs": [],
   "source": []
  },
  {
   "cell_type": "markdown",
   "metadata": {
    "colab_type": "text",
    "id": "PYkA1tliGT3L"
   },
   "source": [
    "TUNE"
   ]
  },
  {
   "cell_type": "markdown",
   "metadata": {
    "colab_type": "text",
    "id": "ujIkFKMs4fIA"
   },
   "source": [
    "Gamma = 1, Alpha = 0.4, Epsilon = 0.4\n",
    "\n",
    "\n",
    "144\n"
   ]
  },
  {
   "cell_type": "code",
   "execution_count": 0,
   "metadata": {
    "colab": {},
    "colab_type": "code",
    "id": "i_OYThAcNkFh"
   },
   "outputs": [],
   "source": [
    ">>> n_episode = 1000\n",
    ">>> length_episode = [0] * n_episode\n",
    ">>> total_reward_episode = [0] * n_episode"
   ]
  },
  {
   "cell_type": "code",
   "execution_count": 0,
   "metadata": {
    "colab": {},
    "colab_type": "code",
    "id": "l4rgvV0FNkFm"
   },
   "outputs": [],
   "source": [
    ">>> gamma = 1\n",
    ">>> alpha = 0.4\n",
    ">>> epsilon = 0.4\n",
    ">>> epsilon_greedy_policy = gen_epsilon_greedy_policy(env.action_space.n, epsilon)"
   ]
  },
  {
   "cell_type": "code",
   "execution_count": 0,
   "metadata": {
    "colab": {},
    "colab_type": "code",
    "id": "aodqFgkBNkFo"
   },
   "outputs": [],
   "source": [
    ">>> optimal_Q, optimal_policy = double_q_learning(env, gamma, n_episode, alpha)"
   ]
  },
  {
   "cell_type": "code",
   "execution_count": 0,
   "metadata": {
    "colab": {},
    "colab_type": "code",
    "id": "jOuT-DSVNkFr"
   },
   "outputs": [],
   "source": [
    "length_episode_144 = length_episode\n",
    "total_reward_episode_144 = total_reward_episode"
   ]
  },
  {
   "cell_type": "code",
   "execution_count": 0,
   "metadata": {
    "colab": {},
    "colab_type": "code",
    "id": "WJUTXJ8FNkFt"
   },
   "outputs": [],
   "source": [
    "plt.figure(figsize=(15,8))\n",
    "plt.plot(length_episode)\n",
    "plt.xlabel('Episode')\n",
    "plt.ylabel('Length')"
   ]
  },
  {
   "cell_type": "code",
   "execution_count": 0,
   "metadata": {
    "colab": {},
    "colab_type": "code",
    "id": "UeCGQDQENkFw"
   },
   "outputs": [],
   "source": [
    "plt.figure(figsize=(15,8))\n",
    "plt.plot(total_reward_episode)\n",
    "plt.xlabel('Episode')\n",
    "plt.ylabel('Total reward')"
   ]
  },
  {
   "cell_type": "code",
   "execution_count": 0,
   "metadata": {
    "colab": {},
    "colab_type": "code",
    "id": "m4l53w8GNfI4"
   },
   "outputs": [],
   "source": []
  },
  {
   "cell_type": "markdown",
   "metadata": {
    "colab_type": "text",
    "id": "Mrqbw26V47TO"
   },
   "source": [
    "Gamma = 1, Alpha = 0.1, Epsilon = 0.4\n",
    "\n",
    "\n",
    "114\n"
   ]
  },
  {
   "cell_type": "code",
   "execution_count": 0,
   "metadata": {
    "colab": {},
    "colab_type": "code",
    "id": "Artrco0aNyVs"
   },
   "outputs": [],
   "source": [
    ">>> n_episode = 1000\n",
    ">>> length_episode = [0] * n_episode\n",
    ">>> total_reward_episode = [0] * n_episode"
   ]
  },
  {
   "cell_type": "code",
   "execution_count": 0,
   "metadata": {
    "colab": {},
    "colab_type": "code",
    "id": "UXjkzozDNyVy"
   },
   "outputs": [],
   "source": [
    ">>> gamma = 1\n",
    ">>> alpha = 0.1\n",
    ">>> epsilon = 0.4\n",
    ">>> epsilon_greedy_policy = gen_epsilon_greedy_policy(env.action_space.n, epsilon)"
   ]
  },
  {
   "cell_type": "code",
   "execution_count": 0,
   "metadata": {
    "colab": {},
    "colab_type": "code",
    "id": "AG7rcnd6NyV0"
   },
   "outputs": [],
   "source": [
    ">>> optimal_Q, optimal_policy = double_q_learning(env, gamma, n_episode, alpha)"
   ]
  },
  {
   "cell_type": "code",
   "execution_count": 0,
   "metadata": {
    "colab": {},
    "colab_type": "code",
    "id": "L_ZezbtjNyV3"
   },
   "outputs": [],
   "source": [
    "length_episode_114 = length_episode\n",
    "total_reward_episode_114 = total_reward_episode"
   ]
  },
  {
   "cell_type": "code",
   "execution_count": 0,
   "metadata": {
    "colab": {},
    "colab_type": "code",
    "id": "lDNrakq4NyV6"
   },
   "outputs": [],
   "source": [
    "plt.figure(figsize=(15,8))\n",
    "plt.plot(length_episode)\n",
    "plt.xlabel('Episode')\n",
    "plt.ylabel('Length')"
   ]
  },
  {
   "cell_type": "code",
   "execution_count": 0,
   "metadata": {
    "colab": {},
    "colab_type": "code",
    "id": "94NDFj6iNyV8"
   },
   "outputs": [],
   "source": [
    "plt.figure(figsize=(15,8))\n",
    "plt.plot(total_reward_episode)\n",
    "plt.xlabel('Episode')\n",
    "plt.ylabel('Total reward')"
   ]
  },
  {
   "cell_type": "code",
   "execution_count": 0,
   "metadata": {
    "colab": {},
    "colab_type": "code",
    "id": "J-FiKQejNfLa"
   },
   "outputs": [],
   "source": []
  },
  {
   "cell_type": "markdown",
   "metadata": {
    "colab_type": "text",
    "id": "DylTicmw59CZ"
   },
   "source": [
    "Gamma = 1, Alpha = 0.1, Epsilon = 0.1\n",
    "\n",
    "\n",
    "111"
   ]
  },
  {
   "cell_type": "code",
   "execution_count": 0,
   "metadata": {
    "colab": {},
    "colab_type": "code",
    "id": "sJJ1IL9xNy_H"
   },
   "outputs": [],
   "source": [
    ">>> n_episode = 1000\n",
    ">>> length_episode = [0] * n_episode\n",
    ">>> total_reward_episode = [0] * n_episode"
   ]
  },
  {
   "cell_type": "code",
   "execution_count": 0,
   "metadata": {
    "colab": {},
    "colab_type": "code",
    "id": "uiLFNzqoNy_K"
   },
   "outputs": [],
   "source": [
    ">>> gamma = 1\n",
    ">>> alpha = 0.1\n",
    ">>> epsilon = 0.1\n",
    ">>> epsilon_greedy_policy = gen_epsilon_greedy_policy(env.action_space.n, epsilon)"
   ]
  },
  {
   "cell_type": "code",
   "execution_count": 0,
   "metadata": {
    "colab": {},
    "colab_type": "code",
    "id": "LCNV3a97Ny_N"
   },
   "outputs": [],
   "source": [
    ">>> optimal_Q, optimal_policy = double_q_learning(env, gamma, n_episode, alpha)"
   ]
  },
  {
   "cell_type": "code",
   "execution_count": 0,
   "metadata": {
    "colab": {},
    "colab_type": "code",
    "id": "VrXBnAh0Ny_Q"
   },
   "outputs": [],
   "source": [
    "length_episode_111 = length_episode\n",
    "total_reward_episode_111 = total_reward_episode"
   ]
  },
  {
   "cell_type": "code",
   "execution_count": 0,
   "metadata": {
    "colab": {},
    "colab_type": "code",
    "id": "Q6QoPNZoNy_S"
   },
   "outputs": [],
   "source": [
    "plt.figure(figsize=(15,8))\n",
    "plt.plot(length_episode)\n",
    "plt.xlabel('Episode')\n",
    "plt.ylabel('Length')"
   ]
  },
  {
   "cell_type": "code",
   "execution_count": 0,
   "metadata": {
    "colab": {},
    "colab_type": "code",
    "id": "7_VLwPeRNy_V"
   },
   "outputs": [],
   "source": [
    "plt.figure(figsize=(15,8))\n",
    "plt.plot(total_reward_episode)\n",
    "plt.xlabel('Episode')\n",
    "plt.ylabel('Total reward')"
   ]
  },
  {
   "cell_type": "code",
   "execution_count": 0,
   "metadata": {
    "colab": {},
    "colab_type": "code",
    "id": "G09_uuLrVhiv"
   },
   "outputs": [],
   "source": []
  },
  {
   "cell_type": "code",
   "execution_count": 0,
   "metadata": {
    "colab": {},
    "colab_type": "code",
    "id": "fdm1-XHkOJL3"
   },
   "outputs": [],
   "source": []
  },
  {
   "cell_type": "markdown",
   "metadata": {
    "colab_type": "text",
    "id": "GrTGdOnU6HiB"
   },
   "source": [
    "Length vs episode plot for :\n",
    "141,144,111,114\n",
    "\n",
    "\n"
   ]
  },
  {
   "cell_type": "code",
   "execution_count": 0,
   "metadata": {
    "colab": {},
    "colab_type": "code",
    "id": "sPttsoG_OJWm"
   },
   "outputs": [],
   "source": [
    "plt.figure(figsize=(10,7))\n",
    "plt.plot(length_episode_141, color='#1E1E1E')\n",
    "plt.figure(figsize=(10,7))\n",
    "plt.plot(length_episode_144, color='#1E1E1E')\n",
    "plt.figure(figsize=(10,7))\n",
    "plt.plot(length_episode_111, color='#1E1E1E')\n",
    "plt.figure(figsize=(10,7))\n",
    "plt.plot(length_episode_114, color='#1E1E1E')\n",
    "plt.xlabel('Episode')\n",
    "plt.ylabel('Length')"
   ]
  },
  {
   "cell_type": "code",
   "execution_count": 0,
   "metadata": {
    "colab": {},
    "colab_type": "code",
    "id": "HZzTOSL1OJcy"
   },
   "outputs": [],
   "source": []
  },
  {
   "cell_type": "markdown",
   "metadata": {
    "colab_type": "text",
    "id": "6X_Js14-6Pjs"
   },
   "source": [
    "Total Reward vs episode plot for :\n",
    "141,144,111,114"
   ]
  },
  {
   "cell_type": "code",
   "execution_count": 0,
   "metadata": {
    "colab": {},
    "colab_type": "code",
    "id": "2XvfNfWIOJVR"
   },
   "outputs": [],
   "source": [
    "plt.figure(figsize=(10,7))\n",
    "plt.plot(total_reward_episode_141, color='#1E1E1E')\n",
    "plt.figure(figsize=(10,7))\n",
    "plt.plot(total_reward_episode_144, color='#1E1E1E')\n",
    "plt.figure(figsize=(10,7))\n",
    "plt.plot(total_reward_episode_111, color='#1E1E1E')\n",
    "plt.figure(figsize=(10,7))\n",
    "plt.plot(total_reward_episode_114, color='#1E1E1E')\n",
    "plt.xlabel('Episode')\n",
    "plt.ylabel('Length')"
   ]
  },
  {
   "cell_type": "code",
   "execution_count": 0,
   "metadata": {
    "colab": {},
    "colab_type": "code",
    "id": "F4z4YrmoOJR3"
   },
   "outputs": [],
   "source": []
  }
 ],
 "metadata": {
  "accelerator": "GPU",
  "colab": {
   "collapsed_sections": [],
   "name": "DoubleQ_10x10.ipynb",
   "provenance": []
  },
  "kernelspec": {
   "display_name": "Python 3",
   "language": "python",
   "name": "python3"
  },
  "language_info": {
   "codemirror_mode": {
    "name": "ipython",
    "version": 3
   },
   "file_extension": ".py",
   "mimetype": "text/x-python",
   "name": "python",
   "nbconvert_exporter": "python",
   "pygments_lexer": "ipython3",
   "version": "3.7.4"
  }
 },
 "nbformat": 4,
 "nbformat_minor": 1
}
