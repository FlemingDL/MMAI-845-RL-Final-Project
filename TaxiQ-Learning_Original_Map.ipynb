{
 "cells": [
  {
   "cell_type": "code",
   "execution_count": 1,
   "metadata": {},
   "outputs": [],
   "source": [
    "import sys\n",
    "from contextlib import closing\n",
    "from six import StringIO\n",
    "from gym import utils\n",
    "from gym.envs.toy_text import discrete\n",
    "import numpy as np\n",
    "from collections import defaultdict"
   ]
  },
  {
   "cell_type": "code",
   "execution_count": 2,
   "metadata": {},
   "outputs": [],
   "source": [
    "MAP = [\n",
    "    \"+---------+\",\n",
    "    \"|R: | : :G|\",\n",
    "    \"| : | : : |\",\n",
    "    \"| : : : : |\",\n",
    "    \"| | : | : |\",\n",
    "    \"|Y| : |B: |\",\n",
    "    \"+---------+\",\n",
    "]\n"
   ]
  },
  {
   "cell_type": "code",
   "execution_count": 3,
   "metadata": {},
   "outputs": [],
   "source": [
    "\n",
    "class TaxiEnv(discrete.DiscreteEnv):\n",
    "    \"\"\"\n",
    "    The Taxi Problem\n",
    "    from \"Hierarchical Reinforcement Learning with the MAXQ Value Function Decomposition\"\n",
    "    by Tom Dietterich\n",
    "    Description:\n",
    "    There are four designated locations in the grid world indicated by R(ed), G(reen), Y(ellow), and B(lue). When the episode starts, the taxi starts off at a random square and the passenger is at a random location. The taxi drives to the passenger's location, picks up the passenger, drives to the passenger's destination (another one of the four specified locations), and then drops off the passenger. Once the passenger is dropped off, the episode ends.\n",
    "    Observations: \n",
    "    There are 500 discrete states since there are 25 taxi positions, 5 possible locations of the passenger (including the case when the passenger is in the taxi), and 4 destination locations. \n",
    "    \n",
    "    Passenger locations:\n",
    "    - 0: R(ed)\n",
    "    - 1: G(reen)\n",
    "    - 2: Y(ellow)\n",
    "    - 3: B(lue)\n",
    "    - 4: in taxi\n",
    "    \n",
    "    Destinations:\n",
    "    - 0: R(ed)\n",
    "    - 1: G(reen)\n",
    "    - 2: Y(ellow)\n",
    "    - 3: B(lue)\n",
    "        \n",
    "    Actions:\n",
    "    There are 6 discrete deterministic actions:\n",
    "    - 0: move south\n",
    "    - 1: move north\n",
    "    - 2: move east \n",
    "    - 3: move west \n",
    "    - 4: pickup passenger\n",
    "    - 5: dropoff passenger\n",
    "    \n",
    "    Rewards: \n",
    "    There is a reward of -1 for each action and an additional reward of +20 for delivering the passenger. There is a reward of -10 for executing actions \"pickup\" and \"dropoff\" illegally.\n",
    "    \n",
    "    Rendering:\n",
    "    - blue: passenger\n",
    "    - magenta: destination\n",
    "    - yellow: empty taxi\n",
    "    - green: full taxi\n",
    "    - other letters (R, G, Y and B): locations for passengers and destinations\n",
    "    \n",
    "    state space is represented by:\n",
    "        (taxi_row, taxi_col, passenger_location, destination)\n",
    "    \"\"\"\n",
    "    metadata = {'render.modes': ['human', 'ansi']}"
   ]
  },
  {
   "cell_type": "code",
   "execution_count": 4,
   "metadata": {},
   "outputs": [],
   "source": [
    "  def __init__(self):\n",
    "        self.desc = np.asarray(MAP, dtype='c')\n",
    "\n",
    "        self.locs = locs = [(0,0), (0,4), (4,0), (4,3)]\n",
    "\n",
    "        num_states = 500\n",
    "        num_rows = 5\n",
    "        num_columns = 5\n",
    "        max_row = num_rows - 1\n",
    "        max_col = num_columns - 1\n",
    "        initial_state_distrib = np.zeros(num_states)\n",
    "        num_actions = 6\n",
    "        P = {state: {action: []\n",
    "                     for action in range(num_actions)} for state in range(num_states)}\n",
    "        for row in range(num_rows):\n",
    "            for col in range(num_columns):\n",
    "                for pass_idx in range(len(locs) + 1):  # +1 for being inside taxi\n",
    "                    for dest_idx in range(len(locs)):\n",
    "                        state = self.encode(row, col, pass_idx, dest_idx)\n",
    "                        if pass_idx < 4 and pass_idx != dest_idx:\n",
    "                            initial_state_distrib[state] += 1\n",
    "                        for action in range(num_actions):\n",
    "                            # defaults\n",
    "                            new_row, new_col, new_pass_idx = row, col, pass_idx\n",
    "                            reward = -1 # default reward when there is no pickup/dropoff\n",
    "                            done = False\n",
    "                            taxi_loc = (row, col)\n",
    "\n",
    "                            if action == 0:\n",
    "                                new_row = min(row + 1, max_row)\n",
    "                            elif action == 1:\n",
    "                                new_row = max(row - 1, 0)\n",
    "                            if action == 2 and self.desc[1 + row, 2 * col + 2] == b\":\":\n",
    "                                new_col = min(col + 1, max_col)\n",
    "                            elif action == 3 and self.desc[1 + row, 2 * col] == b\":\":\n",
    "                                new_col = max(col - 1, 0)\n",
    "                            elif action == 4:  # pickup\n",
    "                                if (pass_idx < 4 and taxi_loc == locs[pass_idx]):\n",
    "                                    new_pass_idx = 4\n",
    "                                else: # passenger not at location\n",
    "                                    reward = -10\n",
    "                            elif action == 5:  # dropoff\n",
    "                                if (taxi_loc == locs[dest_idx]) and pass_idx == 4:\n",
    "                                    new_pass_idx = dest_idx\n",
    "                                    done = True\n",
    "                                    reward = 20\n",
    "                                elif (taxi_loc in locs) and pass_idx == 4:\n",
    "                                    new_pass_idx = locs.index(taxi_loc)\n",
    "                                else: # dropoff at wrong location\n",
    "                                    reward = -10\n",
    "                            new_state = self.encode(\n",
    "                                new_row, new_col, new_pass_idx, dest_idx)\n",
    "                            P[state][action].append(\n",
    "                                (1.0, new_state, reward, done))\n",
    "        initial_state_distrib /= initial_state_distrib.sum()\n",
    "        discrete.DiscreteEnv.__init__(\n",
    "            self, num_states, num_actions, P, initial_state_distrib)"
   ]
  },
  {
   "cell_type": "code",
   "execution_count": 5,
   "metadata": {},
   "outputs": [],
   "source": [
    "    def encode(self, taxi_row, taxi_col, pass_loc, dest_idx):\n",
    "        # (5) 5, 5, 4\n",
    "        i = taxi_row\n",
    "        i *= 5\n",
    "        i += taxi_col\n",
    "        i *= 5\n",
    "        i += pass_loc\n",
    "        i *= 4\n",
    "        i += dest_idx\n",
    "        return i"
   ]
  },
  {
   "cell_type": "code",
   "execution_count": 6,
   "metadata": {},
   "outputs": [],
   "source": [
    "   def decode(self, i):\n",
    "        out = []\n",
    "        out.append(i % 4)\n",
    "        i = i // 4\n",
    "        out.append(i % 5)\n",
    "        i = i // 5\n",
    "        out.append(i % 5)\n",
    "        i = i // 5\n",
    "        out.append(i)\n",
    "        assert 0 <= i < 5\n",
    "        return reversed(out)"
   ]
  },
  {
   "cell_type": "code",
   "execution_count": null,
   "metadata": {},
   "outputs": [],
   "source": []
  },
  {
   "cell_type": "code",
   "execution_count": 7,
   "metadata": {},
   "outputs": [],
   "source": [
    "    def render(self, mode='human'):\n",
    "        outfile = StringIO() if mode == 'ansi' else sys.stdout\n",
    "\n",
    "        out = self.desc.copy().tolist()\n",
    "        out = [[c.decode('utf-8') for c in line] for line in out]\n",
    "        taxi_row, taxi_col, pass_idx, dest_idx = self.decode(self.s)\n",
    "\n",
    "        def ul(x): return \"_\" if x == \" \" else x\n",
    "        if pass_idx < 4:\n",
    "            out[1 + taxi_row][2 * taxi_col + 1] = utils.colorize(\n",
    "                out[1 + taxi_row][2 * taxi_col + 1], 'yellow', highlight=True)\n",
    "            pi, pj = self.locs[pass_idx]\n",
    "            out[1 + pi][2 * pj + 1] = utils.colorize(out[1 + pi][2 * pj + 1], 'blue', bold=True)\n",
    "        else:  # passenger in taxi\n",
    "            out[1 + taxi_row][2 * taxi_col + 1] = utils.colorize(\n",
    "                ul(out[1 + taxi_row][2 * taxi_col + 1]), 'green', highlight=True)\n",
    "\n",
    "        di, dj = self.locs[dest_idx]\n",
    "        out[1 + di][2 * dj + 1] = utils.colorize(out[1 + di][2 * dj + 1], 'magenta')\n",
    "        outfile.write(\"\\n\".join([\"\".join(row) for row in out]) + \"\\n\")\n",
    "        if self.lastaction is not None:\n",
    "            outfile.write(\"  ({})\\n\".format([\"South\", \"North\", \"East\", \"West\", \"Pickup\", \"Dropoff\"][self.lastaction]))\n",
    "        else: outfile.write(\"\\n\")\n",
    "\n",
    "        # No need to return anything for human\n",
    "        if mode != 'human':\n",
    "            with closing(outfile):\n",
    "                return outfile.getvalue()"
   ]
  },
  {
   "cell_type": "code",
   "execution_count": 8,
   "metadata": {},
   "outputs": [
    {
     "name": "stdout",
     "output_type": "stream",
     "text": [
      "500\n"
     ]
    }
   ],
   "source": [
    ">>> import gym\n",
    ">>> env = gym.make('Taxi-v3')\n",
    ">>> n_state = env.observation_space.n\n",
    ">>> print(n_state)"
   ]
  },
  {
   "cell_type": "code",
   "execution_count": 9,
   "metadata": {},
   "outputs": [
    {
     "name": "stdout",
     "output_type": "stream",
     "text": [
      "6\n"
     ]
    }
   ],
   "source": [
    ">>> n_action = env.action_space.n\n",
    ">>> print(n_action)"
   ]
  },
  {
   "cell_type": "code",
   "execution_count": 10,
   "metadata": {},
   "outputs": [
    {
     "data": {
      "text/plain": [
       "84"
      ]
     },
     "execution_count": 10,
     "metadata": {},
     "output_type": "execute_result"
    }
   ],
   "source": [
    ">>> env.reset()"
   ]
  },
  {
   "cell_type": "code",
   "execution_count": 11,
   "metadata": {},
   "outputs": [
    {
     "name": "stdout",
     "output_type": "stream",
     "text": [
      "+---------+\n",
      "|\u001b[35mR\u001b[0m: | : :\u001b[34;1m\u001b[43mG\u001b[0m\u001b[0m|\n",
      "| : | : : |\n",
      "| : : : : |\n",
      "| | : | : |\n",
      "|Y| : |B: |\n",
      "+---------+\n",
      "\n"
     ]
    }
   ],
   "source": [
    ">>> env.render()"
   ]
  },
  {
   "cell_type": "code",
   "execution_count": 12,
   "metadata": {},
   "outputs": [
    {
     "name": "stdout",
     "output_type": "stream",
     "text": [
      "(64, -1, False, {'prob': 1.0})\n",
      "(44, -1, False, {'prob': 1.0})\n",
      "(44, -1, False, {'prob': 1.0})\n",
      "(44, -1, False, {'prob': 1.0})\n",
      "(44, -1, False, {'prob': 1.0})\n",
      "(44, -10, False, {'prob': 1.0})\n"
     ]
    }
   ],
   "source": [
    "##Let's now go and pick up the passenger by heading west for three tiles and north for two tiles##\n",
    "##(you can adjust this according to your initial state) and then executing the pick-up. Then, we render the environment again##\n",
    "print(env.step(3))\n",
    "print(env.step(3))\n",
    "print(env.step(3))\n",
    "print(env.step(1))\n",
    "print(env.step(1))\n",
    "print(env.step(4))\n"
   ]
  },
  {
   "cell_type": "code",
   "execution_count": 13,
   "metadata": {},
   "outputs": [
    {
     "name": "stdout",
     "output_type": "stream",
     "text": [
      "+---------+\n",
      "|\u001b[35mR\u001b[0m: |\u001b[43m \u001b[0m: :\u001b[34;1mG\u001b[0m|\n",
      "| : | : : |\n",
      "| : : : : |\n",
      "| | : | : |\n",
      "|Y| : |B: |\n",
      "+---------+\n",
      "  (Pickup)\n"
     ]
    }
   ],
   "source": [
    ">>> env.render()"
   ]
  },
  {
   "cell_type": "code",
   "execution_count": 14,
   "metadata": {},
   "outputs": [],
   "source": [
    "##Now, we go to the destination by heading south for four tiles (you can adjust this to your initial state) and then executing the drop-off:"
   ]
  },
  {
   "cell_type": "code",
   "execution_count": 15,
   "metadata": {},
   "outputs": [
    {
     "name": "stdout",
     "output_type": "stream",
     "text": [
      "(144, -1, False, {'prob': 1.0})\n",
      "(244, -1, False, {'prob': 1.0})\n",
      "(344, -1, False, {'prob': 1.0})\n",
      "(444, -1, False, {'prob': 1.0})\n",
      "(444, -10, False, {'prob': 1.0})\n"
     ]
    }
   ],
   "source": [
    ">>> print(env.step(0))\n",
    ">>> print(env.step(0))\n",
    ">>> print(env.step(0))\n",
    ">>> print(env.step(0))\n",
    ">>> print(env.step(5))"
   ]
  },
  {
   "cell_type": "code",
   "execution_count": 16,
   "metadata": {},
   "outputs": [
    {
     "name": "stdout",
     "output_type": "stream",
     "text": [
      "+---------+\n",
      "|\u001b[35mR\u001b[0m: | : :\u001b[34;1mG\u001b[0m|\n",
      "| : | : : |\n",
      "| : : : : |\n",
      "| | : | : |\n",
      "|Y| :\u001b[43m \u001b[0m|B: |\n",
      "+---------+\n",
      "  (Dropoff)\n"
     ]
    }
   ],
   "source": [
    ">>> env.render()"
   ]
  },
  {
   "cell_type": "code",
   "execution_count": 17,
   "metadata": {},
   "outputs": [],
   "source": [
    ">>> import torch"
   ]
  },
  {
   "cell_type": "markdown",
   "metadata": {},
   "source": [
    "## start defining the epsilon-greedy policy. ##"
   ]
  },
  {
   "cell_type": "code",
   "execution_count": 18,
   "metadata": {},
   "outputs": [],
   "source": [
    ">>> def gen_epsilon_greedy_policy(n_action, epsilon):\n",
    "        def policy_function(state, Q):\n",
    "            probs = torch.ones(n_action) * epsilon / n_action\n",
    "            best_action = torch.argmax(Q[state]).item()\n",
    "            probs[best_action] += 1.0 - epsilon\n",
    "            action = torch.multinomial(probs, 1).item()\n",
    "            return action\n",
    "        return policy_function"
   ]
  },
  {
   "cell_type": "markdown",
   "metadata": {},
   "source": [
    "##Now, we specify the number of episodes and initialize two variables used to track the length and total reward for each episode##"
   ]
  },
  {
   "cell_type": "code",
   "execution_count": 19,
   "metadata": {},
   "outputs": [],
   "source": [
    ">>> n_episode = 500\n",
    ">>> length_episode = [0] * n_episode\n",
    ">>> total_reward_episode = [0] * n_episode"
   ]
  },
  {
   "cell_type": "markdown",
   "metadata": {},
   "source": [
    "## Now, define the function that performs Q-learning:##"
   ]
  },
  {
   "cell_type": "code",
   "execution_count": 20,
   "metadata": {},
   "outputs": [],
   "source": [
    ">>> def q_learning(env, gamma, n_episode, alpha):\n",
    "        n_action = env.action_space.n\n",
    "        Q = defaultdict(lambda: torch.zeros(n_action))\n",
    "        for episode in range(n_episode):\n",
    "            state = env.reset()\n",
    "            is_done = False\n",
    "            while not is_done:\n",
    "                action = epsilon_greedy_policy(state, Q)\n",
    "                next_state, reward, is_done, info = env.step(action)\n",
    "                td_delta = reward + gamma * torch.max(Q[next_state])- Q[state][action]\n",
    "                Q[state][action] += alpha * td_delta\n",
    "                if is_done:\n",
    "                    break\n",
    "                state = next_state\n",
    "                policy = {}\n",
    "        for state, actions in Q.items():\n",
    "            policy[state] = torch.argmax(actions).item()\n",
    "        return Q, policy"
   ]
  },
  {
   "cell_type": "code",
   "execution_count": null,
   "metadata": {},
   "outputs": [],
   "source": []
  },
  {
   "cell_type": "code",
   "execution_count": 21,
   "metadata": {},
   "outputs": [],
   "source": [
    ">>> def q_learning(env, gamma, n_episode, alpha):\n",
    "        n_action = env.action_space.n\n",
    "        Q = defaultdict(lambda: torch.zeros(n_action))\n",
    "        for episode in range(n_episode):\n",
    "            state = env.reset()\n",
    "            is_done = False\n",
    "            while not is_done:\n",
    "                action = epsilon_greedy_policy(state, Q)\n",
    "                next_state, reward, is_done, info = env.step(action)\n",
    "                td_delta = reward + gamma * torch.max(Q[next_state])- Q[state][action]\n",
    "                Q[state][action] += alpha * td_delta\n",
    "                length_episode[episode] += 1\n",
    "                total_reward_episode[episode] += reward\n",
    "                if is_done:\n",
    "                    break\n",
    "                state = next_state\n",
    "        policy = {}\n",
    "        for state, actions in Q.items():\n",
    "                policy[state] = torch.argmax(actions).item()\n",
    "        return Q, policy"
   ]
  },
  {
   "cell_type": "code",
   "execution_count": 22,
   "metadata": {},
   "outputs": [],
   "source": [
    ">>> gamma = 1\n",
    ">>> alpha = 0.4\n",
    ">>> epsilon = 0.1\n",
    ">>> epsilon_greedy_policy = gen_epsilon_greedy_policy(env.action_space.n, epsilon)"
   ]
  },
  {
   "cell_type": "code",
   "execution_count": 23,
   "metadata": {},
   "outputs": [],
   "source": [
    "optimal_Q, optimal_policy = q_learning(env, gamma, n_episode, alpha)"
   ]
  },
  {
   "cell_type": "code",
   "execution_count": 24,
   "metadata": {
    "scrolled": true
   },
   "outputs": [
    {
     "name": "stdout",
     "output_type": "stream",
     "text": [
      "The optimal policy:\n",
      " {203: 1, 223: 3, 103: 1, 123: 3, 3: 4, 19: 0, 23: 3, 303: 1, 243: 3, 323: 1, 39: 0, 119: 2, 139: 0, 403: 2, 263: 3, 143: 0, 163: 3, 43: 1, 63: 1, 343: 1, 423: 0, 443: 3, 283: 3, 183: 1, 83: 4, 363: 1, 383: 1, 27: 2, 7: 0, 127: 0, 107: 2, 227: 2, 207: 2, 247: 2, 147: 0, 167: 2, 187: 1, 287: 1, 267: 2, 327: 2, 347: 1, 307: 2, 47: 2, 67: 2, 427: 2, 447: 3, 407: 3, 87: 4, 99: 0, 367: 2, 387: 1, 33: 0, 13: 3, 133: 0, 113: 1, 233: 2, 213: 2, 313: 3, 253: 2, 333: 1, 353: 1, 273: 0, 153: 2, 173: 0, 53: 3, 73: 0, 433: 3, 453: 1, 293: 0, 193: 0, 93: 0, 373: 0, 393: 0, 134: 1, 114: 4, 34: 1, 14: 1, 234: 2, 214: 2, 254: 2, 274: 0, 174: 0, 154: 0, 194: 0, 94: 1, 74: 0, 54: 0, 354: 1, 334: 2, 454: 2, 314: 1, 414: 3, 434: 2, 294: 0, 374: 0, 6: 3, 26: 2, 126: 0, 106: 2, 206: 2, 226: 2, 246: 2, 306: 1, 326: 2, 346: 1, 266: 1, 146: 2, 46: 0, 66: 2, 166: 2, 426: 2, 446: 1, 406: 1, 286: 1, 186: 1, 86: 4, 98: 0, 78: 3, 58: 0, 366: 0, 386: 1, 492: 3, 472: 4, 476: 1, 496: 1, 376: 1, 396: 3, 276: 3, 256: 3, 236: 3, 216: 1, 316: 1, 296: 3, 176: 0, 156: 0, 196: 0, 76: 3, 56: 0, 96: 0, 84: 4, 392: 0, 372: 0, 292: 3, 272: 0, 252: 2, 192: 3, 172: 0, 152: 2, 92: 3, 72: 1, 52: 5, 232: 2, 212: 2, 352: 1, 332: 1, 132: 0, 112: 2, 198: 0, 178: 3, 158: 0, 258: 3, 238: 3, 218: 0, 278: 3, 486: 2, 466: 3, 298: 3, 394: 0, 474: 4, 478: 1, 494: 3, 498: 3, 378: 1, 398: 1, 358: 3, 338: 1, 138: 0, 118: 0, 38: 0, 18: 0, 2: 4, 438: 2, 458: 2, 318: 0, 412: 2, 312: 3, 12: 3, 32: 4, 432: 3, 452: 1, 356: 0, 336: 1, 136: 3, 116: 1, 36: 0, 16: 5, 0: 5, 22: 3, 122: 3, 102: 1, 202: 1, 222: 1, 413: 3, 473: 4, 477: 1, 493: 3, 497: 2, 377: 1, 397: 1, 277: 1, 257: 1, 237: 2, 337: 1, 357: 1, 217: 2, 297: 1, 242: 3, 342: 3, 322: 1, 418: 5, 410: 5, 141: 0, 161: 5, 41: 0, 61: 0, 241: 3, 221: 1, 201: 1, 301: 1, 121: 3, 101: 1, 21: 3, 1: 4, 17: 0, 321: 1, 341: 3, 261: 3, 181: 3, 81: 2, 281: 3, 361: 1, 381: 3, 481: 2, 461: 1, 441: 2, 421: 1, 401: 1, 37: 0, 117: 2, 137: 0, 317: 1, 417: 1, 409: 4, 309: 0, 389: 1, 369: 1, 289: 3, 269: 3, 249: 3, 229: 3, 209: 0, 189: 1, 169: 1, 149: 1, 89: 0, 69: 3, 49: 1, 489: 2, 469: 2, 349: 3, 329: 1, 129: 0, 109: 0, 29: 2, 9: 0, 402: 3, 302: 1, 262: 3, 142: 0, 162: 0, 42: 0, 62: 0, 182: 0, 422: 1, 442: 1, 282: 3, 362: 1, 382: 0, 82: 3, 462: 1, 482: 0, 64: 2, 184: 1, 164: 2, 144: 2, 44: 2, 284: 1, 264: 1, 244: 2, 224: 2, 204: 2, 384: 1, 364: 1, 344: 1, 124: 0, 24: 2, 4: 3, 104: 1, 324: 2, 304: 0, 424: 4, 444: 0, 484: 1, 464: 1, 404: 0, 197: 1, 177: 1, 157: 2, 97: 5, 85: 5, 456: 2, 436: 3, 239: 2, 219: 2, 259: 2, 279: 0, 319: 1, 339: 1, 359: 1, 459: 1, 439: 2, 419: 1, 411: 4, 311: 0, 211: 0, 231: 3, 111: 0, 131: 3, 11: 0, 31: 2, 251: 3, 331: 1, 351: 3, 271: 3, 291: 3, 191: 3, 171: 0, 151: 0, 51: 3, 57: 2, 77: 2, 437: 1, 457: 2, 368: 1, 388: 3, 268: 3, 248: 3, 228: 3, 208: 0, 288: 3, 168: 0, 148: 0, 188: 0, 68: 0, 48: 0, 88: 3, 468: 1, 488: 1, 348: 3, 328: 1, 128: 3, 108: 0, 28: 0, 8: 0, 308: 0, 448: 1, 449: 0, 429: 2, 408: 4, 416: 1, 79: 0, 59: 3, 199: 3, 179: 0, 159: 2, 467: 0, 487: 1, 299: 3, 399: 3, 379: 0, 499: 1, 479: 5, 475: 5, 463: 1, 483: 0, 428: 1, 71: 1, 91: 3, 371: 1, 391: 3, 491: 2, 471: 0, 451: 2, 431: 1}\n"
     ]
    }
   ],
   "source": [
    ">>> print('The optimal policy:\\n', optimal_policy)"
   ]
  },
  {
   "cell_type": "code",
   "execution_count": 25,
   "metadata": {},
   "outputs": [
    {
     "data": {
      "text/plain": [
       "<Figure size 640x480 with 1 Axes>"
      ]
     },
     "metadata": {},
     "output_type": "display_data"
    }
   ],
   "source": [
    ">>> import matplotlib.pyplot as plt\n",
    ">>> plt.plot(length_episode)\n",
    ">>> plt.title('Episode length over time')\n",
    ">>> plt.xlabel('Episode')\n",
    ">>> plt.ylabel('Length')\n",
    ">>> plt.show()"
   ]
  },
  {
   "cell_type": "code",
   "execution_count": 26,
   "metadata": {},
   "outputs": [
    {
     "name": "stdout",
     "output_type": "stream",
     "text": [
      "[200, 200, 200, 200, 200, 200, 200, 200, 200, 200, 177, 200, 200, 194, 200, 200, 200, 200, 200, 200, 200, 200, 97, 200, 140, 200, 200, 193, 200, 200, 200, 60, 200, 147, 124, 200, 200, 90, 162, 85, 170, 154, 200, 142, 132, 194, 200, 94, 200, 144, 165, 200, 135, 194, 200, 94, 200, 198, 160, 200, 171, 51, 48, 92, 70, 200, 74, 116, 97, 60, 115, 180, 147, 99, 200, 195, 84, 200, 141, 200, 137, 200, 61, 200, 130, 200, 200, 187, 15, 87, 134, 67, 137, 106, 111, 50, 13, 47, 107, 138, 116, 114, 138, 113, 36, 157, 200, 83, 187, 200, 45, 32, 105, 164, 68, 38, 36, 67, 89, 23, 7, 120, 134, 200, 87, 100, 15, 93, 122, 18, 94, 19, 10, 93, 200, 186, 17, 128, 84, 153, 10, 26, 17, 194, 24, 44, 115, 71, 137, 109, 7, 37, 200, 129, 171, 11, 146, 28, 15, 23, 130, 96, 61, 20, 188, 92, 31, 34, 51, 35, 110, 127, 71, 22, 92, 121, 32, 28, 83, 64, 27, 141, 25, 72, 14, 57, 38, 7, 65, 23, 54, 17, 53, 9, 26, 46, 21, 168, 22, 80, 34, 15, 24, 40, 102, 24, 40, 83, 113, 10, 12, 52, 61, 64, 26, 33, 40, 21, 13, 41, 19, 17, 137, 42, 20, 29, 76, 21, 92, 18, 56, 34, 23, 116, 11, 27, 23, 48, 37, 19, 26, 83, 31, 18, 18, 79, 19, 16, 18, 49, 19, 14, 91, 27, 10, 18, 79, 13, 12, 43, 42, 19, 41, 17, 64, 29, 9, 20, 33, 29, 13, 15, 13, 46, 13, 11, 27, 15, 15, 25, 25, 31, 16, 10, 78, 13, 15, 38, 15, 27, 23, 20, 26, 10, 50, 30, 22, 60, 17, 14, 17, 48, 27, 20, 18, 15, 17, 22, 39, 12, 25, 13, 22, 16, 31, 47, 14, 20, 60, 78, 24, 21, 12, 40, 14, 22, 16, 13, 49, 13, 41, 16, 16, 11, 15, 21, 16, 26, 22, 23, 22, 12, 52, 27, 23, 18, 15, 16, 33, 19, 20, 13, 16, 21, 27, 16, 21, 14, 41, 23, 35, 10, 14, 12, 20, 15, 12, 15, 16, 18, 53, 18, 10, 14, 16, 17, 22, 14, 16, 7, 17, 16, 31, 14, 22, 19, 32, 13, 13, 19, 16, 22, 33, 13, 15, 13, 16, 29, 22, 25, 17, 29, 24, 17, 15, 30, 16, 13, 15, 13, 13, 14, 26, 18, 19, 11, 25, 16, 30, 8, 16, 15, 14, 14, 11, 11, 13, 14, 13, 12, 14, 11, 9, 15, 18, 19, 9, 18, 9, 21, 14, 14, 20, 37, 18, 11, 21, 13, 19, 11, 13, 19, 17, 15, 19, 10, 20, 22, 13, 20, 21, 20, 16, 15, 12, 26, 15, 15, 25, 23, 15, 12, 13, 11, 20, 16, 13, 16, 19, 19, 12, 21, 25, 17, 18, 15, 15, 28, 15, 11, 20, 34, 15, 13, 14, 22, 17, 17, 14, 21]\n"
     ]
    }
   ],
   "source": [
    "print(length_episode)"
   ]
  },
  {
   "cell_type": "code",
   "execution_count": null,
   "metadata": {},
   "outputs": [],
   "source": []
  },
  {
   "cell_type": "code",
   "execution_count": 27,
   "metadata": {},
   "outputs": [],
   "source": [
    "import numpy as np\n",
    "\n",
    "from bokeh.io import show\n",
    "from bokeh.layouts import column\n",
    "from bokeh.models import ColumnDataSource, RangeTool\n",
    "from bokeh.plotting import figure"
   ]
  },
  {
   "cell_type": "code",
   "execution_count": 28,
   "metadata": {},
   "outputs": [],
   "source": [
    "Y=np.array(length_episode)"
   ]
  },
  {
   "cell_type": "code",
   "execution_count": 29,
   "metadata": {},
   "outputs": [],
   "source": [
    "p = figure(plot_height=300, plot_width=800, tools=\"xpan\", toolbar_location=None,\n",
    "           x_axis_type=\"linear\", x_axis_location=\"above\",\n",
    "           background_fill_color=\"#efefef\", x_range=(50,150))"
   ]
  },
  {
   "cell_type": "code",
   "execution_count": 30,
   "metadata": {},
   "outputs": [],
   "source": [
    "p.line(range(0, 500),Y)\n",
    "p.yaxis.axis_label = 'Length'"
   ]
  },
  {
   "cell_type": "code",
   "execution_count": 31,
   "metadata": {},
   "outputs": [],
   "source": [
    "select = figure(title=\"Drag the middle and edges of the selection box to change the range above\",\n",
    "                plot_height=130, plot_width=800, y_range=p.y_range,\n",
    "                x_axis_type=\"linear\", y_axis_type=None,\n",
    "                tools=\"\", toolbar_location=None, background_fill_color=\"#efefef\")"
   ]
  },
  {
   "cell_type": "code",
   "execution_count": 32,
   "metadata": {},
   "outputs": [],
   "source": [
    "range_tool = RangeTool(x_range=p.x_range)\n",
    "range_tool.overlay.fill_color = \"navy\"\n",
    "range_tool.overlay.fill_alpha = 0.2"
   ]
  },
  {
   "cell_type": "code",
   "execution_count": 33,
   "metadata": {},
   "outputs": [],
   "source": [
    "select.line(range(0, 500),Y)\n",
    "select.ygrid.grid_line_color = None\n",
    "select.add_tools(range_tool)\n",
    "select.toolbar.active_multi = range_tool"
   ]
  },
  {
   "cell_type": "code",
   "execution_count": 34,
   "metadata": {},
   "outputs": [],
   "source": [
    "show(column(p, select))"
   ]
  },
  {
   "cell_type": "code",
   "execution_count": null,
   "metadata": {},
   "outputs": [],
   "source": []
  },
  {
   "cell_type": "code",
   "execution_count": 35,
   "metadata": {},
   "outputs": [
    {
     "data": {
      "image/png": "[encoded data removed]",
      "text/plain": [
       "<Figure size 432x288 with 1 Axes>"
      ]
     },
     "metadata": {
      "needs_background": "light"
     },
     "output_type": "display_data"
    }
   ],
   "source": [
    ">>> plt.plot(total_reward_episode)\n",
    ">>> plt.title('Episode reward over time')\n",
    ">>> plt.xlabel('Episode')\n",
    ">>> plt.ylabel('Total reward')\n",
    ">>> plt.show()"
   ]
  },
  {
   "cell_type": "code",
   "execution_count": 36,
   "metadata": {},
   "outputs": [
    {
     "name": "stdout",
     "output_type": "stream",
     "text": [
      "[-704, -632, -659, -623, -668, -848, -443, -506, -227, -254, -390, -335, -479, -281, -659, -371, -254, -272, -659, -578, -488, -434, -121, -263, -164, -272, -677, -316, -641, -290, -290, -66, -236, -198, -157, -254, -389, -87, -204, -73, -203, -196, -272, -139, -138, -191, -245, -154, -353, -204, -198, -263, -114, -245, -254, -73, -308, -249, -319, -236, -204, -30, -54, -107, -49, -434, -71, -203, -157, -57, -157, -240, -153, -105, -245, -426, -81, -254, -174, -308, -134, -314, -58, -308, -127, -281, -245, -202, 6, -75, -167, -55, -215, -112, -108, -38, 8, -26, -212, -180, -122, -111, -234, -137, -24, -172, -209, -116, -211, -281, -42, -74, -129, -188, -56, -26, -33, -91, -86, -11, 14, -252, -176, -434, -75, -169, -3, -108, -254, -6, -73, -7, 11, -153, -425, -309, -5, -170, -144, -258, 11, -5, -5, -218, -12, -23, -175, -77, -179, -142, 14, -34, -272, -162, -267, 10, -242, -16, 6, -11, -253, -93, -58, -26, -203, -80, -37, -22, -48, -23, -125, -241, -77, -1, -125, -154, -20, -7, -116, -43, -42, -165, -4, -51, -2, -72, -26, 14, -53, -2, -42, -5, -50, 12, -5, -43, -36, -219, -1, -77, -49, 6, -30, -64, -99, -3, -28, -80, -128, 11, 9, -40, -49, -70, -23, -21, -28, 0, 8, -38, 2, 4, -197, -30, 1, -8, -91, 0, -152, 3, -44, -13, -11, -140, 10, -24, -2, -54, -16, -7, -14, -71, -19, 3, -6, -94, -16, 5, 3, -55, -7, -11, -88, -6, 11, -6, -112, -1, 9, -49, -30, 2, -29, 4, -88, -17, 12, 1, -21, -17, -1, -3, -1, -34, 8, 10, -24, -3, 6, -22, -4, -10, -4, 11, -102, -1, -3, -17, -3, -33, -2, -8, -23, 2, -47, -18, -37, -102, 4, 7, 4, -90, -51, -8, -6, 6, 4, -19, -63, 9, -4, 8, -1, 5, -19, -44, 7, -26, -57, -57, -12, 0, 9, -37, -2, -10, 5, 8, -55, -1, -29, 5, -4, 10, -3, 0, -13, -5, -1, -2, -10, 9, -76, -15, -20, -6, -3, -4, -30, -16, 1, 8, 5, -18, -24, -13, 0, 7, -38, -11, -41, 11, -2, 0, -8, -3, 9, 6, 5, 3, -50, 3, 11, 7, 5, -5, -1, -11, 5, 14, -5, 5, -37, 7, -55, -7, -20, -1, -1, 2, 5, -10, -30, -10, 6, 8, -4, -17, -1, -13, 4, -26, -21, 4, 6, -36, 5, 8, 6, 8, 8, 7, -5, 3, -7, 10, -13, 5, -18, 13, 5, -3, 7, -2, 1, 10, 8, 7, -10, 9, 7, 10, 12, 6, -6, 2, 12, 3, 12, -9, -2, 7, 1, -34, -15, 10, -9, -1, 2, 10, 8, 2, -5, -3, -34, 11, -17, -1, 8, 1, -9, 1, 5, 6, 0, -41, 6, 6, -22, -11, 6, 9, 8, 1, -8, 5, -1, 5, -7, -7, 9, 0, -13, -5, -6, -3, 6, -25, 6, 10, -17, -40, 6, 8, 7, -19, -5, 4, 7, 0]\n"
     ]
    }
   ],
   "source": [
    "print(total_reward_episode)"
   ]
  },
  {
   "cell_type": "code",
   "execution_count": 37,
   "metadata": {},
   "outputs": [],
   "source": [
    "Y1=np.array(total_reward_episode)"
   ]
  },
  {
   "cell_type": "code",
   "execution_count": 38,
   "metadata": {},
   "outputs": [],
   "source": [
    "p2 = figure(plot_height=300, plot_width=800, tools=\"xpan\", toolbar_location=None,\n",
    "           x_axis_type=\"linear\", x_axis_location=\"above\",\n",
    "           background_fill_color=\"#efefef\", x_range=(50,150))"
   ]
  },
  {
   "cell_type": "code",
   "execution_count": 39,
   "metadata": {},
   "outputs": [],
   "source": [
    "p2.line(range(0, 500),Y1)\n",
    "p2.yaxis.axis_label = 'Total reward'"
   ]
  },
  {
   "cell_type": "code",
   "execution_count": 40,
   "metadata": {},
   "outputs": [],
   "source": [
    "select = figure(title=\"Drag the middle and edges of the selection box to change the range above\",\n",
    "                plot_height=130, plot_width=800, y_range=p2.y_range,\n",
    "                x_axis_type=\"linear\", y_axis_type=None,\n",
    "                tools=\"\", toolbar_location=None, background_fill_color=\"#efefef\")"
   ]
  },
  {
   "cell_type": "code",
   "execution_count": 41,
   "metadata": {},
   "outputs": [],
   "source": [
    "range_tool = RangeTool(x_range=p2.x_range)\n",
    "range_tool.overlay.fill_color = \"navy\"\n",
    "range_tool.overlay.fill_alpha = 0.2"
   ]
  },
  {
   "cell_type": "code",
   "execution_count": 42,
   "metadata": {},
   "outputs": [],
   "source": [
    "select.line(range(0, 500),Y1)\n",
    "select.ygrid.grid_line_color = None\n",
    "select.add_tools(range_tool)\n",
    "select.toolbar.active_multi = range_tool"
   ]
  },
  {
   "cell_type": "code",
   "execution_count": 43,
   "metadata": {},
   "outputs": [],
   "source": [
    "show(column(p2, select))"
   ]
  },
  {
   "cell_type": "markdown",
   "metadata": {},
   "source": [
    "##Bonus Track##"
   ]
  },
  {
   "cell_type": "code",
   "execution_count": 57,
   "metadata": {},
   "outputs": [],
   "source": [
    "from bokeh.layouts import gridplot\n",
    "from bokeh.plotting import figure, output_file, show"
   ]
  },
  {
   "cell_type": "code",
   "execution_count": 58,
   "metadata": {},
   "outputs": [],
   "source": [
    "TOOLS = \"pan,wheel_zoom,box_zoom,reset,save,box_select\""
   ]
  },
  {
   "cell_type": "code",
   "execution_count": 59,
   "metadata": {},
   "outputs": [],
   "source": [
    "p3 = figure(title=\"Episode length over time\", tools=TOOLS)"
   ]
  },
  {
   "cell_type": "code",
   "execution_count": 60,
   "metadata": {},
   "outputs": [
    {
     "data": {
      "text/html": [
       "<div style=\"display: table;\"><div style=\"display: table-row;\"><div style=\"display: table-cell;\"><b title=\"bokeh.models.renderers.GlyphRenderer\">GlyphRenderer</b>(</div><div style=\"display: table-cell;\">id&nbsp;=&nbsp;'2025', <span id=\"2037\" style=\"cursor: pointer;\">&hellip;)</span></div></div><div class=\"2036\" style=\"display: none;\"><div style=\"display: table-cell;\"></div><div style=\"display: table-cell;\">data_source&nbsp;=&nbsp;ColumnDataSource(id='2022', ...),</div></div><div class=\"2036\" style=\"display: none;\"><div style=\"display: table-cell;\"></div><div style=\"display: table-cell;\">glyph&nbsp;=&nbsp;Line(id='2023', ...),</div></div><div class=\"2036\" style=\"display: none;\"><div style=\"display: table-cell;\"></div><div style=\"display: table-cell;\">hover_glyph&nbsp;=&nbsp;None,</div></div><div class=\"2036\" style=\"display: none;\"><div style=\"display: table-cell;\"></div><div style=\"display: table-cell;\">js_event_callbacks&nbsp;=&nbsp;{},</div></div><div class=\"2036\" style=\"display: none;\"><div style=\"display: table-cell;\"></div><div style=\"display: table-cell;\">js_property_callbacks&nbsp;=&nbsp;{},</div></div><div class=\"2036\" style=\"display: none;\"><div style=\"display: table-cell;\"></div><div style=\"display: table-cell;\">level&nbsp;=&nbsp;'glyph',</div></div><div class=\"2036\" style=\"display: none;\"><div style=\"display: table-cell;\"></div><div style=\"display: table-cell;\">muted&nbsp;=&nbsp;False,</div></div><div class=\"2036\" style=\"display: none;\"><div style=\"display: table-cell;\"></div><div style=\"display: table-cell;\">muted_glyph&nbsp;=&nbsp;None,</div></div><div class=\"2036\" style=\"display: none;\"><div style=\"display: table-cell;\"></div><div style=\"display: table-cell;\">name&nbsp;=&nbsp;None,</div></div><div class=\"2036\" style=\"display: none;\"><div style=\"display: table-cell;\"></div><div style=\"display: table-cell;\">nonselection_glyph&nbsp;=&nbsp;Line(id='2024', ...),</div></div><div class=\"2036\" style=\"display: none;\"><div style=\"display: table-cell;\"></div><div style=\"display: table-cell;\">selection_glyph&nbsp;=&nbsp;None,</div></div><div class=\"2036\" style=\"display: none;\"><div style=\"display: table-cell;\"></div><div style=\"display: table-cell;\">subscribed_events&nbsp;=&nbsp;[],</div></div><div class=\"2036\" style=\"display: none;\"><div style=\"display: table-cell;\"></div><div style=\"display: table-cell;\">tags&nbsp;=&nbsp;[],</div></div><div class=\"2036\" style=\"display: none;\"><div style=\"display: table-cell;\"></div><div style=\"display: table-cell;\">view&nbsp;=&nbsp;CDSView(id='2026', ...),</div></div><div class=\"2036\" style=\"display: none;\"><div style=\"display: table-cell;\"></div><div style=\"display: table-cell;\">visible&nbsp;=&nbsp;True,</div></div><div class=\"2036\" style=\"display: none;\"><div style=\"display: table-cell;\"></div><div style=\"display: table-cell;\">x_range_name&nbsp;=&nbsp;'default',</div></div><div class=\"2036\" style=\"display: none;\"><div style=\"display: table-cell;\"></div><div style=\"display: table-cell;\">y_range_name&nbsp;=&nbsp;'default')</div></div></div>\n",
       "<script>\n",
       "(function() {\n",
       "  var expanded = false;\n",
       "  var ellipsis = document.getElementById(\"2037\");\n",
       "  ellipsis.addEventListener(\"click\", function() {\n",
       "    var rows = document.getElementsByClassName(\"2036\");\n",
       "    for (var i = 0; i < rows.length; i++) {\n",
       "      var el = rows[i];\n",
       "      el.style.display = expanded ? \"none\" : \"table-row\";\n",
       "    }\n",
       "    ellipsis.innerHTML = expanded ? \"&hellip;)\" : \"&lsaquo;&lsaquo;&lsaquo;\";\n",
       "    expanded = !expanded;\n",
       "  });\n",
       "})();\n",
       "</script>\n"
      ],
      "text/plain": [
       "GlyphRenderer(id='2025', ...)"
      ]
     },
     "execution_count": 60,
     "metadata": {},
     "output_type": "execute_result"
    }
   ],
   "source": [
    "\n",
    "##p3.circle(range(0, 500), Y, legend_label=\"\")\n",
    "p3.line(range(0, 500), Y, legend_label=\"\")"
   ]
  },
  {
   "cell_type": "code",
   "execution_count": 61,
   "metadata": {},
   "outputs": [],
   "source": [
    "p3.legend.title = ''"
   ]
  },
  {
   "cell_type": "code",
   "execution_count": 62,
   "metadata": {},
   "outputs": [],
   "source": [
    "p4 = figure(title=\"Episode reward over time\", tools=TOOLS)"
   ]
  },
  {
   "cell_type": "code",
   "execution_count": 63,
   "metadata": {},
   "outputs": [
    {
     "data": {
      "text/html": [
       "<div style=\"display: table;\"><div style=\"display: table-row;\"><div style=\"display: table-cell;\"><b title=\"bokeh.models.renderers.GlyphRenderer\">GlyphRenderer</b>(</div><div style=\"display: table-cell;\">id&nbsp;=&nbsp;'2075', <span id=\"2087\" style=\"cursor: pointer;\">&hellip;)</span></div></div><div class=\"2086\" style=\"display: none;\"><div style=\"display: table-cell;\"></div><div style=\"display: table-cell;\">data_source&nbsp;=&nbsp;ColumnDataSource(id='2072', ...),</div></div><div class=\"2086\" style=\"display: none;\"><div style=\"display: table-cell;\"></div><div style=\"display: table-cell;\">glyph&nbsp;=&nbsp;Line(id='2073', ...),</div></div><div class=\"2086\" style=\"display: none;\"><div style=\"display: table-cell;\"></div><div style=\"display: table-cell;\">hover_glyph&nbsp;=&nbsp;None,</div></div><div class=\"2086\" style=\"display: none;\"><div style=\"display: table-cell;\"></div><div style=\"display: table-cell;\">js_event_callbacks&nbsp;=&nbsp;{},</div></div><div class=\"2086\" style=\"display: none;\"><div style=\"display: table-cell;\"></div><div style=\"display: table-cell;\">js_property_callbacks&nbsp;=&nbsp;{},</div></div><div class=\"2086\" style=\"display: none;\"><div style=\"display: table-cell;\"></div><div style=\"display: table-cell;\">level&nbsp;=&nbsp;'glyph',</div></div><div class=\"2086\" style=\"display: none;\"><div style=\"display: table-cell;\"></div><div style=\"display: table-cell;\">muted&nbsp;=&nbsp;False,</div></div><div class=\"2086\" style=\"display: none;\"><div style=\"display: table-cell;\"></div><div style=\"display: table-cell;\">muted_glyph&nbsp;=&nbsp;None,</div></div><div class=\"2086\" style=\"display: none;\"><div style=\"display: table-cell;\"></div><div style=\"display: table-cell;\">name&nbsp;=&nbsp;None,</div></div><div class=\"2086\" style=\"display: none;\"><div style=\"display: table-cell;\"></div><div style=\"display: table-cell;\">nonselection_glyph&nbsp;=&nbsp;Line(id='2074', ...),</div></div><div class=\"2086\" style=\"display: none;\"><div style=\"display: table-cell;\"></div><div style=\"display: table-cell;\">selection_glyph&nbsp;=&nbsp;None,</div></div><div class=\"2086\" style=\"display: none;\"><div style=\"display: table-cell;\"></div><div style=\"display: table-cell;\">subscribed_events&nbsp;=&nbsp;[],</div></div><div class=\"2086\" style=\"display: none;\"><div style=\"display: table-cell;\"></div><div style=\"display: table-cell;\">tags&nbsp;=&nbsp;[],</div></div><div class=\"2086\" style=\"display: none;\"><div style=\"display: table-cell;\"></div><div style=\"display: table-cell;\">view&nbsp;=&nbsp;CDSView(id='2076', ...),</div></div><div class=\"2086\" style=\"display: none;\"><div style=\"display: table-cell;\"></div><div style=\"display: table-cell;\">visible&nbsp;=&nbsp;True,</div></div><div class=\"2086\" style=\"display: none;\"><div style=\"display: table-cell;\"></div><div style=\"display: table-cell;\">x_range_name&nbsp;=&nbsp;'default',</div></div><div class=\"2086\" style=\"display: none;\"><div style=\"display: table-cell;\"></div><div style=\"display: table-cell;\">y_range_name&nbsp;=&nbsp;'default')</div></div></div>\n",
       "<script>\n",
       "(function() {\n",
       "  var expanded = false;\n",
       "  var ellipsis = document.getElementById(\"2087\");\n",
       "  ellipsis.addEventListener(\"click\", function() {\n",
       "    var rows = document.getElementsByClassName(\"2086\");\n",
       "    for (var i = 0; i < rows.length; i++) {\n",
       "      var el = rows[i];\n",
       "      el.style.display = expanded ? \"none\" : \"table-row\";\n",
       "    }\n",
       "    ellipsis.innerHTML = expanded ? \"&hellip;)\" : \"&lsaquo;&lsaquo;&lsaquo;\";\n",
       "    expanded = !expanded;\n",
       "  });\n",
       "})();\n",
       "</script>\n"
      ],
      "text/plain": [
       "GlyphRenderer(id='2075', ...)"
      ]
     },
     "execution_count": 63,
     "metadata": {},
     "output_type": "execute_result"
    }
   ],
   "source": [
    "##p4.circle(range(0, 500),Y1, legend_label=\"\",color=\"orange\")\n",
    "p4.line(range(0, 500),Y1, legend_label=\"\",color=\"orange\")"
   ]
  },
  {
   "cell_type": "code",
   "execution_count": 64,
   "metadata": {},
   "outputs": [],
   "source": [
    "p4.legend.title = ''"
   ]
  },
  {
   "cell_type": "code",
   "execution_count": 65,
   "metadata": {},
   "outputs": [],
   "source": [
    "output_file(\"lenght.html\", title=\"Episode length over time\")\n",
    "\n",
    "show(gridplot([p3,p4], ncols=2, plot_width=400, plot_height=400))  # open a browser"
   ]
  },
  {
   "cell_type": "code",
   "execution_count": null,
   "metadata": {},
   "outputs": [],
   "source": []
  }
 ],
 "metadata": {
  "kernelspec": {
   "display_name": "Python 3",
   "language": "python",
   "name": "python3"
  },
  "language_info": {
   "codemirror_mode": {
    "name": "ipython",
    "version": 3
   },
   "file_extension": ".py",
   "mimetype": "text/x-python",
   "name": "python",
   "nbconvert_exporter": "python",
   "pygments_lexer": "ipython3",
   "version": "3.7.3"
  }
 },
 "nbformat": 4,
 "nbformat_minor": 2
}
