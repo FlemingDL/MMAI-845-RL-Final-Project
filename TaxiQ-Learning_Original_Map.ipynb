{
 "cells": [
  {
   "cell_type": "code",
   "execution_count": 56,
   "metadata": {},
   "outputs": [],
   "source": [
    "import sys\n",
    "from contextlib import closing\n",
    "from six import StringIO\n",
    "from gym import utils\n",
    "from gym.envs.toy_text import discrete\n",
    "import numpy as np\n",
    "from collections import defaultdict"
   ]
  },
  {
   "cell_type": "code",
   "execution_count": 57,
   "metadata": {},
   "outputs": [],
   "source": [
    "MAP = [\n",
    "    \"+---------+\",\n",
    "    \"|R: | : :G|\",\n",
    "    \"| : | : : |\",\n",
    "    \"| : : : : |\",\n",
    "    \"| | : | : |\",\n",
    "    \"|Y| : |B: |\",\n",
    "    \"+---------+\",\n",
    "]\n"
   ]
  },
  {
   "cell_type": "code",
   "execution_count": 58,
   "metadata": {},
   "outputs": [],
   "source": [
    "\n",
    "class TaxiEnv(discrete.DiscreteEnv):\n",
    "    \"\"\"\n",
    "    The Taxi Problem\n",
    "    from \"Hierarchical Reinforcement Learning with the MAXQ Value Function Decomposition\"\n",
    "    by Tom Dietterich\n",
    "    Description:\n",
    "    There are four designated locations in the grid world indicated by R(ed), G(reen), Y(ellow), and B(lue). When the episode starts, the taxi starts off at a random square and the passenger is at a random location. The taxi drives to the passenger's location, picks up the passenger, drives to the passenger's destination (another one of the four specified locations), and then drops off the passenger. Once the passenger is dropped off, the episode ends.\n",
    "    Observations: \n",
    "    There are 500 discrete states since there are 25 taxi positions, 5 possible locations of the passenger (including the case when the passenger is in the taxi), and 4 destination locations. \n",
    "    \n",
    "    Passenger locations:\n",
    "    - 0: R(ed)\n",
    "    - 1: G(reen)\n",
    "    - 2: Y(ellow)\n",
    "    - 3: B(lue)\n",
    "    - 4: in taxi\n",
    "    \n",
    "    Destinations:\n",
    "    - 0: R(ed)\n",
    "    - 1: G(reen)\n",
    "    - 2: Y(ellow)\n",
    "    - 3: B(lue)\n",
    "        \n",
    "    Actions:\n",
    "    There are 6 discrete deterministic actions:\n",
    "    - 0: move south\n",
    "    - 1: move north\n",
    "    - 2: move east \n",
    "    - 3: move west \n",
    "    - 4: pickup passenger\n",
    "    - 5: dropoff passenger\n",
    "    \n",
    "    Rewards: \n",
    "    There is a reward of -1 for each action and an additional reward of +20 for delivering the passenger. There is a reward of -10 for executing actions \"pickup\" and \"dropoff\" illegally.\n",
    "    \n",
    "    Rendering:\n",
    "    - blue: passenger\n",
    "    - magenta: destination\n",
    "    - yellow: empty taxi\n",
    "    - green: full taxi\n",
    "    - other letters (R, G, Y and B): locations for passengers and destinations\n",
    "    \n",
    "    state space is represented by:\n",
    "        (taxi_row, taxi_col, passenger_location, destination)\n",
    "    \"\"\"\n",
    "    metadata = {'render.modes': ['human', 'ansi']}"
   ]
  },
  {
   "cell_type": "code",
   "execution_count": 59,
   "metadata": {},
   "outputs": [],
   "source": [
    "  def __init__(self):\n",
    "        self.desc = np.asarray(MAP, dtype='c')\n",
    "\n",
    "        self.locs = locs = [(0,0), (0,4), (4,0), (4,3)]\n",
    "\n",
    "        num_states = 500\n",
    "        num_rows = 5\n",
    "        num_columns = 5\n",
    "        max_row = num_rows - 1\n",
    "        max_col = num_columns - 1\n",
    "        initial_state_distrib = np.zeros(num_states)\n",
    "        num_actions = 6\n",
    "        P = {state: {action: []\n",
    "                     for action in range(num_actions)} for state in range(num_states)}\n",
    "        for row in range(num_rows):\n",
    "            for col in range(num_columns):\n",
    "                for pass_idx in range(len(locs) + 1):  # +1 for being inside taxi\n",
    "                    for dest_idx in range(len(locs)):\n",
    "                        state = self.encode(row, col, pass_idx, dest_idx)\n",
    "                        if pass_idx < 4 and pass_idx != dest_idx:\n",
    "                            initial_state_distrib[state] += 1\n",
    "                        for action in range(num_actions):\n",
    "                            # defaults\n",
    "                            new_row, new_col, new_pass_idx = row, col, pass_idx\n",
    "                            reward = -1 # default reward when there is no pickup/dropoff\n",
    "                            done = False\n",
    "                            taxi_loc = (row, col)\n",
    "\n",
    "                            if action == 0:\n",
    "                                new_row = min(row + 1, max_row)\n",
    "                            elif action == 1:\n",
    "                                new_row = max(row - 1, 0)\n",
    "                            if action == 2 and self.desc[1 + row, 2 * col + 2] == b\":\":\n",
    "                                new_col = min(col + 1, max_col)\n",
    "                            elif action == 3 and self.desc[1 + row, 2 * col] == b\":\":\n",
    "                                new_col = max(col - 1, 0)\n",
    "                            elif action == 4:  # pickup\n",
    "                                if (pass_idx < 4 and taxi_loc == locs[pass_idx]):\n",
    "                                    new_pass_idx = 4\n",
    "                                else: # passenger not at location\n",
    "                                    reward = -10\n",
    "                            elif action == 5:  # dropoff\n",
    "                                if (taxi_loc == locs[dest_idx]) and pass_idx == 4:\n",
    "                                    new_pass_idx = dest_idx\n",
    "                                    done = True\n",
    "                                    reward = 20\n",
    "                                elif (taxi_loc in locs) and pass_idx == 4:\n",
    "                                    new_pass_idx = locs.index(taxi_loc)\n",
    "                                else: # dropoff at wrong location\n",
    "                                    reward = -10\n",
    "                            new_state = self.encode(\n",
    "                                new_row, new_col, new_pass_idx, dest_idx)\n",
    "                            P[state][action].append(\n",
    "                                (1.0, new_state, reward, done))\n",
    "        initial_state_distrib /= initial_state_distrib.sum()\n",
    "        discrete.DiscreteEnv.__init__(\n",
    "            self, num_states, num_actions, P, initial_state_distrib)"
   ]
  },
  {
   "cell_type": "code",
   "execution_count": 60,
   "metadata": {},
   "outputs": [],
   "source": [
    "    def encode(self, taxi_row, taxi_col, pass_loc, dest_idx):\n",
    "        # (5) 5, 5, 4\n",
    "        i = taxi_row\n",
    "        i *= 5\n",
    "        i += taxi_col\n",
    "        i *= 5\n",
    "        i += pass_loc\n",
    "        i *= 4\n",
    "        i += dest_idx\n",
    "        return i"
   ]
  },
  {
   "cell_type": "code",
   "execution_count": 61,
   "metadata": {},
   "outputs": [],
   "source": [
    "   def decode(self, i):\n",
    "        out = []\n",
    "        out.append(i % 4)\n",
    "        i = i // 4\n",
    "        out.append(i % 5)\n",
    "        i = i // 5\n",
    "        out.append(i % 5)\n",
    "        i = i // 5\n",
    "        out.append(i)\n",
    "        assert 0 <= i < 5\n",
    "        return reversed(out)"
   ]
  },
  {
   "cell_type": "code",
   "execution_count": null,
   "metadata": {},
   "outputs": [],
   "source": []
  },
  {
   "cell_type": "code",
   "execution_count": 62,
   "metadata": {},
   "outputs": [],
   "source": [
    "    def render(self, mode='human'):\n",
    "        outfile = StringIO() if mode == 'ansi' else sys.stdout\n",
    "\n",
    "        out = self.desc.copy().tolist()\n",
    "        out = [[c.decode('utf-8') for c in line] for line in out]\n",
    "        taxi_row, taxi_col, pass_idx, dest_idx = self.decode(self.s)\n",
    "\n",
    "        def ul(x): return \"_\" if x == \" \" else x\n",
    "        if pass_idx < 4:\n",
    "            out[1 + taxi_row][2 * taxi_col + 1] = utils.colorize(\n",
    "                out[1 + taxi_row][2 * taxi_col + 1], 'yellow', highlight=True)\n",
    "            pi, pj = self.locs[pass_idx]\n",
    "            out[1 + pi][2 * pj + 1] = utils.colorize(out[1 + pi][2 * pj + 1], 'blue', bold=True)\n",
    "        else:  # passenger in taxi\n",
    "            out[1 + taxi_row][2 * taxi_col + 1] = utils.colorize(\n",
    "                ul(out[1 + taxi_row][2 * taxi_col + 1]), 'green', highlight=True)\n",
    "\n",
    "        di, dj = self.locs[dest_idx]\n",
    "        out[1 + di][2 * dj + 1] = utils.colorize(out[1 + di][2 * dj + 1], 'magenta')\n",
    "        outfile.write(\"\\n\".join([\"\".join(row) for row in out]) + \"\\n\")\n",
    "        if self.lastaction is not None:\n",
    "            outfile.write(\"  ({})\\n\".format([\"South\", \"North\", \"East\", \"West\", \"Pickup\", \"Dropoff\"][self.lastaction]))\n",
    "        else: outfile.write(\"\\n\")\n",
    "\n",
    "        # No need to return anything for human\n",
    "        if mode != 'human':\n",
    "            with closing(outfile):\n",
    "                return outfile.getvalue()"
   ]
  },
  {
   "cell_type": "code",
   "execution_count": 63,
   "metadata": {},
   "outputs": [
    {
     "name": "stdout",
     "output_type": "stream",
     "text": [
      "500\n"
     ]
    }
   ],
   "source": [
    ">>> import gym\n",
    "env_test = gym.make('Taxi-v3')\n",
    "env = gym.wrappers.Monitor(env_test, \"C:/Users/Owner/Documents/MMAI/Reinf Learning/Taxi-Qlearning\",  force=True)\n",
    "observation = env.reset()\n",
    "env.close()\n",
    "env_test.close()\n",
    ">>> n_state = env.observation_space.n\n",
    ">>> print(n_state)"
   ]
  },
  {
   "cell_type": "code",
   "execution_count": 64,
   "metadata": {},
   "outputs": [
    {
     "name": "stdout",
     "output_type": "stream",
     "text": [
      "6\n"
     ]
    }
   ],
   "source": [
    ">>> n_action = env.action_space.n\n",
    ">>> print(n_action)"
   ]
  },
  {
   "cell_type": "code",
   "execution_count": 65,
   "metadata": {},
   "outputs": [
    {
     "data": {
      "text/plain": [
       "273"
      ]
     },
     "execution_count": 65,
     "metadata": {},
     "output_type": "execute_result"
    }
   ],
   "source": [
    ">>> env.reset()"
   ]
  },
  {
   "cell_type": "code",
   "execution_count": 66,
   "metadata": {},
   "outputs": [
    {
     "name": "stdout",
     "output_type": "stream",
     "text": [
      "+---------+\n",
      "|R: | : :G|\n",
      "| : | : : |\n",
      "| : : : : |\n",
      "| | : | : |\n",
      "|Y| : |B: |\n",
      "+---------+\n",
      "\n"
     ]
    }
   ],
   "source": [
    ">>> env.render()"
   ]
  },
  {
   "cell_type": "code",
   "execution_count": 67,
   "metadata": {},
   "outputs": [
    {
     "name": "stdout",
     "output_type": "stream",
     "text": [
      "(253, -1, False, {'prob': 1.0})\n",
      "(233, -1, False, {'prob': 1.0})\n",
      "(213, -1, False, {'prob': 1.0})\n",
      "(113, -1, False, {'prob': 1.0})\n",
      "(13, -1, False, {'prob': 1.0})\n",
      "(13, -10, False, {'prob': 1.0})\n"
     ]
    }
   ],
   "source": [
    "##Let's now go and pick up the passenger by heading west for three tiles and north for two tiles##\n",
    "##(you can adjust this according to your initial state) and then executing the pick-up. Then, we render the environment again##\n",
    "print(env.step(3))\n",
    "print(env.step(3))\n",
    "print(env.step(3))\n",
    "print(env.step(1))\n",
    "print(env.step(1))\n",
    "print(env.step(4))\n"
   ]
  },
  {
   "cell_type": "code",
   "execution_count": 68,
   "metadata": {},
   "outputs": [
    {
     "name": "stdout",
     "output_type": "stream",
     "text": [
      "+---------+\n",
      "|R: | : :G|\n",
      "| : | : : |\n",
      "| : : : : |\n",
      "| | : | : |\n",
      "|Y| : |B: |\n",
      "+---------+\n",
      "  (Pickup)\n"
     ]
    }
   ],
   "source": [
    ">>> env.render()"
   ]
  },
  {
   "cell_type": "code",
   "execution_count": 69,
   "metadata": {},
   "outputs": [],
   "source": [
    "##Now, we go to the destination by heading south for four tiles (you can adjust this to your initial state) and then executing the drop-off:"
   ]
  },
  {
   "cell_type": "code",
   "execution_count": 70,
   "metadata": {},
   "outputs": [
    {
     "name": "stdout",
     "output_type": "stream",
     "text": [
      "(113, -1, False, {'prob': 1.0})\n",
      "(213, -1, False, {'prob': 1.0})\n",
      "(313, -1, False, {'prob': 1.0})\n",
      "(413, -1, False, {'prob': 1.0})\n",
      "(413, -10, False, {'prob': 1.0})\n"
     ]
    }
   ],
   "source": [
    ">>> print(env.step(0))\n",
    ">>> print(env.step(0))\n",
    ">>> print(env.step(0))\n",
    ">>> print(env.step(0))\n",
    ">>> print(env.step(5))"
   ]
  },
  {
   "cell_type": "code",
   "execution_count": 71,
   "metadata": {},
   "outputs": [
    {
     "name": "stdout",
     "output_type": "stream",
     "text": [
      "+---------+\n",
      "|R: | : :G|\n",
      "| : | : : |\n",
      "| : : : : |\n",
      "| | : | : |\n",
      "|Y| : |B: |\n",
      "+---------+\n",
      "  (Dropoff)\n"
     ]
    }
   ],
   "source": [
    ">>> env.render()"
   ]
  },
  {
   "cell_type": "code",
   "execution_count": 72,
   "metadata": {},
   "outputs": [],
   "source": [
    ">>> import torch"
   ]
  },
  {
   "cell_type": "markdown",
   "metadata": {},
   "source": [
    "## start defining the epsilon-greedy policy. ##"
   ]
  },
  {
   "cell_type": "code",
   "execution_count": 73,
   "metadata": {},
   "outputs": [],
   "source": [
    ">>> def gen_epsilon_greedy_policy(n_action, epsilon):\n",
    "        def policy_function(state, Q):\n",
    "            probs = torch.ones(n_action) * epsilon / n_action\n",
    "            best_action = torch.argmax(Q[state]).item()\n",
    "            probs[best_action] += 1.0 - epsilon\n",
    "            action = torch.multinomial(probs, 1).item()\n",
    "            return action\n",
    "        return policy_function"
   ]
  },
  {
   "cell_type": "markdown",
   "metadata": {},
   "source": [
    "##Now, we specify the number of episodes and initialize two variables used to track the length and total reward for each episode##"
   ]
  },
  {
   "cell_type": "code",
   "execution_count": 74,
   "metadata": {},
   "outputs": [],
   "source": [
    ">>> n_episode = 2000\n",
    ">>> length_episode = [0] * n_episode\n",
    ">>> total_reward_episode = [0] * n_episode"
   ]
  },
  {
   "cell_type": "markdown",
   "metadata": {},
   "source": [
    "## Now, define the function that performs Q-learning:##"
   ]
  },
  {
   "cell_type": "code",
   "execution_count": 75,
   "metadata": {},
   "outputs": [],
   "source": [
    ">>> def q_learning(env, gamma, n_episode, alpha):\n",
    "        n_action = env.action_space.n\n",
    "        Q = defaultdict(lambda: torch.zeros(n_action))\n",
    "        for episode in range(n_episode):\n",
    "            state = env.reset()\n",
    "            is_done = False\n",
    "            while not is_done:\n",
    "                action = epsilon_greedy_policy(state, Q)\n",
    "                next_state, reward, is_done, info = env.step(action)\n",
    "                td_delta = reward + gamma * torch.max(Q[next_state])- Q[state][action]\n",
    "                Q[state][action] += alpha * td_delta\n",
    "                if is_done:\n",
    "                    break\n",
    "                state = next_state\n",
    "                policy = {}\n",
    "        for state, actions in Q.items():\n",
    "            policy[state] = torch.argmax(actions).item()\n",
    "        return Q, policy"
   ]
  },
  {
   "cell_type": "code",
   "execution_count": null,
   "metadata": {},
   "outputs": [],
   "source": []
  },
  {
   "cell_type": "code",
   "execution_count": 76,
   "metadata": {},
   "outputs": [],
   "source": [
    ">>> def q_learning(env, gamma, n_episode, alpha):\n",
    "        n_action = env.action_space.n\n",
    "        Q = defaultdict(lambda: torch.zeros(n_action))\n",
    "        for episode in range(n_episode):\n",
    "            state = env.reset()\n",
    "            is_done = False\n",
    "            while not is_done:\n",
    "                action = epsilon_greedy_policy(state, Q)\n",
    "                next_state, reward, is_done, info = env.step(action)\n",
    "                td_delta = reward + gamma * torch.max(Q[next_state])- Q[state][action]\n",
    "                Q[state][action] += alpha * td_delta\n",
    "                length_episode[episode] += 1\n",
    "                total_reward_episode[episode] += reward\n",
    "                if is_done:\n",
    "                    break\n",
    "                state = next_state\n",
    "        policy = {}\n",
    "        for state, actions in Q.items():\n",
    "                policy[state] = torch.argmax(actions).item()\n",
    "        return Q, policy"
   ]
  },
  {
   "cell_type": "code",
   "execution_count": 77,
   "metadata": {},
   "outputs": [],
   "source": [
    ">>> gamma = 1\n",
    ">>> alpha = 0.4\n",
    ">>> epsilon = 0.1\n",
    ">>> epsilon_greedy_policy = gen_epsilon_greedy_policy(env.action_space.n, epsilon)"
   ]
  },
  {
   "cell_type": "code",
   "execution_count": 78,
   "metadata": {},
   "outputs": [],
   "source": [
    "optimal_Q, optimal_policy = q_learning(env, gamma, n_episode, alpha)"
   ]
  },
  {
   "cell_type": "code",
   "execution_count": 79,
   "metadata": {
    "scrolled": true
   },
   "outputs": [
    {
     "name": "stdout",
     "output_type": "stream",
     "text": [
      "The optimal policy:\n",
      " {447: 1, 427: 2, 347: 1, 327: 1, 227: 2, 127: 0, 107: 0, 27: 0, 7: 0, 207: 2, 247: 1, 147: 1, 167: 1, 47: 2, 67: 2, 267: 1, 287: 1, 367: 2, 387: 1, 487: 1, 467: 1, 307: 1, 187: 1, 87: 4, 99: 0, 426: 1, 446: 1, 326: 2, 346: 1, 226: 2, 206: 2, 246: 2, 266: 1, 166: 1, 146: 2, 186: 1, 66: 2, 46: 2, 86: 4, 98: 0, 126: 0, 106: 0, 26: 0, 6: 0, 306: 1, 286: 1, 366: 2, 386: 1, 486: 1, 466: 2, 183: 3, 163: 0, 143: 0, 83: 3, 63: 0, 43: 2, 283: 3, 263: 3, 243: 3, 223: 1, 203: 1, 103: 1, 123: 3, 23: 3, 3: 4, 19: 0, 383: 3, 363: 1, 343: 1, 323: 1, 303: 1, 39: 0, 119: 0, 139: 0, 239: 2, 219: 2, 259: 2, 403: 1, 128: 0, 108: 0, 28: 0, 8: 0, 228: 3, 208: 0, 248: 3, 148: 0, 48: 0, 68: 2, 168: 0, 308: 0, 408: 4, 416: 1, 328: 1, 348: 3, 448: 1, 428: 1, 316: 1, 216: 1, 236: 1, 116: 1, 136: 1, 16: 5, 0: 5, 78: 0, 58: 0, 198: 3, 298: 3, 278: 3, 258: 3, 238: 3, 218: 0, 158: 0, 178: 0, 398: 3, 378: 1, 358: 3, 338: 1, 138: 3, 118: 0, 38: 3, 18: 0, 2: 4, 22: 3, 122: 1, 102: 1, 498: 3, 478: 1, 474: 4, 353: 1, 333: 2, 253: 2, 453: 1, 433: 2, 233: 2, 213: 2, 113: 0, 133: 0, 13: 2, 33: 0, 273: 0, 153: 2, 173: 0, 53: 0, 73: 0, 93: 0, 313: 1, 293: 3, 373: 0, 393: 0, 193: 0, 473: 4, 477: 1, 493: 3, 182: 0, 162: 0, 142: 0, 82: 3, 62: 3, 42: 0, 282: 3, 262: 3, 242: 3, 222: 1, 202: 1, 382: 1, 362: 1, 342: 3, 322: 1, 302: 1, 402: 1, 482: 3, 462: 1, 442: 3, 422: 1, 54: 0, 74: 0, 154: 2, 174: 0, 94: 3, 194: 3, 274: 0, 254: 2, 234: 2, 214: 2, 134: 0, 114: 0, 34: 0, 14: 2, 294: 0, 394: 0, 494: 3, 374: 0, 354: 1, 334: 2, 314: 1, 454: 1, 434: 1, 409: 4, 417: 1, 309: 0, 209: 0, 229: 3, 109: 0, 129: 0, 9: 0, 29: 3, 317: 1, 217: 2, 117: 2, 137: 0, 17: 2, 1: 4, 37: 0, 237: 2, 249: 3, 329: 1, 349: 1, 257: 2, 337: 1, 357: 1, 457: 2, 437: 0, 21: 3, 101: 1, 121: 3, 221: 3, 201: 1, 301: 1, 401: 1, 79: 0, 59: 1, 199: 0, 179: 0, 159: 0, 299: 3, 279: 0, 399: 3, 379: 0, 359: 3, 339: 1, 459: 1, 439: 1, 407: 1, 499: 1, 479: 5, 475: 5, 483: 1, 463: 1, 443: 1, 423: 1, 318: 0, 418: 5, 410: 5, 319: 1, 406: 1, 412: 1, 312: 1, 212: 2, 232: 2, 112: 0, 132: 0, 12: 2, 32: 0, 252: 2, 152: 0, 172: 0, 52: 2, 72: 0, 332: 1, 352: 1, 272: 0, 292: 0, 192: 3, 92: 0, 372: 0, 472: 4, 476: 1, 492: 3, 392: 0, 452: 3, 432: 1, 458: 2, 438: 2, 419: 1, 411: 4, 311: 0, 211: 0, 231: 3, 251: 3, 131: 0, 31: 0, 11: 0, 111: 0, 331: 1, 351: 1, 271: 3, 151: 0, 171: 0, 51: 0, 71: 0, 496: 3, 376: 1, 396: 3, 276: 3, 296: 3, 256: 3, 156: 0, 176: 0, 56: 0, 76: 0, 196: 3, 96: 0, 84: 4, 468: 1, 488: 1, 368: 1, 388: 3, 268: 3, 288: 3, 188: 0, 88: 0, 241: 3, 321: 1, 341: 3, 261: 3, 141: 0, 161: 0, 41: 0, 61: 0, 421: 1, 441: 1, 281: 3, 181: 3, 81: 3, 361: 1, 461: 1, 481: 3, 381: 1, 36: 3, 356: 3, 336: 1, 64: 2, 44: 2, 184: 1, 164: 2, 144: 1, 284: 1, 264: 1, 244: 1, 224: 2, 204: 2, 364: 1, 384: 1, 269: 3, 149: 0, 169: 0, 49: 0, 69: 0, 429: 4, 449: 1, 289: 3, 189: 3, 413: 1, 497: 3, 377: 1, 397: 1, 277: 1, 297: 1, 177: 2, 157: 2, 57: 2, 77: 2, 197: 1, 97: 5, 85: 5, 431: 1, 451: 1, 291: 3, 391: 3, 371: 1, 191: 3, 91: 3, 456: 0, 436: 2, 414: 1, 344: 1, 324: 1, 124: 0, 104: 2, 24: 0, 4: 0, 444: 1, 424: 2, 304: 1, 404: 1, 484: 1, 464: 1, 471: 1, 491: 3, 89: 3, 369: 1, 389: 3, 469: 1, 489: 3}\n"
     ]
    }
   ],
   "source": [
    ">>> print('The optimal policy:\\n', optimal_policy)"
   ]
  },
  {
   "cell_type": "code",
   "execution_count": 80,
   "metadata": {},
   "outputs": [
    {
     "data": {
      "image/png": "[encoded data removed]",
      "text/plain": [
       "<Figure size 432x288 with 1 Axes>"
      ]
     },
     "metadata": {
      "needs_background": "light"
     },
     "output_type": "display_data"
    }
   ],
   "source": [
    ">>> import matplotlib.pyplot as plt\n",
    ">>> plt.plot(length_episode)\n",
    ">>> plt.title('Episode length over time')\n",
    ">>> plt.xlabel('Episode')\n",
    ">>> plt.ylabel('Length')\n",
    ">>> plt.show()"
   ]
  },
  {
   "cell_type": "code",
   "execution_count": 81,
   "metadata": {},
   "outputs": [
    {
     "name": "stdout",
     "output_type": "stream",
     "text": [
      "[200, 200, 200, 124, 200, 200, 200, 200, 200, 200, 135, 200, 136, 200, 61, 200, 200, 200, 174, 200, 200, 200, 200, 200, 159, 200, 200, 107, 200, 200, 184, 200, 151, 200, 200, 200, 113, 199, 200, 200, 37, 117, 44, 105, 132, 200, 200, 171, 200, 124, 54, 101, 158, 200, 62, 192, 200, 200, 123, 22, 200, 32, 101, 200, 116, 174, 77, 138, 54, 137, 83, 110, 200, 200, 170, 18, 108, 157, 84, 151, 200, 103, 22, 95, 200, 172, 200, 154, 90, 164, 200, 200, 200, 105, 32, 45, 72, 200, 200, 34, 66, 64, 114, 92, 93, 159, 94, 83, 200, 35, 39, 9, 150, 33, 167, 16, 117, 162, 21, 12, 122, 200, 8, 34, 118, 102, 31, 93, 86, 131, 82, 17, 28, 200, 58, 63, 54, 128, 200, 76, 88, 40, 80, 23, 181, 154, 9, 26, 114, 40, 14, 200, 122, 31, 83, 76, 8, 23, 49, 70, 51, 83, 31, 200, 109, 110, 38, 128, 147, 148, 98, 62, 89, 47, 38, 117, 78, 93, 16, 18, 106, 141, 39, 30, 50, 88, 55, 109, 73, 26, 103, 58, 57, 55, 78, 17, 36, 22, 75, 9, 26, 32, 17, 71, 27, 35, 10, 81, 28, 57, 24, 33, 10, 50, 51, 27, 11, 11, 31, 24, 66, 64, 21, 15, 22, 115, 11, 57, 13, 125, 41, 7, 28, 35, 16, 44, 15, 81, 95, 8, 67, 14, 42, 76, 7, 12, 15, 18, 13, 16, 27, 86, 28, 20, 19, 19, 40, 107, 13, 73, 11, 8, 66, 36, 23, 51, 33, 15, 17, 11, 32, 11, 11, 29, 28, 19, 8, 11, 16, 40, 8, 12, 47, 13, 22, 9, 8, 26, 89, 15, 28, 33, 43, 18, 13, 37, 25, 96, 32, 12, 17, 13, 21, 23, 34, 16, 12, 15, 14, 10, 20, 13, 11, 42, 12, 8, 10, 23, 23, 33, 14, 24, 13, 12, 52, 43, 14, 21, 21, 47, 43, 12, 22, 11, 13, 16, 16, 17, 20, 13, 10, 40, 45, 20, 9, 22, 69, 30, 14, 19, 23, 13, 18, 38, 15, 45, 10, 7, 26, 13, 25, 14, 17, 22, 26, 13, 13, 25, 11, 10, 19, 18, 18, 23, 17, 40, 20, 9, 22, 19, 16, 28, 12, 22, 17, 17, 13, 13, 25, 11, 13, 35, 10, 28, 13, 22, 11, 10, 15, 16, 16, 21, 13, 16, 18, 23, 20, 9, 23, 11, 8, 15, 15, 11, 26, 36, 18, 17, 18, 15, 40, 14, 13, 15, 24, 12, 17, 18, 13, 14, 20, 11, 19, 19, 92, 24, 12, 23, 12, 18, 15, 24, 7, 22, 11, 12, 15, 12, 26, 18, 20, 16, 17, 8, 11, 20, 12, 11, 14, 28, 17, 11, 16, 28, 21, 14, 16, 10, 24, 15, 13, 22, 11, 16, 15, 20, 11, 15, 14, 12, 33, 12, 14, 15, 29, 16, 18, 17, 13, 20, 10, 16, 19, 14, 16, 17, 14, 18, 14, 20, 16, 11, 19, 16, 25, 12, 18, 15, 27, 10, 20, 13, 18, 15, 11, 19, 14, 22, 24, 18, 13, 17, 22, 20, 19, 12, 12, 13, 18, 13, 12, 13, 20, 12, 18, 12, 8, 30, 9, 14, 18, 11, 19, 15, 9, 14, 20, 23, 23, 13, 23, 14, 10, 9, 11, 13, 11, 22, 17, 12, 17, 14, 17, 18, 14, 18, 11, 18, 13, 15, 23, 10, 19, 14, 17, 15, 16, 15, 16, 12, 8, 9, 19, 14, 9, 16, 18, 13, 17, 16, 17, 16, 12, 19, 12, 14, 19, 12, 13, 18, 16, 18, 11, 18, 20, 16, 7, 11, 10, 19, 16, 25, 16, 17, 21, 15, 13, 19, 11, 22, 18, 19, 20, 13, 8, 11, 12, 12, 13, 14, 15, 15, 14, 15, 12, 15, 15, 14, 20, 14, 17, 13, 13, 13, 13, 22, 11, 20, 7, 15, 18, 17, 13, 16, 19, 18, 29, 21, 16, 12, 15, 21, 11, 16, 15, 19, 18, 14, 14, 13, 18, 14, 17, 17, 12, 14, 16, 21, 9, 16, 13, 13, 13, 14, 16, 24, 14, 15, 12, 12, 21, 15, 7, 27, 15, 13, 9, 18, 18, 23, 13, 16, 17, 16, 12, 10, 9, 20, 15, 18, 18, 13, 21, 20, 8, 9, 11, 15, 10, 11, 18, 16, 20, 15, 20, 17, 9, 16, 19, 17, 13, 19, 9, 14, 10, 18, 12, 17, 14, 13, 10, 13, 13, 19, 12, 12, 14, 10, 22, 12, 17, 10, 18, 16, 9, 10, 9, 16, 23, 14, 12, 12, 24, 16, 18, 15, 15, 17, 18, 23, 15, 13, 18, 18, 21, 17, 14, 18, 21, 18, 9, 15, 16, 13, 12, 18, 15, 9, 16, 20, 13, 12, 15, 17, 21, 10, 15, 19, 11, 8, 15, 15, 16, 16, 19, 12, 11, 13, 13, 20, 14, 14, 15, 15, 17, 17, 15, 14, 15, 9, 10, 11, 21, 17, 12, 11, 20, 20, 16, 13, 11, 16, 10, 13, 13, 21, 14, 11, 11, 17, 18, 17, 16, 19, 17, 14, 14, 12, 16, 19, 12, 18, 18, 16, 19, 14, 14, 20, 14, 18, 15, 17, 18, 20, 19, 21, 21, 10, 13, 13, 17, 14, 13, 12, 19, 13, 17, 21, 13, 16, 16, 16, 19, 11, 22, 16, 17, 13, 17, 11, 10, 21, 16, 18, 20, 14, 15, 17, 13, 20, 10, 17, 15, 10, 21, 18, 17, 16, 14, 14, 15, 17, 15, 16, 18, 20, 12, 18, 15, 18, 21, 15, 14, 22, 14, 13, 16, 13, 17, 16, 16, 16, 14, 19, 15, 19, 14, 16, 9, 12, 16, 11, 16, 15, 14, 19, 17, 14, 22, 15, 16, 12, 16, 15, 12, 15, 19, 19, 18, 16, 12, 13, 16, 16, 11, 13, 16, 25, 16, 13, 12, 19, 15, 7, 15, 17, 20, 16, 14, 19, 16, 11, 15, 19, 18, 21, 12, 11, 8, 13, 9, 13, 10, 16, 24, 17, 13, 17, 16, 20, 11, 17, 14, 15, 18, 13, 19, 20, 14, 16, 15, 16, 20, 18, 15, 14, 20, 13, 18, 12, 14, 11, 11, 20, 16, 15, 10, 11, 14, 11, 14, 13, 18, 14, 23, 17, 12, 14, 19, 10, 15, 10, 18, 26, 8, 11, 14, 12, 17, 12, 7, 15, 17, 14, 14, 12, 11, 17, 15, 20, 17, 17, 17, 16, 12, 18, 15, 16, 21, 17, 12, 10, 19, 16, 16, 12, 14, 19, 15, 10, 15, 11, 16, 17, 21, 12, 17, 16, 12, 13, 13, 13, 18, 18, 16, 14, 10, 9, 16, 14, 14, 12, 14, 8, 14, 20, 14, 10, 13, 16, 8, 14, 16, 12, 11, 13, 20, 9, 16, 14, 17, 13, 20, 15, 14, 13, 14, 13, 18, 15, 17, 9, 15, 18, 22, 7, 12, 16, 15, 17, 13, 18, 15, 19, 15, 14, 27, 20, 14, 20, 12, 21, 17, 17, 11, 13, 16, 16, 21, 13, 15, 10, 14, 12, 18, 19, 14, 16, 14, 19, 17, 13, 16, 19, 14, 20, 13, 15, 19, 11, 11, 21, 11, 13, 18, 13, 18, 9, 17, 24, 16, 10, 13, 14, 11, 12, 18, 13, 12, 19, 15, 15, 19, 15, 13, 14, 12, 19, 15, 13, 16, 14, 14, 18, 18, 13, 15, 16, 14, 9, 21, 19, 23, 15, 19, 18, 13, 14, 13, 11, 13, 11, 20, 19, 18, 17, 16, 12, 14, 16, 18, 14, 13, 13, 22, 17, 11, 11, 9, 14, 12, 13, 15, 16, 17, 18, 9, 14, 20, 12, 17, 16, 13, 8, 13, 12, 8, 21, 14, 20, 12, 13, 16, 18, 21, 12, 14, 18, 18, 12, 13, 13, 14, 19, 12, 15, 17, 19, 13, 15, 15, 12, 19, 10, 14, 14, 10, 18, 18, 7, 13, 18, 16, 12, 12, 18, 13, 9, 16, 19, 25, 7, 11, 12, 14, 18, 22, 20, 17, 14, 16, 11, 17, 13, 19, 17, 17, 14, 17, 16, 17, 13, 8, 17, 15, 16, 18, 22, 15, 18, 17, 22, 14, 25, 20, 18, 17, 12, 13, 15, 12, 14, 14, 18, 17, 14, 15, 16, 10, 11, 14, 12, 14, 11, 19, 17, 12, 19, 16, 15, 17, 15, 14, 11, 20, 17, 9, 8, 19, 19, 19, 18, 9, 10, 20, 11, 22, 11, 17, 17, 17, 9, 16, 16, 18, 12, 18, 13, 15, 15, 14, 17, 13, 20, 13, 18, 19, 23, 19, 11, 14, 14, 16, 15, 14, 17, 14, 16, 17, 14, 19, 16, 16, 23, 24, 13, 16, 13, 12, 18, 14, 20, 14, 15, 18, 12, 15, 18, 14, 17, 15, 14, 16, 10, 16, 12, 17, 14, 17, 11, 17, 18, 14, 10, 16, 18, 17, 11, 15, 16, 11, 17, 18, 13, 12, 8, 14, 14, 18, 12, 15, 10, 15, 12, 15, 16, 12, 13, 17, 13, 15, 15, 15, 20, 14, 15, 20, 17, 10, 15, 11, 13, 15, 10, 15, 18, 17, 12, 12, 12, 12, 11, 16, 8, 13, 14, 12, 10, 16, 18, 15, 10, 13, 17, 7, 9, 19, 15, 16, 16, 11, 15, 17, 17, 11, 20, 14, 16, 18, 14, 12, 18, 11, 12, 12, 12, 8, 12, 17, 17, 13, 19, 19, 13, 11, 11, 20, 14, 12, 19, 9, 16, 17, 16, 14, 13, 17, 14, 18, 19, 13, 13, 21, 7, 16, 16, 19, 11, 24, 17, 14, 11, 15, 15, 8, 13, 15, 15, 10, 14, 11, 13, 20, 14, 13, 12, 18, 15, 20, 13, 15, 16, 15, 12, 8, 13, 10, 16, 14, 18, 15, 12, 9, 12, 15, 17, 9, 14, 15, 16, 16, 12, 13, 16, 18, 9, 13, 14, 10, 17, 13, 7, 18, 13, 6, 19, 15, 16, 18, 10, 13, 15, 21, 10, 10, 14, 12, 16, 14, 16, 15, 18, 15, 10, 13, 14, 13, 13, 18, 17, 17, 16, 22, 16, 15, 15, 12, 17, 20, 14, 18, 16, 18, 16, 13, 18, 11, 16, 16, 20, 10, 13, 19, 13, 12, 15, 13, 17, 13, 15, 22, 11, 15, 19, 12, 8, 10, 15, 23, 19, 16, 10, 11, 8, 16, 11, 16, 18, 20, 15, 10, 8, 12, 16, 22, 18, 9, 15, 15, 18, 18, 11, 18, 8, 18, 11, 10, 8, 23, 20, 16, 15, 14, 18, 12, 12, 17, 13, 11, 14, 10, 17, 9, 10, 15, 14, 12, 20, 10, 17, 16, 16, 22, 11, 19, 14, 14, 12, 7, 14, 20, 20, 14, 12, 14, 16, 13, 13, 16, 15, 12, 14, 11, 14, 16, 12, 11, 15, 9, 16, 13, 14, 17, 13, 12, 16, 12, 18, 19, 10, 13, 21, 16, 14, 19, 7, 16, 15, 15, 10, 11, 21, 16, 10, 13, 10, 19, 15, 11, 14, 21, 14, 13, 19, 19, 12, 11, 10, 19, 9, 17, 14, 14, 18, 20, 15, 16, 19, 7, 13, 12, 15, 24, 18, 13, 11, 11, 12, 11, 17, 18, 10, 12, 21, 18, 16, 14, 17, 16, 19, 13, 14, 14, 19, 11, 18, 16, 14, 19, 17, 17, 16, 10, 13, 13, 13, 16, 11, 16, 15, 17, 11, 14, 17, 12, 10, 17, 17, 15, 6, 10, 12, 16, 15, 18, 8, 16, 19, 16, 16, 10, 16, 20, 6, 17, 13, 16, 11, 11, 11, 14, 18, 14, 16, 13, 12, 17, 15, 13, 19, 17, 19, 16, 19, 11, 27, 10, 17, 14, 17, 14, 14, 15, 8, 17, 15, 14, 11, 15, 19, 20, 20, 13, 12, 18, 16, 14, 11, 19, 15, 12, 20, 12, 20, 11, 15, 22, 16, 9, 12, 17, 16, 17, 16, 13, 13, 16, 11, 10, 18, 16, 17, 15, 17, 11, 12, 12, 17, 15, 10, 16, 17, 13, 15, 16, 12, 13, 14, 14, 12, 19, 15, 9, 13, 19, 18, 12, 10, 18, 11, 16, 14, 16, 18, 14, 16, 14, 13, 15, 10, 15, 15, 14, 13, 13, 16, 6, 14, 17, 16]\n"
     ]
    }
   ],
   "source": [
    "print(length_episode)"
   ]
  },
  {
   "cell_type": "code",
   "execution_count": null,
   "metadata": {},
   "outputs": [],
   "source": []
  },
  {
   "cell_type": "code",
   "execution_count": 82,
   "metadata": {},
   "outputs": [],
   "source": [
    "import numpy as np\n",
    "\n",
    "from bokeh.io import show\n",
    "from bokeh.layouts import column\n",
    "from bokeh.models import ColumnDataSource, RangeTool\n",
    "from bokeh.plotting import figure"
   ]
  },
  {
   "cell_type": "code",
   "execution_count": 83,
   "metadata": {},
   "outputs": [],
   "source": [
    "Y=np.array(length_episode)"
   ]
  },
  {
   "cell_type": "code",
   "execution_count": 84,
   "metadata": {},
   "outputs": [],
   "source": [
    "p = figure(plot_height=300, plot_width=800, tools=\"xpan\", toolbar_location=None,\n",
    "           x_axis_type=\"linear\", x_axis_location=\"above\",\n",
    "           background_fill_color=\"#efefef\", x_range=(50,150))"
   ]
  },
  {
   "cell_type": "code",
   "execution_count": 85,
   "metadata": {},
   "outputs": [],
   "source": [
    "p.line(range(0, 2000),Y)\n",
    "p.yaxis.axis_label = 'Length'"
   ]
  },
  {
   "cell_type": "code",
   "execution_count": 86,
   "metadata": {},
   "outputs": [],
   "source": [
    "select = figure(title=\"Drag the middle and edges of the selection box to change the range above\",\n",
    "                plot_height=130, plot_width=800, y_range=p.y_range,\n",
    "                x_axis_type=\"linear\", y_axis_type=None,\n",
    "                tools=\"\", toolbar_location=None, background_fill_color=\"#efefef\")"
   ]
  },
  {
   "cell_type": "code",
   "execution_count": 87,
   "metadata": {},
   "outputs": [],
   "source": [
    "range_tool = RangeTool(x_range=p.x_range)\n",
    "range_tool.overlay.fill_color = \"navy\"\n",
    "range_tool.overlay.fill_alpha = 0.2"
   ]
  },
  {
   "cell_type": "code",
   "execution_count": 88,
   "metadata": {},
   "outputs": [],
   "source": [
    "select.line(range(0, 2000),Y)\n",
    "select.ygrid.grid_line_color = None\n",
    "select.add_tools(range_tool)\n",
    "select.toolbar.active_multi = range_tool"
   ]
  },
  {
   "cell_type": "code",
   "execution_count": 89,
   "metadata": {},
   "outputs": [],
   "source": [
    "show(column(p, select))"
   ]
  },
  {
   "cell_type": "code",
   "execution_count": null,
   "metadata": {},
   "outputs": [],
   "source": []
  },
  {
   "cell_type": "code",
   "execution_count": 38,
   "metadata": {},
   "outputs": [
    {
     "data": {
      "image/png": "[encoded data removed]",
      "text/plain": [
       "<Figure size 432x288 with 1 Axes>"
      ]
     },
     "metadata": {
      "needs_background": "light"
     },
     "output_type": "display_data"
    }
   ],
   "source": [
    ">>> plt.plot(total_reward_episode)\n",
    ">>> plt.title('Episode reward over time')\n",
    ">>> plt.xlabel('Episode')\n",
    ">>> plt.ylabel('Total reward')\n",
    ">>> plt.show()"
   ]
  },
  {
   "cell_type": "code",
   "execution_count": 39,
   "metadata": {},
   "outputs": [
    {
     "name": "stdout",
     "output_type": "stream",
     "text": [
      "[-704, -677, -695, -785, -317, -686, -677, -425, -470, -177, -668, -497, -587, -264, -389, -243, -254, -272, -659, -650, -20, -416, -263, -295, -308, -668, -326, -299, -335, -150, -189, -263, -78, -272, -227, -75, -272, -263, -184, -317, -263, -254, -551, -263, -209, -34, -117, -38, -227, -281, -263, -147, -142, -104, -227, -218, -218, -83, -159, -214, -34, -245, -171, -272, -236, -349, -254, -176, -227, -139, -272, -50, -263, -153, -82, -33, -76, -236, -488, -90, -138, -224, -54, -230, -272, -61, -236, -67, -281, -166, -56, -7, -65, -139, -68, -70, 8, -236, -380, -180, -72, -123, -54, -173, -176, -36, -38, -56, -86, -83, -144, -299, -203, -226, -115, -315, -320, -21, -228, -12, 4, -174, -60, -312, -48, -166, -52, -114, -37, -401, -35, -199, -13, 4, -113, -104, -111, 7, -209, -167, -86, 9, -158, -109, -39, 13, -97, -129, -211, -252, -17, -84, -214, -348, -72, -3, 10, -42, -93, -82, -122, -389, 2, -34, -153, -142, -176, -89, -98, -261, -149, -31, 11, -77, -111, 14, -164, 0, 12, 2, -189, -52, 6, 10, -23, -18, -44, -41, -79, -57, -78, -6, -166, -140, -42, -6, -88, -3, 9, -28, -81, -194, -132, -61, -54, -16, 6, -51, -13, -13, -105, -159, 6, -49, -127, -32, 3, 8, 11, -134, 9, -14, -97, 9, -6, -67, -23, 13, -31, -71, -28, -52, 12, -10, -79, 6, -18, -72, 0, -13, -104, -14, -3, 15, -74, 0, -3, -6, -108, -54, -43, 0, 6, -8, -17, 13, -73, -11, 5, -59, 6, -4, 9, 3, -52, -145, -69, -8, -43, -77, -1, -9, 5, -1, -15, -11, -198, -14, -55, -21, -82, -3, 11, -2, -3, 7, 8, -28, -36, -31, -7, -21, -14, -23, -80, -18, -5, -31, -2, 8, -2, -12, 10, -28, -26, 5, -9, -6, -32, 5, -32, 4, 13, -18, -2, -20, 8, 0, -4, -59, -12, -95, -23, -19, 0, -8, -12, -34, 10, -22, -92, 5, 5, -32, 8, -66, 12, -3, 12, -27, -10, 2, 7, -5, 10, -30, -30, -8, -13, -25, -55, -9, 7, 14, -14, -2, 10, -4, 9, -15, -30, -6, 9, -3, -72, 10, 0, 9, -15, 8, -18, -35, 12, -36, -1, -15, -11, -6, 10, -2, 1, 8, -13, -16, 4, -4, -16, 7, 9, -27, 6, -41, 12, -3, -8, -3, -7, -5, 9, -7, 13, -47, -42, -6, 5, -47, 9, 8, 9, -19, 8, -41, -1, 5, 10, -32, -17, -1, -29, -3, 12, -22, -3, 4, 9, 7, 6, -4, 12, -5, 6, -1, -6, 4, 4, 7, -20, -15, -8, 1, -16, 8, -9, -14, -26, 0, -7, 8, 9, 3, -14, 7, -1, 1, -5, 5, 5, -24, -4, 6, -1, 0, -19, 11, -3, 5, 10, 6, 8, 11, 10, -7, -11, 3, -23, 9, 8, 0, 7, -4, 9, -3, -4, -4, 8, 9, -5, 1, -28, 4, -7, -12, 7, 8, -4, 8, -8, 10, 1, -4, -9, 10, -26, 4, -4, 4, 5, -8, -6, 0, 1, 1, 0, -4, 1, 7, -96, 14, -1, 0, 2, 7, 0, 8, 6, 4, -10, -14, 8, -10, 9, -1, -41, 6, 9, 0, -3, 7, 6, 8, -1, 6, -5, 14, 8, 7, 2, 9, 0, 4, -1, -4, -10, 5, -4, -14, 7, -4, 4, 10, -32, 7, 8, 7, 2, 7, 2, 5, 6, -2, -8, 11, 6, 10, 3, 3, -16, 4, 5, 12, -10, 8, 0, 11, -4, 3, 8, -3, -20, 5, 0, -27, 0, 5, 8, -11, 8, 7, 6, 7, -14, -16, 12, 4, -2, -10, 9, 9, -1, -7, 11, 6, 7, -6, 12, 11, -25, -4, 2, -5, 10, -2, 7, 9, 10, -10, 8, 9, 4, -2, 8, 12, 5, 11, 9, 6, -14, -17, 8, 4, 0, 9, 9, 7, 8, 10, 7, 6, -4, -4, -1, -7, 2, 10, -10, 9, 11, 1, 7, 3, 13, 4, 8, 8, 1, 10, 8, 7, -2, 2, -4, 6, -6, 0, -3, 6, -14, 7, 5, 8, 5, -14, -2, 5, -23, 0, 6, 6, 9, 4, -15, 6, -3, 9, 9, -4, 6, 8, -8, 13, 4, -2, 7, -1, 4, -25, 13, 8, 9, 3, 8, 2, 0, -19, 12, -7, 6, 3, 0, 10, 5, 7, 7, -8, -6, 11, -6, -2, -22, 10, -17, 5, 7, 1, 10, -2, 0, -2, 7, -1, 10, 14, -14, -7, 7, 4, 6, 5, 0, 5, 5, 11, -8, 0, 3, -10, -17, 4, 3, -18, 1, -7, -7, -10, 4, 5, 6, 6, 11, -3, -12, 9, 8, 9, 1, -7, 7, 6, -3, 0, -6, 5, 7, 4, 1, 7, -2, 2, 8, -1, -2, 10, 6, -9, -5, 9, 7, 5, 8, -1, 2, -5, 6, 1, 5, -11, -4, 6, 6, -3, 7, 7, 3, -8, 2, 8, 9, 10, -13, 12, -5, 11, -10, 7, -3, 4, 0, 2, 9, -1, -15, 7, -4, 10, -8, 4, 6, 9, -4, 9, 11, 7, 4, 9, 9, 3, 9, -12, 9, 7, 14, -3, 0, -3, 7, -17, -4, 6, 4, -15, -1, 8, 5, -10, -4, 9, 8, -9, 7, -5, 15, -6, -6, -4, 5, -7, 6, -2, 6, 8, 9, 9, 9, 0, 10, 6, -1, 6, 0, 11, 9, 9, -12, 7, 5, 1, -4, 12, -14, 12, -2, 6, 1, 8, 5, -8, 6, 4, -3, 9, -8, 14, 7, -3, 7, -6, 9, 4, 4, 5, -10, -16, 8, 5, -6, -6, 4, 14, 6, 11, 11, -4, 14, 13, -8, 1, 0, 1, -20, 7, 10, 4, 7, 10, 14, -4, 4, 0, 8, 7, 1, -2, -4, 6, -17, 8, 9, 3, 10, 8, -9, -1, -1, 5, -3, 2, -4, 4, 12, -1, -9, 2, -7, -17, 7, 5, 11, 12, 14, 6, -1, 5, 7, -18, -3, 2, 6, 8, 6, -2, 11, -22, -4, 7, 10, 11, -10, 4, -18, 7, 8, 6, 7, -3, 7, -25, 4, -17, -10, -3, 8, 10, -4, 14, -1, 7, -14, -9, -2, 10, 1, 9, -1, 7, 11, 3, 11, 7, -11, 5, 4, 1, 12, -5, -5, -3, 6, 10, 4, 4, 12, -4, 7, -3, 4, -5, -25, -3, -7, 7, 5, 4, 7, 1, -1, 10, 8, 8, 11, 10, 0, 13, 7, 8, 12, 0, 5, -7, -16, 6, -10, 9, -2, -8, -4, 8, 0, 10, 2, -20, -1, 4, -11, -7, 10, -2, -15, -4, 2, 1, 13, 8, -5, -1, -3, 9, 8, 7, -4, 12, 12, -13, 8, -8, 4, 9, 11, 2, 9, -9, 14, -4, 11, 8, 9, 7, 9, 6, -23, -2, 11, -5, -18, 10, 8, 1, 1, 8, 9, -1, -6, 10, -1, 11, 6, 3, 3, 4, 5, 6, 8, -7, 11, -1, -12, 3, -12, 2, 7, -12, 6, 11, -26, 7, 2, 4, 4, -2, 0, 5, -6, 1, -13, 6, 3, 9, -1, -1, 4, 10, 5, 8, 9, 13, 8, -3, 7, 7, 4, 5, 0, 5, 7, 12, 6, -4, -5, 10, 8, 6, 11, -8, -8, 15, 5, 4, 11, 9, -4, -6, 10, 5, 4, -5, -16, -8, -22, 8, -6, 0, 7, 4, 6, 4, 8, -6, 5, -5, -5, 7, 3, -5, -2, 10, 5, -14, -7, 5, 6, 13, 0, 6, 3, -3, 12, 8, 6, -6, 12, -3, 7, 11, 7, 9, -7, 9, -8, 8, 11, -10, 3, -1, -5, 5, 7, 5, 3, 3, 11, -3, -1, 12, 6, 7, -3, 6, 4, 6, 0, -6, -3, -6, 5, 11, 4, 1, 5, -3, 2, 7, -8, 8, 5, 2, 6, 8, 6, 5, 7, -10, 6, 3, -2, 3, 4, 0, 2, 0, 1, 9, -19, 0, -7, -1, 5, 5, 9, -2, -5, 11, -4, 5, 2, 7, -3, 11, -3, -4, 0, 6, 13, 13, 4, 9, 6, 4, 6, -12, -1, -4, -12, 3, 12, 11, 7, 8, -10, -28, -5, 1, 10, 6, -1, 2, 6, 0, 9, -4, 4, -2, 3, 11, -2, 6, -4, 7, 6, 6, 11, 3, 11, 9, 6, -5, 11, 8, 11, 6, 4, 2, 3, 10, 4, -23, 5, 10, 3, -1, 3, 12, -8, 9, 9, 7, -3, 5, 3, 3, -14, 11, -4, -6, 3, -9, 9, -4, 6, 5, 7, -2, 6, 4, 12, 12, -12, 7, 3, 6, 7, 11, 8, 5, -20, 7, 2, -9, 7, 4, -4, -7, -5, 12, -10, 2, 5, 3, 0, 1, 5, 8, 1, 1, 3, 5, -5, 8, 9, 4, 5, 8, -12, 2, -7, 6, 10, 9, -1, 8, 1, 10, 4, -3, -12, -13, -1, 5, -2, -3, 10, 7, -28, 7, -5, 7, 6, -13, -9, -21, 11, 6, 11, -16, 13, 10, -9, -12, -1, 14, 6, 2, 7, 8, -3, 7, 6, 10, 7, -7, -18, -7, 7, 0, 5, -8, 11, 6, 6, 7, 9, -10, 7, 10, -2, 6, -2, 10, 5, 0, 7, 14, 4, -6, 1, -10, -17, 6, 5, -9, -1, -5, 4, 11, -6, -32, 14, -10, -1, -3, 7, -2, -1, 7, -5, 2, 2, 11, 3, -22, 4, 8, 7, 7, 0, 13, -25, 8, 5, 12, 3, 3, 5, -16, 10, 9, 7, 8, 8, 10, -7, 10, -2, 12, -1, -7, 6, 14, 6, 11, -5, 10, 5, 3, -5, 6, 4, -19, 8, 15, -5, -7, -8, 13, 5, 9, 3, -4, 8, 9, 6, 7, -38, 11, -31, 8, 6, -4, -4, 9, 10, -3, 9, 1, 6, -19, 5, 7, -20, 10, 9, 7, 10, 6, 4, 5, 2, 9, 2, -3, 4, -10, -39, -9, -5, 11, -8, 7, -6, -2, -4, 7, 4, 9, -3, 7, 9, -2, 10, 6, 4, -4, -1, 7, 9, 11, 9, 8, 1, -10, 8, 8, 5, -3, 0, 11, 9, 12, 7, 8, 9, 11, 9, -10, 3, 6, -6, -13, 9, -4, 12, 0, -5, 5, 4, 7, 5, 3, 8, 10, 11, 5, 8, 6, 9, 4, -8, -8, 5, 10, -3, 5, -10, -4, 4, 6, 8, 13, 11, 9, -9, -5, 7, -3, -1, 5, 8, 7, -6, -7, 11, -6, 6, -7, 10, 10, -16, 7, 6, 5, -1, -7, 8, -5, 8, 6, 11, 5, 11, 11, 9, -22, -4, 2, 10, 7, 4, 3, 8, 0, 10, 3, 8, 6, 13, 7, -12, 5, -4, -19, 3, -2, -3, 4, 3, -17, 0, 14, -14, 6, -2, -6, 9, 2, -32, -22, 4, 6, 3, -7, 3, 4, 10, -12, 1, 10, 3, 8, 5, -3, 8, 2, -7, 9, 7, 10, -3, 0, 5, 6, 3, -5, -4, -4, 12, 7, 3, 4, -6, 7, 8, -29, 6, 13, -15, 11, 11, 7, 8, -5, 5, 9, -7, 7, 1, 8, 6, 6, -3, -2, -3, -4, -17, 5, 7, -17, -14, -16, 7, 13, -1, 3, 10, -10, 8, 4, -2, 3, -19, -3, -5, 5, -7, -2, -4, 11, -1, -21, 7, 8, -5, -2, -8, 3, 10, 7, -12, -30, 9, 2, 3, 1, 10, 4, 4, -6, 9, 5, -3, 7, 5, 10, 3, 6, -4, 8, -7, -12, 7, 3, -7, -5, 11, 13, 4, -13, 9, 9, 7, 10, -13, 2, 5, 10, 2, -8, 7, 10, 9, 5, 8, 3, 3, 12, 7, 12, 0, 7, -25, -26, -11, -6, -2, 12, -7, 10, -10, 6, 6, 4, 8, -1, 10, -7, 3, -21, -14, 12, 1, 15, -2, -4, 14, 1, 5, 12, 5, -11, 8, 2, 6, 1, 0, -3, 8, -2, -2, 8, 5, 10, -10, -20, 4, -24, 4, -4, 11, 10, -1, 6, 10, -10, -7, 14, -1, 2, 3, -7, 6, -3, 13, 12, 4, -5, 5, 7, 4, 13, 8, 10, -2, 9, 4, 5, 4, 4, 7, 5, 9, -18, 1, 13, 11, 7, 5, 10, -6, -2, 9, -6, 8, 7]\n"
     ]
    }
   ],
   "source": [
    "print(total_reward_episode)"
   ]
  },
  {
   "cell_type": "code",
   "execution_count": 40,
   "metadata": {},
   "outputs": [],
   "source": [
    "Y1=np.array(total_reward_episode)"
   ]
  },
  {
   "cell_type": "code",
   "execution_count": 41,
   "metadata": {},
   "outputs": [],
   "source": [
    "p2 = figure(plot_height=300, plot_width=800, tools=\"xpan\", toolbar_location=None,\n",
    "           x_axis_type=\"linear\", x_axis_location=\"above\",\n",
    "           background_fill_color=\"#efefef\", x_range=(50,150))"
   ]
  },
  {
   "cell_type": "code",
   "execution_count": 42,
   "metadata": {},
   "outputs": [],
   "source": [
    "p2.line(range(0, 2000),Y1)\n",
    "p2.yaxis.axis_label = 'Total reward'"
   ]
  },
  {
   "cell_type": "code",
   "execution_count": 43,
   "metadata": {},
   "outputs": [],
   "source": [
    "select = figure(title=\"Drag the middle and edges of the selection box to change the range above\",\n",
    "                plot_height=130, plot_width=800, y_range=p2.y_range,\n",
    "                x_axis_type=\"linear\", y_axis_type=None,\n",
    "                tools=\"\", toolbar_location=None, background_fill_color=\"#efefef\")"
   ]
  },
  {
   "cell_type": "code",
   "execution_count": 44,
   "metadata": {},
   "outputs": [],
   "source": [
    "range_tool = RangeTool(x_range=p2.x_range)\n",
    "range_tool.overlay.fill_color = \"navy\"\n",
    "range_tool.overlay.fill_alpha = 0.2"
   ]
  },
  {
   "cell_type": "code",
   "execution_count": 45,
   "metadata": {},
   "outputs": [],
   "source": [
    "select.line(range(0, 2000),Y1)\n",
    "select.ygrid.grid_line_color = None\n",
    "select.add_tools(range_tool)\n",
    "select.toolbar.active_multi = range_tool"
   ]
  },
  {
   "cell_type": "code",
   "execution_count": 46,
   "metadata": {},
   "outputs": [],
   "source": [
    "show(column(p2, select))"
   ]
  },
  {
   "cell_type": "markdown",
   "metadata": {},
   "source": [
    "##Bonus Track##"
   ]
  },
  {
   "cell_type": "code",
   "execution_count": 47,
   "metadata": {},
   "outputs": [],
   "source": [
    "from bokeh.layouts import gridplot\n",
    "from bokeh.plotting import figure, output_file, show"
   ]
  },
  {
   "cell_type": "code",
   "execution_count": 48,
   "metadata": {},
   "outputs": [],
   "source": [
    "TOOLS = \"pan,wheel_zoom,box_zoom,reset,save,box_select\""
   ]
  },
  {
   "cell_type": "code",
   "execution_count": 49,
   "metadata": {},
   "outputs": [],
   "source": [
    "p3 = figure(title=\"Episode length over time\", tools=TOOLS)"
   ]
  },
  {
   "cell_type": "code",
   "execution_count": 50,
   "metadata": {},
   "outputs": [
    {
     "data": {
      "text/html": [
       "<div style=\"display: table;\"><div style=\"display: table-row;\"><div style=\"display: table-cell;\"><b title=\"bokeh.models.renderers.GlyphRenderer\">GlyphRenderer</b>(</div><div style=\"display: table-cell;\">id&nbsp;=&nbsp;'1484', <span id=\"1496\" style=\"cursor: pointer;\">&hellip;)</span></div></div><div class=\"1495\" style=\"display: none;\"><div style=\"display: table-cell;\"></div><div style=\"display: table-cell;\">data_source&nbsp;=&nbsp;ColumnDataSource(id='1481', ...),</div></div><div class=\"1495\" style=\"display: none;\"><div style=\"display: table-cell;\"></div><div style=\"display: table-cell;\">glyph&nbsp;=&nbsp;Line(id='1482', ...),</div></div><div class=\"1495\" style=\"display: none;\"><div style=\"display: table-cell;\"></div><div style=\"display: table-cell;\">hover_glyph&nbsp;=&nbsp;None,</div></div><div class=\"1495\" style=\"display: none;\"><div style=\"display: table-cell;\"></div><div style=\"display: table-cell;\">js_event_callbacks&nbsp;=&nbsp;{},</div></div><div class=\"1495\" style=\"display: none;\"><div style=\"display: table-cell;\"></div><div style=\"display: table-cell;\">js_property_callbacks&nbsp;=&nbsp;{},</div></div><div class=\"1495\" style=\"display: none;\"><div style=\"display: table-cell;\"></div><div style=\"display: table-cell;\">level&nbsp;=&nbsp;'glyph',</div></div><div class=\"1495\" style=\"display: none;\"><div style=\"display: table-cell;\"></div><div style=\"display: table-cell;\">muted&nbsp;=&nbsp;False,</div></div><div class=\"1495\" style=\"display: none;\"><div style=\"display: table-cell;\"></div><div style=\"display: table-cell;\">muted_glyph&nbsp;=&nbsp;None,</div></div><div class=\"1495\" style=\"display: none;\"><div style=\"display: table-cell;\"></div><div style=\"display: table-cell;\">name&nbsp;=&nbsp;None,</div></div><div class=\"1495\" style=\"display: none;\"><div style=\"display: table-cell;\"></div><div style=\"display: table-cell;\">nonselection_glyph&nbsp;=&nbsp;Line(id='1483', ...),</div></div><div class=\"1495\" style=\"display: none;\"><div style=\"display: table-cell;\"></div><div style=\"display: table-cell;\">selection_glyph&nbsp;=&nbsp;None,</div></div><div class=\"1495\" style=\"display: none;\"><div style=\"display: table-cell;\"></div><div style=\"display: table-cell;\">subscribed_events&nbsp;=&nbsp;[],</div></div><div class=\"1495\" style=\"display: none;\"><div style=\"display: table-cell;\"></div><div style=\"display: table-cell;\">tags&nbsp;=&nbsp;[],</div></div><div class=\"1495\" style=\"display: none;\"><div style=\"display: table-cell;\"></div><div style=\"display: table-cell;\">view&nbsp;=&nbsp;CDSView(id='1485', ...),</div></div><div class=\"1495\" style=\"display: none;\"><div style=\"display: table-cell;\"></div><div style=\"display: table-cell;\">visible&nbsp;=&nbsp;True,</div></div><div class=\"1495\" style=\"display: none;\"><div style=\"display: table-cell;\"></div><div style=\"display: table-cell;\">x_range_name&nbsp;=&nbsp;'default',</div></div><div class=\"1495\" style=\"display: none;\"><div style=\"display: table-cell;\"></div><div style=\"display: table-cell;\">y_range_name&nbsp;=&nbsp;'default')</div></div></div>\n",
       "<script>\n",
       "(function() {\n",
       "  var expanded = false;\n",
       "  var ellipsis = document.getElementById(\"1496\");\n",
       "  ellipsis.addEventListener(\"click\", function() {\n",
       "    var rows = document.getElementsByClassName(\"1495\");\n",
       "    for (var i = 0; i < rows.length; i++) {\n",
       "      var el = rows[i];\n",
       "      el.style.display = expanded ? \"none\" : \"table-row\";\n",
       "    }\n",
       "    ellipsis.innerHTML = expanded ? \"&hellip;)\" : \"&lsaquo;&lsaquo;&lsaquo;\";\n",
       "    expanded = !expanded;\n",
       "  });\n",
       "})();\n",
       "</script>\n"
      ],
      "text/plain": [
       "GlyphRenderer(id='1484', ...)"
      ]
     },
     "execution_count": 50,
     "metadata": {},
     "output_type": "execute_result"
    }
   ],
   "source": [
    "\n",
    "##p3.circle(range(0, 500), Y, legend_label=\"\")\n",
    "p3.line(range(0, 2000), Y, legend_label=\"\")"
   ]
  },
  {
   "cell_type": "code",
   "execution_count": 51,
   "metadata": {},
   "outputs": [],
   "source": [
    "p3.legend.title = ''"
   ]
  },
  {
   "cell_type": "code",
   "execution_count": 52,
   "metadata": {},
   "outputs": [],
   "source": [
    "p4 = figure(title=\"Episode reward over time\", tools=TOOLS)"
   ]
  },
  {
   "cell_type": "code",
   "execution_count": 53,
   "metadata": {},
   "outputs": [
    {
     "data": {
      "text/html": [
       "<div style=\"display: table;\"><div style=\"display: table-row;\"><div style=\"display: table-cell;\"><b title=\"bokeh.models.renderers.GlyphRenderer\">GlyphRenderer</b>(</div><div style=\"display: table-cell;\">id&nbsp;=&nbsp;'1534', <span id=\"1546\" style=\"cursor: pointer;\">&hellip;)</span></div></div><div class=\"1545\" style=\"display: none;\"><div style=\"display: table-cell;\"></div><div style=\"display: table-cell;\">data_source&nbsp;=&nbsp;ColumnDataSource(id='1531', ...),</div></div><div class=\"1545\" style=\"display: none;\"><div style=\"display: table-cell;\"></div><div style=\"display: table-cell;\">glyph&nbsp;=&nbsp;Line(id='1532', ...),</div></div><div class=\"1545\" style=\"display: none;\"><div style=\"display: table-cell;\"></div><div style=\"display: table-cell;\">hover_glyph&nbsp;=&nbsp;None,</div></div><div class=\"1545\" style=\"display: none;\"><div style=\"display: table-cell;\"></div><div style=\"display: table-cell;\">js_event_callbacks&nbsp;=&nbsp;{},</div></div><div class=\"1545\" style=\"display: none;\"><div style=\"display: table-cell;\"></div><div style=\"display: table-cell;\">js_property_callbacks&nbsp;=&nbsp;{},</div></div><div class=\"1545\" style=\"display: none;\"><div style=\"display: table-cell;\"></div><div style=\"display: table-cell;\">level&nbsp;=&nbsp;'glyph',</div></div><div class=\"1545\" style=\"display: none;\"><div style=\"display: table-cell;\"></div><div style=\"display: table-cell;\">muted&nbsp;=&nbsp;False,</div></div><div class=\"1545\" style=\"display: none;\"><div style=\"display: table-cell;\"></div><div style=\"display: table-cell;\">muted_glyph&nbsp;=&nbsp;None,</div></div><div class=\"1545\" style=\"display: none;\"><div style=\"display: table-cell;\"></div><div style=\"display: table-cell;\">name&nbsp;=&nbsp;None,</div></div><div class=\"1545\" style=\"display: none;\"><div style=\"display: table-cell;\"></div><div style=\"display: table-cell;\">nonselection_glyph&nbsp;=&nbsp;Line(id='1533', ...),</div></div><div class=\"1545\" style=\"display: none;\"><div style=\"display: table-cell;\"></div><div style=\"display: table-cell;\">selection_glyph&nbsp;=&nbsp;None,</div></div><div class=\"1545\" style=\"display: none;\"><div style=\"display: table-cell;\"></div><div style=\"display: table-cell;\">subscribed_events&nbsp;=&nbsp;[],</div></div><div class=\"1545\" style=\"display: none;\"><div style=\"display: table-cell;\"></div><div style=\"display: table-cell;\">tags&nbsp;=&nbsp;[],</div></div><div class=\"1545\" style=\"display: none;\"><div style=\"display: table-cell;\"></div><div style=\"display: table-cell;\">view&nbsp;=&nbsp;CDSView(id='1535', ...),</div></div><div class=\"1545\" style=\"display: none;\"><div style=\"display: table-cell;\"></div><div style=\"display: table-cell;\">visible&nbsp;=&nbsp;True,</div></div><div class=\"1545\" style=\"display: none;\"><div style=\"display: table-cell;\"></div><div style=\"display: table-cell;\">x_range_name&nbsp;=&nbsp;'default',</div></div><div class=\"1545\" style=\"display: none;\"><div style=\"display: table-cell;\"></div><div style=\"display: table-cell;\">y_range_name&nbsp;=&nbsp;'default')</div></div></div>\n",
       "<script>\n",
       "(function() {\n",
       "  var expanded = false;\n",
       "  var ellipsis = document.getElementById(\"1546\");\n",
       "  ellipsis.addEventListener(\"click\", function() {\n",
       "    var rows = document.getElementsByClassName(\"1545\");\n",
       "    for (var i = 0; i < rows.length; i++) {\n",
       "      var el = rows[i];\n",
       "      el.style.display = expanded ? \"none\" : \"table-row\";\n",
       "    }\n",
       "    ellipsis.innerHTML = expanded ? \"&hellip;)\" : \"&lsaquo;&lsaquo;&lsaquo;\";\n",
       "    expanded = !expanded;\n",
       "  });\n",
       "})();\n",
       "</script>\n"
      ],
      "text/plain": [
       "GlyphRenderer(id='1534', ...)"
      ]
     },
     "execution_count": 53,
     "metadata": {},
     "output_type": "execute_result"
    }
   ],
   "source": [
    "##p4.circle(range(0, 500),Y1, legend_label=\"\",color=\"orange\")\n",
    "p4.line(range(0, 2000),Y1, legend_label=\"\",color=\"orange\")"
   ]
  },
  {
   "cell_type": "code",
   "execution_count": 54,
   "metadata": {},
   "outputs": [],
   "source": [
    "p4.legend.title = ''"
   ]
  },
  {
   "cell_type": "code",
   "execution_count": 55,
   "metadata": {},
   "outputs": [],
   "source": [
    "output_file(\"lenght.html\", title=\"Episode length over time\")\n",
    "\n",
    "show(gridplot([p3,p4], ncols=2, plot_width=400, plot_height=400))  # open a browser"
   ]
  },
  {
   "cell_type": "code",
   "execution_count": null,
   "metadata": {},
   "outputs": [],
   "source": []
  }
 ],
 "metadata": {
  "kernelspec": {
   "display_name": "Python 3",
   "language": "python",
   "name": "python3"
  },
  "language_info": {
   "codemirror_mode": {
    "name": "ipython",
    "version": 3
   },
   "file_extension": ".py",
   "mimetype": "text/x-python",
   "name": "python",
   "nbconvert_exporter": "python",
   "pygments_lexer": "ipython3",
   "version": "3.7.3"
  }
 },
 "nbformat": 4,
 "nbformat_minor": 2
}
