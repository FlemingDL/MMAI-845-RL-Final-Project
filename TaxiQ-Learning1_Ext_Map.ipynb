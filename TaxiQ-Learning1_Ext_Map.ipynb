{
 "cells": [
  {
   "cell_type": "code",
   "execution_count": null,
   "metadata": {},
   "outputs": [],
   "source": []
  },
  {
   "cell_type": "code",
   "execution_count": 1,
   "metadata": {},
   "outputs": [],
   "source": [
    "import sys\n",
    "from contextlib import closing\n",
    "from six import StringIO\n",
    "from gym import utils\n",
    "from gym.envs.toy_text import discrete\n",
    "import numpy as np\n",
    "from collections import defaultdict\n",
    "import gym\n",
    "import gym_fleming"
   ]
  },
  {
   "cell_type": "code",
   "execution_count": null,
   "metadata": {},
   "outputs": [],
   "source": []
  },
  {
   "cell_type": "code",
   "execution_count": 2,
   "metadata": {},
   "outputs": [],
   "source": [
    "MAP1 = [\n",
    "    \"+-------------------+\",\n",
    "    \"|R: | : : : : | : :G|\",\n",
    "    \"| : | : : : : | : : |\",\n",
    "    \"| : : : : : : : : : |\",\n",
    "    \"| | : | : : | : | : |\",\n",
    "    \"|Y| : | : : | : |B: |\",\n",
    "    \"+-------------------+\",\n",
    "]"
   ]
  },
  {
   "cell_type": "code",
   "execution_count": 3,
   "metadata": {},
   "outputs": [],
   "source": [
    "\n",
    "class TaxiEnv(discrete.DiscreteEnv):\n",
    "    \"\"\"\n",
    "    The Taxi Problem\n",
    "    from \"Hierarchical Reinforcement Learning with the MAXQ Value Function Decomposition\"\n",
    "    by Tom Dietterich\n",
    "    Description:\n",
    "    There are four designated locations in the grid world indicated by R(ed), G(reen), Y(ellow), and B(lue). When the episode starts, the taxi starts off at a random square and the passenger is at a random location. The taxi drives to the passenger's location, picks up the passenger, drives to the passenger's destination (another one of the four specified locations), and then drops off the passenger. Once the passenger is dropped off, the episode ends.\n",
    "    Observations: \n",
    "    There are 500 discrete states since there are 25 taxi positions, 5 possible locations of the passenger (including the case when the passenger is in the taxi), and 4 destination locations. \n",
    "    \n",
    "    Passenger locations:\n",
    "    - 0: R(ed)\n",
    "    - 1: G(reen)\n",
    "    - 2: Y(ellow)\n",
    "    - 3: B(lue)\n",
    "    - 4: in taxi\n",
    "    \n",
    "    Destinations:\n",
    "    - 0: R(ed)\n",
    "    - 1: G(reen)\n",
    "    - 2: Y(ellow)\n",
    "    - 3: B(lue)\n",
    "        \n",
    "    Actions:\n",
    "    There are 6 discrete deterministic actions:\n",
    "    - 0: move south\n",
    "    - 1: move north\n",
    "    - 2: move east \n",
    "    - 3: move west \n",
    "    - 4: pickup passenger\n",
    "    - 5: dropoff passenger\n",
    "    \n",
    "    Rewards: \n",
    "    There is a reward of -1 for each action and an additional reward of +20 for delivering the passenger. There is a reward of -10 for executing actions \"pickup\" and \"dropoff\" illegally.\n",
    "    \n",
    "    Rendering:\n",
    "    - blue: passenger\n",
    "    - magenta: destination\n",
    "    - yellow: empty taxi\n",
    "    - green: full taxi\n",
    "    - other letters (R, G, Y and B): locations for passengers and destinations\n",
    "    \n",
    "    state space is represented by:\n",
    "        (taxi_row, taxi_col, passenger_location, destination)\n",
    "    \"\"\"\n",
    "    metadata = {'render.modes': ['human', 'ansi']}"
   ]
  },
  {
   "cell_type": "code",
   "execution_count": 4,
   "metadata": {},
   "outputs": [],
   "source": [
    "  def __init__(self):\n",
    "        self.desc = np.asarray(MAP1, dtype='c')\n",
    "\n",
    "        self.locs = locs = [(0,0), (0,9), (4,0), (4,8)]\n",
    "\n",
    "        num_states = 500\n",
    "        num_rows = 5\n",
    "        num_columns = 10\n",
    "        max_row = num_rows - 1\n",
    "        max_col = num_columns - 1\n",
    "        initial_state_distrib = np.zeros(num_states)\n",
    "        num_actions = 6\n",
    "        P = {state: {action: []\n",
    "                     for action in range(num_actions)} for state in range(num_states)}\n",
    "        for row in range(num_rows):\n",
    "            for col in range(num_columns):\n",
    "                for pass_idx in range(len(locs) + 1):  # +1 for being inside taxi\n",
    "                    for dest_idx in range(len(locs)):\n",
    "                        state = self.encode(row, col, pass_idx, dest_idx)\n",
    "                        if pass_idx < 4 and pass_idx != dest_idx:\n",
    "                            initial_state_distrib[state] += 1\n",
    "                        for action in range(num_actions):\n",
    "                            # defaults\n",
    "                            new_row, new_col, new_pass_idx = row, col, pass_idx\n",
    "                            reward = -1 # default reward when there is no pickup/dropoff\n",
    "                            done = False\n",
    "                            taxi_loc = (row, col)\n",
    "\n",
    "                            if action == 0:\n",
    "                                new_row = min(row + 1, max_row)\n",
    "                            elif action == 1:\n",
    "                                new_row = max(row - 1, 0)\n",
    "                            if action == 2 and self.desc[1 + row, 2 * col + 2] == b\":\":\n",
    "                                new_col = min(col + 1, max_col)\n",
    "                            elif action == 3 and self.desc[1 + row, 2 * col] == b\":\":\n",
    "                                new_col = max(col - 1, 0)\n",
    "                            elif action == 4:  # pickup\n",
    "                                if (pass_idx < 4 and taxi_loc == locs[pass_idx]):\n",
    "                                    new_pass_idx = 4\n",
    "                                else: # passenger not at location\n",
    "                                    reward = -10\n",
    "                            elif action == 5:  # dropoff\n",
    "                                if (taxi_loc == locs[dest_idx]) and pass_idx == 4:\n",
    "                                    new_pass_idx = dest_idx\n",
    "                                    done = True\n",
    "                                    reward = 20\n",
    "                                elif (taxi_loc in locs) and pass_idx == 4:\n",
    "                                    new_pass_idx = locs.index(taxi_loc)\n",
    "                                else: # dropoff at wrong location\n",
    "                                    reward = -10\n",
    "                            new_state = self.encode(\n",
    "                                new_row, new_col, new_pass_idx, dest_idx)\n",
    "                            P[state][action].append(\n",
    "                                (1.0, new_state, reward, done))\n",
    "        initial_state_distrib /= initial_state_distrib.sum()\n",
    "        discrete.DiscreteEnv.__init__(\n",
    "            self, num_states, num_actions, P, initial_state_distrib)"
   ]
  },
  {
   "cell_type": "code",
   "execution_count": 5,
   "metadata": {},
   "outputs": [],
   "source": [
    "    def encode(self, taxi_row, taxi_col, pass_loc, dest_idx):\n",
    "        # (5) 5, 5, 4\n",
    "        i = taxi_row\n",
    "        i *= 5\n",
    "        i += taxi_col\n",
    "        i *= 10\n",
    "        i += pass_loc\n",
    "        i *= 4\n",
    "        i += dest_idx\n",
    "        return i"
   ]
  },
  {
   "cell_type": "code",
   "execution_count": 6,
   "metadata": {},
   "outputs": [],
   "source": [
    "   def decode(self, i):\n",
    "        out = []\n",
    "        out.append(i % 4)\n",
    "        i = i // 4\n",
    "        out.append(i % 5)\n",
    "        i = i // 5\n",
    "        out.append(i % 5)\n",
    "        i = i // 5\n",
    "        out.append(i)\n",
    "        assert 0 <= i < 5\n",
    "        return reversed(out)"
   ]
  },
  {
   "cell_type": "code",
   "execution_count": null,
   "metadata": {},
   "outputs": [],
   "source": []
  },
  {
   "cell_type": "code",
   "execution_count": 7,
   "metadata": {},
   "outputs": [],
   "source": [
    "    def render(self, mode='human'):\n",
    "        outfile = StringIO() if mode == 'ansi' else sys.stdout\n",
    "\n",
    "        out = self.desc.copy().tolist()\n",
    "        out = [[c.decode('utf-8') for c in line] for line in out]\n",
    "        taxi_row, taxi_col, pass_idx, dest_idx = self.decode(self.s)\n",
    "\n",
    "        def ul(x): return \"_\" if x == \" \" else x\n",
    "        if pass_idx < 4:\n",
    "            out[1 + taxi_row][2 * taxi_col + 1] = utils.colorize(\n",
    "                out[1 + taxi_row][2 * taxi_col + 1], 'yellow', highlight=True)\n",
    "            pi, pj = self.locs[pass_idx]\n",
    "            out[1 + pi][2 * pj + 1] = utils.colorize(out[1 + pi][2 * pj + 1], 'blue', bold=True)\n",
    "        else:  # passenger in taxi\n",
    "            out[1 + taxi_row][2 * taxi_col + 1] = utils.colorize(\n",
    "                ul(out[1 + taxi_row][2 * taxi_col + 1]), 'green', highlight=True)\n",
    "\n",
    "        di, dj = self.locs[dest_idx]\n",
    "        out[1 + di][2 * dj + 1] = utils.colorize(out[1 + di][2 * dj + 1], 'magenta')\n",
    "        outfile.write(\"\\n\".join([\"\".join(row) for row in out]) + \"\\n\")\n",
    "        if self.lastaction is not None:\n",
    "            outfile.write(\"  ({})\\n\".format([\"South\", \"North\", \"East\", \"West\", \"Pickup\", \"Dropoff\"][self.lastaction]))\n",
    "        else: outfile.write(\"\\n\")\n",
    "\n",
    "        # No need to return anything for human\n",
    "        if mode != 'human':\n",
    "            with closing(outfile):\n",
    "                return outfile.getvalue()"
   ]
  },
  {
   "cell_type": "code",
   "execution_count": 8,
   "metadata": {},
   "outputs": [
    {
     "name": "stdout",
     "output_type": "stream",
     "text": [
      "1000\n"
     ]
    }
   ],
   "source": [
    "env = gym.make('taxi_fleming-v0')\n",
    "n_state = env.observation_space.n\n",
    "print(n_state)"
   ]
  },
  {
   "cell_type": "code",
   "execution_count": 9,
   "metadata": {},
   "outputs": [
    {
     "name": "stdout",
     "output_type": "stream",
     "text": [
      "6\n"
     ]
    }
   ],
   "source": [
    ">>> n_action = env.action_space.n\n",
    ">>> print(n_action)"
   ]
  },
  {
   "cell_type": "code",
   "execution_count": 10,
   "metadata": {},
   "outputs": [
    {
     "data": {
      "text/plain": [
       "394"
      ]
     },
     "execution_count": 10,
     "metadata": {},
     "output_type": "execute_result"
    }
   ],
   "source": [
    ">>> env.reset()"
   ]
  },
  {
   "cell_type": "code",
   "execution_count": 11,
   "metadata": {},
   "outputs": [
    {
     "name": "stdout",
     "output_type": "stream",
     "text": [
      "+-------------------+\n",
      "|R: | : : : : | : :G|\n",
      "| : | : : : : | : :\u001b[43m \u001b[0m|\n",
      "| : : : : : : : : : |\n",
      "| | : | : : | : | : |\n",
      "|\u001b[35mY\u001b[0m| : | : : | : |\u001b[34;1mB\u001b[0m: |\n",
      "+-------------------+\n",
      "\n"
     ]
    }
   ],
   "source": [
    ">>> env.render()"
   ]
  },
  {
   "cell_type": "code",
   "execution_count": 12,
   "metadata": {},
   "outputs": [
    {
     "name": "stdout",
     "output_type": "stream",
     "text": [
      "(374, -1, False, {'prob': 1.0})\n",
      "(354, -1, False, {'prob': 1.0})\n",
      "(354, -1, False, {'prob': 1.0})\n",
      "(154, -1, False, {'prob': 1.0})\n",
      "(154, -1, False, {'prob': 1.0})\n",
      "(154, -10, False, {'prob': 1.0})\n"
     ]
    }
   ],
   "source": [
    "##Let's now go and pick up the passenger by heading west for three tiles and north for two tiles##\n",
    "##(you can adjust this according to your initial state) and then executing the pick-up. Then, we render the environment again##\n",
    "print(env.step(3))\n",
    "print(env.step(3))\n",
    "print(env.step(3))\n",
    "print(env.step(1))\n",
    "print(env.step(1))\n",
    "print(env.step(4))\n"
   ]
  },
  {
   "cell_type": "code",
   "execution_count": 13,
   "metadata": {},
   "outputs": [
    {
     "name": "stdout",
     "output_type": "stream",
     "text": [
      "+-------------------+\n",
      "|R: | : : : : |\u001b[43m \u001b[0m: :G|\n",
      "| : | : : : : | : : |\n",
      "| : : : : : : : : : |\n",
      "| | : | : : | : | : |\n",
      "|\u001b[35mY\u001b[0m| : | : : | : |\u001b[34;1mB\u001b[0m: |\n",
      "+-------------------+\n",
      "  (Pickup)\n"
     ]
    }
   ],
   "source": [
    ">>> env.render()"
   ]
  },
  {
   "cell_type": "code",
   "execution_count": 14,
   "metadata": {},
   "outputs": [],
   "source": [
    "##Now, we go to the destination by heading south for four tiles (you can adjust this to your initial state) and then executing the drop-off:"
   ]
  },
  {
   "cell_type": "code",
   "execution_count": 15,
   "metadata": {},
   "outputs": [
    {
     "name": "stdout",
     "output_type": "stream",
     "text": [
      "(354, -1, False, {'prob': 1.0})\n",
      "(554, -1, False, {'prob': 1.0})\n",
      "(754, -1, False, {'prob': 1.0})\n",
      "(954, -1, False, {'prob': 1.0})\n",
      "(954, -10, False, {'prob': 1.0})\n"
     ]
    }
   ],
   "source": [
    ">>> print(env.step(0))\n",
    ">>> print(env.step(0))\n",
    ">>> print(env.step(0))\n",
    ">>> print(env.step(0))\n",
    ">>> print(env.step(5))"
   ]
  },
  {
   "cell_type": "code",
   "execution_count": 16,
   "metadata": {},
   "outputs": [
    {
     "name": "stdout",
     "output_type": "stream",
     "text": [
      "+-------------------+\n",
      "|R: | : : : : | : :G|\n",
      "| : | : : : : | : : |\n",
      "| : : : : : : : : : |\n",
      "| | : | : : | : | : |\n",
      "|\u001b[35mY\u001b[0m| : | : : | :\u001b[43m \u001b[0m|\u001b[34;1mB\u001b[0m: |\n",
      "+-------------------+\n",
      "  (Dropoff)\n"
     ]
    }
   ],
   "source": [
    ">>> env.render()"
   ]
  },
  {
   "cell_type": "code",
   "execution_count": 17,
   "metadata": {},
   "outputs": [],
   "source": [
    ">>> import torch"
   ]
  },
  {
   "cell_type": "markdown",
   "metadata": {},
   "source": [
    "## start defining the epsilon-greedy policy. ##"
   ]
  },
  {
   "cell_type": "code",
   "execution_count": 18,
   "metadata": {},
   "outputs": [],
   "source": [
    ">>> def gen_epsilon_greedy_policy(n_action, epsilon):\n",
    "        def policy_function(state, Q):\n",
    "            probs = torch.ones(n_action) * epsilon / n_action\n",
    "            best_action = torch.argmax(Q[state]).item()\n",
    "            probs[best_action] += 1.0 - epsilon\n",
    "            action = torch.multinomial(probs, 1).item()\n",
    "            return action\n",
    "        return policy_function"
   ]
  },
  {
   "cell_type": "markdown",
   "metadata": {},
   "source": [
    "##Now, we specify the number of episodes and initialize two variables used to track the length and total reward for each episode##"
   ]
  },
  {
   "cell_type": "code",
   "execution_count": 19,
   "metadata": {},
   "outputs": [],
   "source": [
    ">>> n_episode = 1000\n",
    ">>> length_episode = [0] * n_episode\n",
    ">>> total_reward_episode = [0] * n_episode"
   ]
  },
  {
   "cell_type": "markdown",
   "metadata": {},
   "source": [
    "## Now, define the function that performs Q-learning:##"
   ]
  },
  {
   "cell_type": "code",
   "execution_count": 20,
   "metadata": {},
   "outputs": [],
   "source": [
    ">>> def q_learning(env, gamma, n_episode, alpha):\n",
    "        n_action = env.action_space.n\n",
    "        Q = defaultdict(lambda: torch.zeros(n_action))\n",
    "        for episode in range(n_episode):\n",
    "            state = env.reset()\n",
    "            is_done = False\n",
    "            while not is_done:\n",
    "                action = epsilon_greedy_policy(state, Q)\n",
    "                next_state, reward, is_done, info = env.step(action)\n",
    "                td_delta = reward + gamma * torch.max(Q[next_state])- Q[state][action]\n",
    "                Q[state][action] += alpha * td_delta\n",
    "                if is_done:\n",
    "                    break\n",
    "                state = next_state\n",
    "                policy = {}\n",
    "        for state, actions in Q.items():\n",
    "            policy[state] = torch.argmax(actions).item()\n",
    "        return Q, policy"
   ]
  },
  {
   "cell_type": "code",
   "execution_count": null,
   "metadata": {},
   "outputs": [],
   "source": []
  },
  {
   "cell_type": "code",
   "execution_count": 21,
   "metadata": {},
   "outputs": [],
   "source": [
    ">>> def q_learning(env, gamma, n_episode, alpha):\n",
    "        n_action = env.action_space.n\n",
    "        Q = defaultdict(lambda: torch.zeros(n_action))\n",
    "        for episode in range(n_episode):\n",
    "            state = env.reset()\n",
    "            is_done = False\n",
    "            while not is_done:\n",
    "                action = epsilon_greedy_policy(state, Q)\n",
    "                next_state, reward, is_done, info = env.step(action)\n",
    "                td_delta = reward + gamma * torch.max(Q[next_state])- Q[state][action]\n",
    "                Q[state][action] += alpha * td_delta\n",
    "                length_episode[episode] += 1\n",
    "                total_reward_episode[episode] += reward\n",
    "                if is_done:\n",
    "                    break\n",
    "                state = next_state\n",
    "        policy = {}\n",
    "        for state, actions in Q.items():\n",
    "                policy[state] = torch.argmax(actions).item()\n",
    "        return Q, policy"
   ]
  },
  {
   "cell_type": "code",
   "execution_count": 22,
   "metadata": {},
   "outputs": [],
   "source": [
    ">>> gamma = 1\n",
    ">>> alpha = 0.4\n",
    ">>> epsilon = 0.1\n",
    ">>> epsilon_greedy_policy = gen_epsilon_greedy_policy(env.action_space.n, epsilon)"
   ]
  },
  {
   "cell_type": "code",
   "execution_count": 23,
   "metadata": {},
   "outputs": [],
   "source": [
    "optimal_Q, optimal_policy = q_learning(env, gamma, n_episode, alpha)"
   ]
  },
  {
   "cell_type": "code",
   "execution_count": 24,
   "metadata": {},
   "outputs": [
    {
     "name": "stdout",
     "output_type": "stream",
     "text": [
      "The optimal policy:\n",
      " {24: 3, 4: 3, 224: 0, 424: 2, 404: 2, 444: 2, 204: 0, 624: 0, 824: 3, 844: 2, 644: 1, 604: 1, 804: 0, 464: 2, 264: 2, 244: 2, 44: 0, 64: 1, 664: 1, 684: 1, 484: 2, 284: 2, 84: 1, 504: 2, 304: 0, 104: 0, 324: 0, 124: 0, 524: 2, 704: 1, 544: 2, 724: 1, 744: 1, 564: 1, 344: 2, 364: 2, 144: 2, 164: 2, 384: 1, 904: 1, 884: 0, 864: 1, 924: 2, 944: 1, 584: 3, 764: 1, 784: 1, 184: 4, 196: 0, 176: 0, 396: 0, 376: 0, 356: 0, 984: 1, 964: 2, 156: 3, 596: 3, 576: 3, 556: 3, 536: 3, 516: 3, 496: 3, 476: 3, 276: 0, 256: 0, 456: 3, 296: 0, 76: 1, 56: 3, 96: 0, 436: 3, 416: 1, 656: 1, 236: 3, 216: 1, 36: 3, 16: 5, 0: 5, 371: 2, 351: 0, 391: 3, 171: 1, 151: 0, 191: 2, 571: 3, 591: 3, 551: 3, 531: 3, 331: 3, 311: 0, 291: 5, 271: 0, 251: 0, 131: 3, 111: 3, 91: 3, 71: 0, 51: 0, 511: 3, 491: 3, 471: 3, 451: 3, 431: 3, 411: 0, 771: 1, 791: 3, 751: 3, 731: 1, 711: 1, 911: 0, 891: 3, 871: 1, 691: 1, 671: 1, 651: 1, 631: 1, 231: 0, 211: 0, 11: 0, 31: 0, 611: 0, 971: 0, 991: 2, 951: 3, 931: 1, 851: 3, 831: 1, 811: 4, 819: 1, 619: 1, 419: 2, 439: 2, 639: 1, 219: 0, 239: 0, 19: 0, 3: 4, 23: 3, 223: 1, 203: 1, 39: 0, 459: 2, 659: 1, 859: 1, 839: 1, 479: 2, 259: 2, 279: 0, 59: 0, 79: 0, 679: 2, 699: 1, 499: 2, 299: 2, 99: 3, 119: 2, 519: 2, 319: 0, 719: 1, 539: 2, 559: 2, 339: 0, 139: 2, 919: 1, 899: 3, 879: 0, 739: 1, 759: 1, 403: 1, 423: 1, 443: 3, 623: 1, 643: 3, 603: 1, 463: 3, 243: 0, 263: 0, 43: 0, 63: 0, 823: 1, 843: 1, 803: 3, 483: 3, 283: 3, 83: 3, 663: 1, 683: 3, 503: 3, 303: 3, 103: 2, 703: 1, 863: 1, 883: 0, 903: 1, 523: 3, 323: 1, 123: 3, 543: 3, 723: 0, 743: 1, 563: 3, 343: 0, 363: 0, 143: 2, 163: 2, 923: 1, 943: 1, 383: 1, 183: 0, 763: 3, 783: 2, 583: 2, 963: 2, 983: 0, 359: 0, 379: 0, 179: 0, 159: 2, 199: 0, 187: 4, 579: 0, 939: 2, 959: 2, 599: 0, 399: 3, 779: 0, 799: 0, 167: 2, 147: 0, 387: 1, 367: 2, 567: 1, 547: 1, 527: 2, 507: 2, 487: 2, 467: 2, 447: 2, 427: 2, 587: 1, 347: 2, 979: 5, 975: 5, 362: 3, 342: 0, 382: 3, 162: 3, 142: 4, 182: 2, 562: 3, 542: 3, 522: 3, 502: 3, 482: 3, 462: 3, 442: 3, 422: 1, 402: 1, 582: 3, 322: 3, 302: 3, 282: 3, 262: 0, 242: 0, 62: 0, 42: 3, 82: 0, 122: 0, 102: 3, 722: 1, 742: 0, 702: 1, 682: 3, 662: 1, 642: 3, 622: 1, 222: 3, 202: 1, 2: 4, 18: 0, 22: 3, 602: 1, 762: 1, 782: 2, 942: 1, 922: 1, 902: 1, 882: 3, 862: 1, 842: 3, 822: 1, 38: 3, 218: 0, 238: 0, 438: 3, 418: 0, 458: 3, 802: 2, 618: 0, 818: 5, 810: 5, 21: 3, 1: 4, 17: 0, 37: 0, 217: 2, 237: 0, 221: 3, 201: 1, 421: 1, 401: 1, 441: 3, 621: 1, 641: 3, 601: 1, 461: 3, 241: 0, 481: 3, 261: 0, 281: 3, 301: 3, 61: 0, 41: 0, 81: 3, 661: 1, 681: 1, 821: 2, 841: 1, 417: 2, 437: 2, 457: 2, 477: 2, 617: 1, 637: 0, 837: 2, 857: 1, 657: 1, 817: 1, 809: 4, 609: 0, 409: 0, 429: 3, 449: 3, 209: 0, 229: 0, 9: 0, 29: 1, 801: 1, 501: 3, 101: 1, 701: 3, 861: 1, 881: 1, 901: 1, 121: 1, 321: 1, 521: 3, 541: 3, 721: 1, 741: 3, 561: 3, 341: 0, 361: 3, 141: 0, 161: 3, 921: 0, 941: 3, 381: 2, 181: 3, 581: 3, 761: 2, 781: 0, 961: 3, 981: 0, 257: 0, 629: 1, 649: 3, 469: 3, 249: 0, 269: 3, 49: 0, 69: 1, 829: 1, 849: 3, 489: 3, 289: 0, 89: 0, 669: 2, 689: 1, 509: 3, 309: 0, 109: 0, 709: 3, 869: 2, 889: 1, 909: 1, 529: 3, 329: 2, 129: 0, 549: 3, 729: 1, 749: 3, 497: 2, 297: 0, 277: 0, 317: 0, 97: 2, 77: 0, 57: 3, 117: 2, 677: 2, 697: 2, 517: 2, 717: 1, 917: 2, 897: 1, 877: 0, 337: 0, 137: 2, 537: 2, 557: 2, 737: 1, 757: 1, 577: 1, 357: 0, 377: 2, 937: 2, 957: 1, 597: 1, 397: 1, 197: 5, 185: 5, 108: 0, 88: 0, 68: 0, 48: 0, 128: 3, 308: 0, 288: 3, 268: 0, 328: 0, 248: 0, 508: 3, 488: 3, 468: 3, 448: 3, 428: 3, 408: 0, 528: 3, 708: 3, 688: 1, 668: 1, 868: 1, 888: 1, 908: 2, 648: 1, 628: 1, 228: 0, 208: 0, 28: 3, 8: 0, 828: 1, 848: 1, 608: 0, 808: 4, 816: 1, 616: 1, 592: 0, 572: 0, 552: 2, 532: 2, 392: 3, 372: 0, 352: 0, 192: 0, 172: 0, 152: 3, 792: 3, 772: 0, 752: 1, 732: 3, 512: 2, 492: 2, 472: 2, 452: 2, 432: 2, 412: 2, 212: 0, 252: 2, 272: 0, 52: 1, 72: 0, 652: 1, 632: 1, 232: 0, 32: 0, 12: 1, 612: 1, 332: 0, 312: 0, 292: 2, 92: 2, 112: 0, 132: 0, 712: 1, 692: 1, 672: 1, 872: 1, 892: 2, 992: 3, 972: 4, 976: 1, 996: 5, 776: 1, 796: 3, 952: 1, 932: 3, 912: 1, 852: 2, 832: 2, 812: 2, 756: 1, 736: 1, 956: 2, 336: 0, 316: 3, 136: 1, 116: 1, 936: 3, 716: 3, 696: 1, 676: 1, 916: 3, 896: 2, 876: 1, 636: 1, 856: 2, 836: 3, 193: 2, 173: 0, 153: 0, 393: 3, 373: 0, 353: 0, 593: 0, 573: 0, 553: 2, 533: 2, 513: 2, 313: 0, 293: 2, 273: 2, 253: 0, 333: 0, 113: 0, 93: 0, 73: 2, 53: 1, 133: 3, 493: 2, 473: 2, 453: 2, 653: 1, 633: 2, 433: 2, 413: 2, 793: 3, 773: 0, 973: 4, 977: 1, 993: 3, 997: 1, 777: 1, 797: 1, 753: 1, 733: 1, 713: 1, 693: 1, 673: 1, 953: 1, 933: 1, 913: 1, 893: 0, 873: 3, 233: 0, 213: 0, 33: 0, 13: 2, 613: 1, 853: 3, 833: 0, 813: 0, 177: 2, 157: 2, 74: 2, 54: 1, 94: 0, 274: 2, 254: 0, 294: 0, 114: 0, 314: 2, 134: 0, 494: 2, 474: 2, 454: 2, 434: 2, 414: 2, 514: 2, 534: 2, 334: 0, 714: 1, 694: 1, 674: 2, 654: 1, 634: 2, 234: 0, 214: 3, 34: 3, 14: 3, 614: 3, 894: 1, 874: 3, 914: 1, 854: 2, 834: 3, 554: 2, 734: 1, 754: 1, 574: 0, 354: 0, 374: 0, 154: 3, 174: 3, 934: 1, 954: 1, 814: 2, 594: 3, 394: 0, 194: 2, 774: 0, 794: 0, 974: 4, 978: 1, 994: 3, 998: 1, 778: 1, 798: 1, 598: 3, 578: 3, 398: 3, 378: 0, 358: 0, 198: 3, 186: 4, 178: 0, 158: 0, 558: 3, 758: 1, 738: 1, 538: 3, 518: 3, 498: 3, 478: 3, 338: 0, 318: 3, 298: 0, 278: 0, 258: 0, 138: 0, 118: 3, 98: 0, 78: 1, 58: 0, 718: 1, 918: 2, 898: 3, 878: 1, 698: 1, 678: 3, 658: 1, 638: 1, 166: 2, 146: 2, 386: 1, 366: 2, 346: 1, 566: 2, 546: 1, 958: 2, 938: 3, 858: 1, 838: 3, 999: 3, 586: 1, 526: 2, 506: 2, 486: 2, 466: 2, 446: 2, 426: 2, 406: 3, 766: 1, 786: 1, 746: 1, 726: 3, 326: 0, 306: 0, 286: 2, 86: 2, 66: 2, 46: 2, 106: 0, 266: 2, 246: 0, 126: 0, 706: 1, 686: 2, 886: 2, 866: 3, 906: 1, 666: 0, 966: 2, 986: 1, 946: 2, 926: 0, 646: 0, 626: 3, 226: 0, 206: 0, 26: 3, 6: 3, 846: 0, 826: 3, 606: 0, 806: 3, 962: 3, 982: 3, 568: 3, 548: 3, 728: 1, 748: 1, 588: 3, 768: 1, 788: 2, 368: 0, 348: 0, 388: 3, 168: 0, 148: 3, 188: 2, 968: 1, 988: 2, 948: 1, 928: 1, 767: 1, 787: 1, 747: 1, 727: 2, 327: 0, 307: 2, 287: 0, 267: 2, 247: 2, 127: 1, 107: 0, 87: 0, 67: 2, 47: 1, 707: 1, 687: 2, 667: 1, 647: 1, 627: 2, 407: 2, 227: 0, 207: 0, 27: 0, 7: 3, 607: 1, 807: 3, 947: 1, 927: 1, 987: 1, 967: 3, 907: 1, 887: 1, 867: 3, 847: 1, 827: 2, 569: 3, 349: 0, 369: 3, 149: 0, 169: 0, 949: 1, 929: 3, 389: 1, 189: 0, 589: 4, 769: 3, 789: 2, 989: 2, 969: 3}\n"
     ]
    }
   ],
   "source": [
    ">>> print('The optimal policy:\\n', optimal_policy)"
   ]
  },
  {
   "cell_type": "code",
   "execution_count": 27,
   "metadata": {},
   "outputs": [
    {
     "data": {
      "image/png": "[encoded data removed]",
      "text/plain": [
       "<Figure size 432x288 with 1 Axes>"
      ]
     },
     "metadata": {
      "needs_background": "light"
     },
     "output_type": "display_data"
    }
   ],
   "source": [
    ">>> import matplotlib.pyplot as plt\n",
    ">>> plt.plot(length_episode)\n",
    ">>> plt.title('Episode length over time')\n",
    ">>> plt.xlabel('Episode')\n",
    ">>> plt.ylabel('Length')\n",
    ">>> plt.show()"
   ]
  },
  {
   "cell_type": "code",
   "execution_count": 28,
   "metadata": {},
   "outputs": [
    {
     "name": "stdout",
     "output_type": "stream",
     "text": [
      "[831, 2018, 530, 1790, 289, 1254, 844, 1277, 1426, 1091, 226, 1268, 1944, 685, 1291, 623, 612, 999, 1193, 649, 511, 1426, 583, 850, 203, 660, 457, 180, 890, 383, 533, 381, 331, 1007, 345, 510, 474, 365, 442, 790, 452, 984, 726, 151, 736, 468, 20, 337, 203, 189, 479, 564, 201, 282, 534, 586, 478, 447, 279, 485, 724, 148, 203, 55, 131, 57, 7, 261, 479, 536, 262, 172, 100, 295, 517, 194, 46, 211, 443, 153, 319, 299, 190, 590, 251, 336, 195, 28, 395, 331, 128, 525, 175, 24, 37, 221, 425, 167, 174, 1031, 342, 457, 335, 376, 356, 93, 550, 192, 143, 185, 51, 169, 206, 210, 204, 155, 133, 157, 382, 25, 8, 14, 509, 387, 132, 65, 96, 315, 121, 363, 361, 93, 214, 275, 322, 145, 220, 90, 343, 28, 184, 396, 223, 184, 255, 133, 101, 79, 37, 112, 41, 93, 140, 38, 406, 131, 7, 326, 38, 70, 101, 74, 717, 92, 24, 216, 131, 106, 73, 60, 21, 39, 200, 113, 271, 125, 14, 251, 18, 188, 446, 65, 173, 85, 24, 51, 232, 46, 14, 239, 235, 236, 53, 128, 29, 98, 68, 66, 48, 17, 30, 272, 266, 17, 35, 140, 20, 10, 202, 23, 54, 72, 23, 147, 132, 89, 70, 50, 17, 251, 250, 53, 22, 14, 68, 122, 44, 52, 189, 21, 39, 57, 75, 282, 11, 383, 39, 87, 42, 17, 181, 150, 18, 145, 14, 184, 278, 254, 27, 52, 74, 21, 63, 408, 19, 176, 64, 88, 61, 30, 43, 221, 174, 13, 148, 21, 137, 91, 66, 73, 168, 91, 13, 210, 26, 25, 40, 23, 25, 21, 26, 85, 17, 201, 124, 74, 141, 16, 12, 146, 22, 164, 20, 32, 18, 53, 29, 8, 17, 33, 98, 129, 73, 16, 33, 32, 71, 29, 129, 31, 23, 17, 34, 19, 63, 38, 15, 189, 117, 50, 83, 24, 52, 230, 13, 41, 191, 18, 31, 20, 262, 17, 18, 15, 110, 105, 21, 15, 123, 48, 36, 120, 77, 65, 24, 14, 146, 133, 76, 137, 17, 52, 24, 17, 36, 17, 112, 19, 81, 171, 113, 87, 141, 9, 113, 80, 18, 55, 26, 29, 21, 31, 18, 45, 17, 15, 24, 19, 34, 50, 119, 96, 29, 68, 96, 17, 51, 22, 55, 36, 39, 25, 26, 10, 73, 36, 38, 19, 91, 27, 32, 17, 21, 66, 19, 108, 16, 10, 28, 26, 17, 51, 179, 21, 13, 136, 21, 57, 17, 15, 41, 15, 53, 35, 76, 20, 41, 87, 25, 16, 14, 104, 39, 20, 23, 41, 12, 28, 19, 33, 78, 18, 16, 40, 13, 12, 77, 67, 23, 100, 22, 15, 16, 50, 51, 25, 16, 13, 19, 17, 28, 112, 22, 121, 137, 26, 16, 40, 137, 80, 20, 35, 27, 91, 36, 37, 16, 25, 9, 30, 83, 33, 26, 35, 36, 33, 43, 29, 14, 39, 17, 14, 85, 11, 26, 25, 22, 25, 42, 57, 23, 20, 83, 25, 38, 10, 35, 17, 10, 24, 19, 52, 121, 17, 29, 15, 18, 26, 22, 14, 16, 8, 20, 48, 26, 118, 16, 106, 19, 12, 26, 34, 48, 39, 18, 24, 17, 29, 16, 54, 24, 15, 11, 44, 22, 31, 22, 31, 18, 15, 24, 25, 55, 21, 22, 80, 26, 32, 11, 31, 27, 17, 26, 81, 19, 27, 57, 27, 34, 33, 20, 19, 14, 22, 8, 17, 32, 13, 26, 20, 30, 24, 16, 21, 21, 19, 16, 27, 10, 14, 28, 122, 18, 22, 39, 17, 25, 52, 30, 30, 14, 32, 40, 19, 16, 11, 27, 19, 34, 18, 14, 16, 11, 28, 17, 20, 24, 27, 83, 23, 33, 17, 16, 29, 48, 35, 24, 18, 40, 12, 61, 19, 86, 28, 30, 30, 29, 29, 87, 26, 20, 18, 25, 13, 30, 31, 22, 32, 17, 12, 24, 31, 24, 31, 25, 32, 51, 10, 28, 26, 28, 14, 40, 36, 48, 17, 17, 11, 13, 11, 137, 23, 33, 22, 28, 19, 14, 23, 20, 23, 53, 26, 24, 18, 17, 33, 14, 75, 15, 23, 18, 23, 19, 23, 21, 19, 27, 62, 56, 19, 46, 17, 29, 20, 35, 21, 47, 25, 28, 21, 19, 19, 28, 34, 15, 24, 25, 27, 21, 51, 36, 28, 24, 18, 18, 13, 12, 31, 27, 33, 28, 12, 28, 33, 9, 16, 22, 22, 24, 24, 24, 14, 18, 23, 26, 38, 35, 16, 29, 31, 17, 34, 27, 21, 20, 15, 40, 20, 15, 28, 64, 13, 30, 20, 13, 21, 17, 24, 33, 24, 21, 38, 21, 41, 12, 19, 23, 18, 8, 25, 17, 22, 25, 23, 26, 23, 22, 28, 25, 52, 43, 16, 22, 19, 31, 25, 30, 32, 35, 32, 28, 17, 24, 22, 26, 19, 20, 24, 14, 36, 24, 19, 30, 15, 16, 28, 34, 20, 15, 26, 29, 25, 26, 24, 33, 26, 35, 47, 24, 17, 46, 23, 19, 27, 21, 38, 35, 28, 25, 21, 20, 26, 29, 25, 24, 19, 24, 29, 28, 23, 18, 33, 27, 15, 27, 23, 29, 15, 34, 24, 22, 17, 32, 28, 21, 17, 18, 23, 27, 19, 25, 22, 26, 20, 37, 29, 30, 28, 29, 14, 19, 19, 14, 18, 33, 19, 19, 24, 26, 29, 20, 29, 12, 29, 22, 9, 9, 13, 21, 21, 21, 25, 18, 13, 25, 15, 25, 25, 9, 16, 21, 24, 22, 13, 17, 10, 27, 37, 16, 27, 27, 12, 38, 21, 16, 20, 26, 23, 25, 29, 26, 23, 17, 24, 24, 29, 24, 25, 25, 18, 22, 25, 20, 17, 26, 36, 20, 34, 24, 32, 26, 22, 30, 7, 11, 19, 17, 15, 19, 21, 35, 19, 29, 25, 20, 21, 26, 28, 15, 25, 7, 25, 15, 30, 24, 22, 24, 28, 29, 25, 17, 14, 25, 26, 40, 27, 28, 31, 12, 19, 17, 15, 19, 28, 26, 29, 28, 20, 19, 25]\n"
     ]
    }
   ],
   "source": [
    "print(length_episode)"
   ]
  },
  {
   "cell_type": "code",
   "execution_count": 29,
   "metadata": {},
   "outputs": [],
   "source": [
    "import numpy as np\n",
    "\n",
    "from bokeh.io import show\n",
    "from bokeh.layouts import column\n",
    "from bokeh.models import ColumnDataSource, RangeTool\n",
    "from bokeh.plotting import figure"
   ]
  },
  {
   "cell_type": "code",
   "execution_count": 30,
   "metadata": {},
   "outputs": [],
   "source": [
    "Y=np.array(length_episode)"
   ]
  },
  {
   "cell_type": "code",
   "execution_count": 31,
   "metadata": {},
   "outputs": [],
   "source": [
    "p = figure(plot_height=300, plot_width=800, tools=\"xpan\", toolbar_location=None,\n",
    "           x_axis_type=\"linear\", x_axis_location=\"above\",\n",
    "           background_fill_color=\"#efefef\", x_range=(50,150))"
   ]
  },
  {
   "cell_type": "code",
   "execution_count": 32,
   "metadata": {},
   "outputs": [],
   "source": [
    "p.line(range(0, 1000),Y)\n",
    "p.yaxis.axis_label = 'Length'"
   ]
  },
  {
   "cell_type": "code",
   "execution_count": 33,
   "metadata": {},
   "outputs": [],
   "source": [
    "select = figure(title=\"Drag the middle and edges of the selection box to change the range above\",\n",
    "                plot_height=130, plot_width=800, y_range=p.y_range,\n",
    "                x_axis_type=\"linear\", y_axis_type=None,\n",
    "                tools=\"\", toolbar_location=None, background_fill_color=\"#efefef\")"
   ]
  },
  {
   "cell_type": "code",
   "execution_count": 34,
   "metadata": {},
   "outputs": [],
   "source": [
    "range_tool = RangeTool(x_range=p.x_range)\n",
    "range_tool.overlay.fill_color = \"navy\"\n",
    "range_tool.overlay.fill_alpha = 0.2"
   ]
  },
  {
   "cell_type": "code",
   "execution_count": 35,
   "metadata": {},
   "outputs": [],
   "source": [
    "select.line(range(0, 1000),Y)\n",
    "select.ygrid.grid_line_color = None\n",
    "select.add_tools(range_tool)\n",
    "select.toolbar.active_multi = range_tool"
   ]
  },
  {
   "cell_type": "code",
   "execution_count": 36,
   "metadata": {},
   "outputs": [],
   "source": [
    "show(column(p, select))"
   ]
  },
  {
   "cell_type": "code",
   "execution_count": 37,
   "metadata": {},
   "outputs": [
    {
     "data": {
      "image/png": "[encoded data removed]",
      "text/plain": [
       "<Figure size 432x288 with 1 Axes>"
      ]
     },
     "metadata": {
      "needs_background": "light"
     },
     "output_type": "display_data"
    }
   ],
   "source": [
    ">>> plt.plot(total_reward_episode)\n",
    ">>> plt.title('Episode reward over time')\n",
    ">>> plt.xlabel('Episode')\n",
    ">>> plt.ylabel('Total reward')\n",
    ">>> plt.show()"
   ]
  },
  {
   "cell_type": "code",
   "execution_count": 38,
   "metadata": {},
   "outputs": [
    {
     "name": "stdout",
     "output_type": "stream",
     "text": [
      "[-2412, -5435, -1670, -4514, -952, -2799, -2119, -3371, -1855, -1439, -268, -2399, -2652, -1114, -1657, -827, -1248, -1941, -1820, -826, -697, -1828, -715, -1072, -245, -1152, -625, -231, -1130, -488, -800, -477, -436, -1256, -423, -696, -570, -524, -565, -1453, -809, -1647, -1290, -166, -1327, -591, -8, -496, -245, -222, -629, -714, -225, -378, -711, -871, -628, -705, -357, -608, -1405, -181, -281, -61, -137, -45, 14, -303, -764, -650, -502, -205, -97, -400, -748, -200, -70, -289, -557, -276, -415, -395, -367, -767, -347, -513, -264, -70, -815, -409, -206, -774, -217, -12, -43, -335, -647, -200, -189, -1622, -438, -634, -458, -571, -524, -108, -898, -243, -221, -236, -57, -211, -374, -279, -210, -215, -193, -289, -568, -13, 13, 7, -632, -618, -201, -80, -138, -402, -145, -486, -430, -117, -256, -371, -499, -160, -235, -96, -385, -7, -208, -573, -274, -244, -342, -148, -98, -58, -34, -172, -20, -90, -173, -44, -592, -164, 14, -440, -71, -112, -98, -62, -1209, -134, -12, -312, -164, -121, -61, -48, -27, -36, -323, -155, -322, -131, -2, -320, 3, -266, -569, -44, -224, -127, -3, -39, -364, -34, 7, -326, -340, -296, -50, -170, -26, -113, -101, -81, -36, 4, -27, -404, -371, 4, -23, -173, -8, 2, -289, -11, -42, -114, -2, -189, -165, -104, -85, -47, -5, -320, -337, -86, -19, 7, -101, -164, -41, -49, -249, -18, -45, -63, -90, -360, 10, -569, -45, -102, -30, 4, -250, -210, 3, -196, 7, -244, -338, -395, -6, -40, -71, 0, -60, -603, 2, -191, -88, -103, -76, -18, -31, -263, -216, -1, -163, 0, -179, -142, -45, -88, -264, -115, 8, -315, -5, -4, -37, -11, -13, 0, -23, -136, 4, -252, -157, -116, -183, 5, -9, -206, -1, -206, 1, -20, -15, -32, -26, 13, -5, -30, -167, -198, -70, 5, -30, -11, -50, -8, -180, -19, -2, 4, -31, -7, -60, -35, 6, -249, -132, -56, -107, -12, -31, -317, -10, -38, -233, 3, -28, 1, -394, -5, 3, 6, -116, -147, 0, 6, -147, -36, -15, -126, -83, -53, -3, -2, -215, -211, -73, -197, -5, -40, -3, -5, -33, -14, -163, 2, -105, -222, -146, -66, -192, 12, -128, -122, -15, -79, -5, -17, -9, -10, -6, -42, 4, -3, -3, 2, -22, -74, -143, -111, -17, -65, -111, -5, -57, -1, -61, -15, -27, -4, -23, 11, -97, -42, -26, 2, -106, -24, -11, -5, 0, -72, -16, -123, -4, 11, -7, -5, 4, -57, -284, 0, 8, -142, -18, -54, 4, 6, -56, -3, -50, -32, -109, 1, -38, -111, -40, -13, 7, -155, -27, -8, -11, -38, 9, -16, 2, -21, -75, 3, 5, -46, 8, 9, -92, -91, -2, -115, -10, -3, -4, -47, -84, -4, -4, 8, 2, 4, -7, -136, -1, -118, -161, -23, 5, -37, -152, -86, 1, -32, -15, -124, -33, -16, 5, -22, 3, -27, -89, -12, -14, -23, -15, -21, -49, -26, -2, -27, 4, -11, -82, 10, -23, -22, -10, -4, -39, -63, -2, 1, -80, -4, -53, 11, -32, -5, 11, -3, 2, -49, -154, 4, -26, 6, -6, -14, -19, 7, -13, 13, -8, -45, -5, -133, 5, -139, -16, 0, -5, -49, -27, -18, -6, -3, 4, -8, 5, -123, -3, 6, 10, -41, -10, -10, -1, -10, 3, -3, -3, -13, -52, -18, -19, -77, -23, -11, 1, -28, -15, 4, -5, -69, -7, -6, -54, -24, -40, -12, -8, 2, 7, -1, 13, -5, -11, 8, -5, -8, -27, -12, -13, 0, -18, 2, 5, -6, 11, 7, -7, -227, -6, -10, -18, -5, -4, -49, -9, -18, 7, -20, -46, 2, 5, 1, -6, -7, -22, -6, 7, -4, 10, -16, 4, -8, -3, -33, -107, -2, -21, 4, 5, -17, -54, -41, -21, -6, -19, 9, -58, 2, -83, -7, -18, -18, -17, -35, -84, -5, 1, 3, -4, 8, -36, -28, -1, -29, -5, 9, -12, -28, -21, -10, -4, -20, -102, 11, -7, -32, -7, -2, -28, -33, -36, -5, 4, 10, 8, 1, -134, -2, -30, -10, -25, 2, 7, -20, -8, -2, -50, -14, -21, -6, 4, -30, 7, -108, 6, -20, -6, -20, 2, -2, -27, 2, -24, -59, -71, 2, -61, 4, -17, -8, -59, -9, -44, -22, -7, -9, -25, -16, -16, -22, 6, -3, -4, -15, 0, -39, -33, -16, -3, 3, 3, 8, 9, -28, -6, -12, -16, 0, -7, -12, 12, 5, -10, -1, -21, -3, -12, 7, 3, -2, -5, -53, -32, 5, -8, -10, 4, -40, -15, 0, -8, -12, -28, -8, 6, -25, -88, 8, -27, 1, 8, 0, 4, -21, -12, -3, 0, -44, 0, -65, 0, 2, -11, 3, 13, -4, 4, -28, -13, -11, -23, -11, -1, -7, -13, -58, -22, 5, -1, 2, -19, -13, -18, -20, -32, -38, -25, 4, -3, -28, -23, -7, 1, -3, 7, -42, -12, 2, -27, -3, -4, -7, -13, 1, 6, -14, -26, -13, -5, -3, -12, -23, -14, -44, -12, 4, -34, -2, 2, -24, 0, -26, -23, -16, -4, 0, 1, -23, -17, -13, -12, -7, -3, -26, -16, -11, 3, -21, -24, -3, -24, -2, -17, 6, -13, -12, -1, 4, -38, -7, 0, 4, 3, -2, -15, -7, -13, -1, -5, 1, -43, -26, -9, -25, -17, 7, -16, 2, 7, -24, -30, 2, -7, -12, -5, -17, 1, -8, 0, -8, -10, 3, 12, -1, 0, -9, 0, -13, 3, 8, -4, -3, -4, -4, 12, 5, -18, -12, -1, -1, 4, 11, -24, -25, -4, -24, -15, 9, -35, -9, 5, -8, -32, -11, -4, -35, -14, -11, -5, -12, -12, -17, -21, -4, -4, 3, -10, -4, -8, 4, -14, -15, 1, -13, -12, -11, -14, -1, -9, 14, 10, 2, 4, 6, -7, -9, -32, 2, -26, -13, 1, -9, -5, -16, -12, -4, 14, -13, 6, -18, -3, -10, -21, -7, -17, -4, 4, 7, -31, -14, -37, -6, -7, -19, 9, -7, 4, 6, 2, -7, -5, -26, -7, 1, 2, -22]\n"
     ]
    }
   ],
   "source": [
    "print(total_reward_episode)"
   ]
  },
  {
   "cell_type": "code",
   "execution_count": 39,
   "metadata": {},
   "outputs": [],
   "source": [
    "Y1=np.array(total_reward_episode)"
   ]
  },
  {
   "cell_type": "code",
   "execution_count": 40,
   "metadata": {},
   "outputs": [],
   "source": [
    "p2 = figure(plot_height=300, plot_width=800, tools=\"xpan\", toolbar_location=None,\n",
    "           x_axis_type=\"linear\", x_axis_location=\"above\",\n",
    "           background_fill_color=\"#efefef\", x_range=(50,150))"
   ]
  },
  {
   "cell_type": "code",
   "execution_count": 41,
   "metadata": {},
   "outputs": [],
   "source": [
    "p2.line(range(0, 1000),Y1)\n",
    "p2.yaxis.axis_label = 'Total reward'"
   ]
  },
  {
   "cell_type": "code",
   "execution_count": 42,
   "metadata": {},
   "outputs": [],
   "source": [
    "select = figure(title=\"Drag the middle and edges of the selection box to change the range above\",\n",
    "                plot_height=130, plot_width=800, y_range=p2.y_range,\n",
    "                x_axis_type=\"linear\", y_axis_type=None,\n",
    "                tools=\"\", toolbar_location=None, background_fill_color=\"#efefef\")"
   ]
  },
  {
   "cell_type": "code",
   "execution_count": 43,
   "metadata": {},
   "outputs": [],
   "source": [
    "range_tool = RangeTool(x_range=p2.x_range)\n",
    "range_tool.overlay.fill_color = \"navy\"\n",
    "range_tool.overlay.fill_alpha = 0.2"
   ]
  },
  {
   "cell_type": "code",
   "execution_count": 44,
   "metadata": {},
   "outputs": [],
   "source": [
    "select.line(range(0, 1000),Y1)\n",
    "select.ygrid.grid_line_color = None\n",
    "select.add_tools(range_tool)\n",
    "select.toolbar.active_multi = range_tool"
   ]
  },
  {
   "cell_type": "code",
   "execution_count": 45,
   "metadata": {},
   "outputs": [],
   "source": [
    "show(column(p2, select))"
   ]
  },
  {
   "cell_type": "code",
   "execution_count": 79,
   "metadata": {},
   "outputs": [],
   "source": [
    "##Bonus Track##"
   ]
  },
  {
   "cell_type": "code",
   "execution_count": 80,
   "metadata": {},
   "outputs": [],
   "source": [
    "from bokeh.layouts import gridplot\n",
    "from bokeh.plotting import figure, output_file, show"
   ]
  },
  {
   "cell_type": "code",
   "execution_count": 81,
   "metadata": {},
   "outputs": [],
   "source": [
    "TOOLS = \"pan,wheel_zoom,box_zoom,reset,save,box_select\""
   ]
  },
  {
   "cell_type": "code",
   "execution_count": 82,
   "metadata": {},
   "outputs": [],
   "source": [
    "p3 = figure(title=\"Episode length over time New Map\", tools=TOOLS)"
   ]
  },
  {
   "cell_type": "code",
   "execution_count": 83,
   "metadata": {},
   "outputs": [
    {
     "data": {
      "text/html": [
       "<div style=\"display: table;\"><div style=\"display: table-row;\"><div style=\"display: table-cell;\"><b title=\"bokeh.models.renderers.GlyphRenderer\">GlyphRenderer</b>(</div><div style=\"display: table-cell;\">id&nbsp;=&nbsp;'2855', <span id=\"2867\" style=\"cursor: pointer;\">&hellip;)</span></div></div><div class=\"2866\" style=\"display: none;\"><div style=\"display: table-cell;\"></div><div style=\"display: table-cell;\">data_source&nbsp;=&nbsp;ColumnDataSource(id='2852', ...),</div></div><div class=\"2866\" style=\"display: none;\"><div style=\"display: table-cell;\"></div><div style=\"display: table-cell;\">glyph&nbsp;=&nbsp;Line(id='2853', ...),</div></div><div class=\"2866\" style=\"display: none;\"><div style=\"display: table-cell;\"></div><div style=\"display: table-cell;\">hover_glyph&nbsp;=&nbsp;None,</div></div><div class=\"2866\" style=\"display: none;\"><div style=\"display: table-cell;\"></div><div style=\"display: table-cell;\">js_event_callbacks&nbsp;=&nbsp;{},</div></div><div class=\"2866\" style=\"display: none;\"><div style=\"display: table-cell;\"></div><div style=\"display: table-cell;\">js_property_callbacks&nbsp;=&nbsp;{},</div></div><div class=\"2866\" style=\"display: none;\"><div style=\"display: table-cell;\"></div><div style=\"display: table-cell;\">level&nbsp;=&nbsp;'glyph',</div></div><div class=\"2866\" style=\"display: none;\"><div style=\"display: table-cell;\"></div><div style=\"display: table-cell;\">muted&nbsp;=&nbsp;False,</div></div><div class=\"2866\" style=\"display: none;\"><div style=\"display: table-cell;\"></div><div style=\"display: table-cell;\">muted_glyph&nbsp;=&nbsp;None,</div></div><div class=\"2866\" style=\"display: none;\"><div style=\"display: table-cell;\"></div><div style=\"display: table-cell;\">name&nbsp;=&nbsp;None,</div></div><div class=\"2866\" style=\"display: none;\"><div style=\"display: table-cell;\"></div><div style=\"display: table-cell;\">nonselection_glyph&nbsp;=&nbsp;Line(id='2854', ...),</div></div><div class=\"2866\" style=\"display: none;\"><div style=\"display: table-cell;\"></div><div style=\"display: table-cell;\">selection_glyph&nbsp;=&nbsp;None,</div></div><div class=\"2866\" style=\"display: none;\"><div style=\"display: table-cell;\"></div><div style=\"display: table-cell;\">subscribed_events&nbsp;=&nbsp;[],</div></div><div class=\"2866\" style=\"display: none;\"><div style=\"display: table-cell;\"></div><div style=\"display: table-cell;\">tags&nbsp;=&nbsp;[],</div></div><div class=\"2866\" style=\"display: none;\"><div style=\"display: table-cell;\"></div><div style=\"display: table-cell;\">view&nbsp;=&nbsp;CDSView(id='2856', ...),</div></div><div class=\"2866\" style=\"display: none;\"><div style=\"display: table-cell;\"></div><div style=\"display: table-cell;\">visible&nbsp;=&nbsp;True,</div></div><div class=\"2866\" style=\"display: none;\"><div style=\"display: table-cell;\"></div><div style=\"display: table-cell;\">x_range_name&nbsp;=&nbsp;'default',</div></div><div class=\"2866\" style=\"display: none;\"><div style=\"display: table-cell;\"></div><div style=\"display: table-cell;\">y_range_name&nbsp;=&nbsp;'default')</div></div></div>\n",
       "<script>\n",
       "(function() {\n",
       "  var expanded = false;\n",
       "  var ellipsis = document.getElementById(\"2867\");\n",
       "  ellipsis.addEventListener(\"click\", function() {\n",
       "    var rows = document.getElementsByClassName(\"2866\");\n",
       "    for (var i = 0; i < rows.length; i++) {\n",
       "      var el = rows[i];\n",
       "      el.style.display = expanded ? \"none\" : \"table-row\";\n",
       "    }\n",
       "    ellipsis.innerHTML = expanded ? \"&hellip;)\" : \"&lsaquo;&lsaquo;&lsaquo;\";\n",
       "    expanded = !expanded;\n",
       "  });\n",
       "})();\n",
       "</script>\n"
      ],
      "text/plain": [
       "GlyphRenderer(id='2855', ...)"
      ]
     },
     "execution_count": 83,
     "metadata": {},
     "output_type": "execute_result"
    }
   ],
   "source": [
    "\n",
    "##p3.circle(range(0, 1000), Y, legend_label=\"\")\n",
    "p3.line(range(0, 1000), Y, legend_label=\"\")"
   ]
  },
  {
   "cell_type": "code",
   "execution_count": 84,
   "metadata": {},
   "outputs": [],
   "source": [
    "p3.legend.title = ''"
   ]
  },
  {
   "cell_type": "code",
   "execution_count": 85,
   "metadata": {},
   "outputs": [],
   "source": [
    "p4 = figure(title=\"Episode reward over time New Map\", tools=TOOLS)"
   ]
  },
  {
   "cell_type": "code",
   "execution_count": 86,
   "metadata": {},
   "outputs": [
    {
     "data": {
      "text/html": [
       "<div style=\"display: table;\"><div style=\"display: table-row;\"><div style=\"display: table-cell;\"><b title=\"bokeh.models.renderers.GlyphRenderer\">GlyphRenderer</b>(</div><div style=\"display: table-cell;\">id&nbsp;=&nbsp;'2905', <span id=\"2917\" style=\"cursor: pointer;\">&hellip;)</span></div></div><div class=\"2916\" style=\"display: none;\"><div style=\"display: table-cell;\"></div><div style=\"display: table-cell;\">data_source&nbsp;=&nbsp;ColumnDataSource(id='2902', ...),</div></div><div class=\"2916\" style=\"display: none;\"><div style=\"display: table-cell;\"></div><div style=\"display: table-cell;\">glyph&nbsp;=&nbsp;Line(id='2903', ...),</div></div><div class=\"2916\" style=\"display: none;\"><div style=\"display: table-cell;\"></div><div style=\"display: table-cell;\">hover_glyph&nbsp;=&nbsp;None,</div></div><div class=\"2916\" style=\"display: none;\"><div style=\"display: table-cell;\"></div><div style=\"display: table-cell;\">js_event_callbacks&nbsp;=&nbsp;{},</div></div><div class=\"2916\" style=\"display: none;\"><div style=\"display: table-cell;\"></div><div style=\"display: table-cell;\">js_property_callbacks&nbsp;=&nbsp;{},</div></div><div class=\"2916\" style=\"display: none;\"><div style=\"display: table-cell;\"></div><div style=\"display: table-cell;\">level&nbsp;=&nbsp;'glyph',</div></div><div class=\"2916\" style=\"display: none;\"><div style=\"display: table-cell;\"></div><div style=\"display: table-cell;\">muted&nbsp;=&nbsp;False,</div></div><div class=\"2916\" style=\"display: none;\"><div style=\"display: table-cell;\"></div><div style=\"display: table-cell;\">muted_glyph&nbsp;=&nbsp;None,</div></div><div class=\"2916\" style=\"display: none;\"><div style=\"display: table-cell;\"></div><div style=\"display: table-cell;\">name&nbsp;=&nbsp;None,</div></div><div class=\"2916\" style=\"display: none;\"><div style=\"display: table-cell;\"></div><div style=\"display: table-cell;\">nonselection_glyph&nbsp;=&nbsp;Line(id='2904', ...),</div></div><div class=\"2916\" style=\"display: none;\"><div style=\"display: table-cell;\"></div><div style=\"display: table-cell;\">selection_glyph&nbsp;=&nbsp;None,</div></div><div class=\"2916\" style=\"display: none;\"><div style=\"display: table-cell;\"></div><div style=\"display: table-cell;\">subscribed_events&nbsp;=&nbsp;[],</div></div><div class=\"2916\" style=\"display: none;\"><div style=\"display: table-cell;\"></div><div style=\"display: table-cell;\">tags&nbsp;=&nbsp;[],</div></div><div class=\"2916\" style=\"display: none;\"><div style=\"display: table-cell;\"></div><div style=\"display: table-cell;\">view&nbsp;=&nbsp;CDSView(id='2906', ...),</div></div><div class=\"2916\" style=\"display: none;\"><div style=\"display: table-cell;\"></div><div style=\"display: table-cell;\">visible&nbsp;=&nbsp;True,</div></div><div class=\"2916\" style=\"display: none;\"><div style=\"display: table-cell;\"></div><div style=\"display: table-cell;\">x_range_name&nbsp;=&nbsp;'default',</div></div><div class=\"2916\" style=\"display: none;\"><div style=\"display: table-cell;\"></div><div style=\"display: table-cell;\">y_range_name&nbsp;=&nbsp;'default')</div></div></div>\n",
       "<script>\n",
       "(function() {\n",
       "  var expanded = false;\n",
       "  var ellipsis = document.getElementById(\"2917\");\n",
       "  ellipsis.addEventListener(\"click\", function() {\n",
       "    var rows = document.getElementsByClassName(\"2916\");\n",
       "    for (var i = 0; i < rows.length; i++) {\n",
       "      var el = rows[i];\n",
       "      el.style.display = expanded ? \"none\" : \"table-row\";\n",
       "    }\n",
       "    ellipsis.innerHTML = expanded ? \"&hellip;)\" : \"&lsaquo;&lsaquo;&lsaquo;\";\n",
       "    expanded = !expanded;\n",
       "  });\n",
       "})();\n",
       "</script>\n"
      ],
      "text/plain": [
       "GlyphRenderer(id='2905', ...)"
      ]
     },
     "execution_count": 86,
     "metadata": {},
     "output_type": "execute_result"
    }
   ],
   "source": [
    "##p4.circle(range(0, 1000),Y1, legend_label=\"\",color=\"orange\")\n",
    "p4.line(range(0, 1000),Y1, legend_label=\"\",color=\"orange\")"
   ]
  },
  {
   "cell_type": "code",
   "execution_count": 87,
   "metadata": {},
   "outputs": [],
   "source": [
    "p4.legend.title = ''"
   ]
  },
  {
   "cell_type": "code",
   "execution_count": 88,
   "metadata": {},
   "outputs": [],
   "source": [
    "output_file(\"lenght.html\", title=\"Episode length over time New Map\")\n",
    "\n",
    "show(gridplot([p3,p4], ncols=2, plot_width=400, plot_height=400))  # open a browser"
   ]
  },
  {
   "cell_type": "code",
   "execution_count": null,
   "metadata": {},
   "outputs": [],
   "source": []
  }
 ],
 "metadata": {
  "kernelspec": {
   "display_name": "Python 3",
   "language": "python",
   "name": "python3"
  },
  "language_info": {
   "codemirror_mode": {
    "name": "ipython",
    "version": 3
   },
   "file_extension": ".py",
   "mimetype": "text/x-python",
   "name": "python",
   "nbconvert_exporter": "python",
   "pygments_lexer": "ipython3",
   "version": "3.7.3"
  }
 },
 "nbformat": 4,
 "nbformat_minor": 2
}
