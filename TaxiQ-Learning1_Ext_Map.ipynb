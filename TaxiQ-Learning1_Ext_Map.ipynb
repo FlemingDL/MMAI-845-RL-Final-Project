{
 "cells": [
  {
   "cell_type": "code",
   "execution_count": null,
   "metadata": {},
   "outputs": [],
   "source": []
  },
  {
   "cell_type": "code",
   "execution_count": 1,
   "metadata": {},
   "outputs": [],
   "source": [
    "import sys\n",
    "from contextlib import closing\n",
    "from six import StringIO\n",
    "from gym import utils\n",
    "from gym.envs.toy_text import discrete\n",
    "import numpy as np\n",
    "from collections import defaultdict\n",
    "import gym\n",
    "import gym_fleming\n",
    "from gym import wrappers\n",
    "import torch"
   ]
  },
  {
   "cell_type": "code",
   "execution_count": null,
   "metadata": {},
   "outputs": [],
   "source": []
  },
  {
   "cell_type": "code",
   "execution_count": 2,
   "metadata": {},
   "outputs": [],
   "source": [
    "MAP1 = [\n",
    "    \"+-------------------+\",\n",
    "    \"|R: | : : : : | : :G|\",\n",
    "    \"| : | : : : : | : : |\",\n",
    "    \"| : : : : : : : : : |\",\n",
    "    \"| | : | : : | : | : |\",\n",
    "    \"|Y| : | : : | : |B: |\",\n",
    "    \"+-------------------+\",\n",
    "]"
   ]
  },
  {
   "cell_type": "code",
   "execution_count": 3,
   "metadata": {},
   "outputs": [],
   "source": [
    "class TaxiEnv(discrete.DiscreteEnv):\n",
    "    \"\"\"\n",
    "    The Taxi Problem\n",
    "    from \"Hierarchical Reinforcement Learning with the MAXQ Value Function Decomposition\"\n",
    "    by Tom Dietterich\n",
    "    Description:\n",
    "    There are four designated locations in the grid world indicated by R(ed), G(reen), Y(ellow), and B(lue). When the episode starts, the taxi starts off at a random square and the passenger is at a random location. The taxi drives to the passenger's location, picks up the passenger, drives to the passenger's destination (another one of the four specified locations), and then drops off the passenger. Once the passenger is dropped off, the episode ends.\n",
    "    Observations: \n",
    "    There are 500 discrete states since there are 25 taxi positions, 5 possible locations of the passenger (including the case when the passenger is in the taxi), and 4 destination locations. \n",
    "    \n",
    "    Passenger locations:\n",
    "    - 0: R(ed)\n",
    "    - 1: G(reen)\n",
    "    - 2: Y(ellow)\n",
    "    - 3: B(lue)\n",
    "    - 4: in taxi\n",
    "    \n",
    "    Destinations:\n",
    "    - 0: R(ed)\n",
    "    - 1: G(reen)\n",
    "    - 2: Y(ellow)\n",
    "    - 3: B(lue)\n",
    "        \n",
    "    Actions:\n",
    "    There are 6 discrete deterministic actions:\n",
    "    - 0: move south\n",
    "    - 1: move north\n",
    "    - 2: move east \n",
    "    - 3: move west \n",
    "    - 4: pickup passenger\n",
    "    - 5: dropoff passenger\n",
    "    \n",
    "    Rewards: \n",
    "    There is a reward of -1 for each action and an additional reward of +20 for delivering the passenger. There is a reward of -10 for executing actions \"pickup\" and \"dropoff\" illegally.\n",
    "    \n",
    "    Rendering:\n",
    "    - blue: passenger\n",
    "    - magenta: destination\n",
    "    - yellow: empty taxi\n",
    "    - green: full taxi\n",
    "    - other letters (R, G, Y and B): locations for passengers and destinations\n",
    "    \n",
    "    state space is represented by:\n",
    "        (taxi_row, taxi_col, passenger_location, destination)\n",
    "    \"\"\"\n",
    "    metadata = {'render.modes': ['human', 'ansi']}"
   ]
  },
  {
   "cell_type": "code",
   "execution_count": 4,
   "metadata": {},
   "outputs": [],
   "source": [
    "  def __init__(self):\n",
    "        self.desc = np.asarray(MAP1, dtype='c')\n",
    "\n",
    "        self.locs = locs = [(0,0), (0,9), (4,0), (4,8)]\n",
    "\n",
    "        num_states = 500\n",
    "        num_rows = 5\n",
    "        num_columns = 10\n",
    "        max_row = num_rows - 1\n",
    "        max_col = num_columns - 1\n",
    "        initial_state_distrib = np.zeros(num_states)\n",
    "        num_actions = 6\n",
    "        P = {state: {action: []\n",
    "                     for action in range(num_actions)} for state in range(num_states)}\n",
    "        for row in range(num_rows):\n",
    "            for col in range(num_columns):\n",
    "                for pass_idx in range(len(locs) + 1):  # +1 for being inside taxi\n",
    "                    for dest_idx in range(len(locs)):\n",
    "                        state = self.encode(row, col, pass_idx, dest_idx)\n",
    "                        if pass_idx < 4 and pass_idx != dest_idx:\n",
    "                            initial_state_distrib[state] += 1\n",
    "                        for action in range(num_actions):\n",
    "                            # defaults\n",
    "                            new_row, new_col, new_pass_idx = row, col, pass_idx\n",
    "                            reward = -1 # default reward when there is no pickup/dropoff\n",
    "                            done = False\n",
    "                            taxi_loc = (row, col)\n",
    "\n",
    "                            if action == 0:\n",
    "                                new_row = min(row + 1, max_row)\n",
    "                            elif action == 1:\n",
    "                                new_row = max(row - 1, 0)\n",
    "                            if action == 2 and self.desc[1 + row, 2 * col + 2] == b\":\":\n",
    "                                new_col = min(col + 1, max_col)\n",
    "                            elif action == 3 and self.desc[1 + row, 2 * col] == b\":\":\n",
    "                                new_col = max(col - 1, 0)\n",
    "                            elif action == 4:  # pickup\n",
    "                                if (pass_idx < 4 and taxi_loc == locs[pass_idx]):\n",
    "                                    new_pass_idx = 4\n",
    "                                else: # passenger not at location\n",
    "                                    reward = -10\n",
    "                            elif action == 5:  # dropoff\n",
    "                                if (taxi_loc == locs[dest_idx]) and pass_idx == 4:\n",
    "                                    new_pass_idx = dest_idx\n",
    "                                    done = True\n",
    "                                    reward = 20\n",
    "                                elif (taxi_loc in locs) and pass_idx == 4:\n",
    "                                    new_pass_idx = locs.index(taxi_loc)\n",
    "                                else: # dropoff at wrong location\n",
    "                                    reward = -10\n",
    "                            new_state = self.encode(\n",
    "                                new_row, new_col, new_pass_idx, dest_idx)\n",
    "                            P[state][action].append(\n",
    "                                (1.0, new_state, reward, done))\n",
    "        initial_state_distrib /= initial_state_distrib.sum()\n",
    "        discrete.DiscreteEnv.__init__(\n",
    "            self, num_states, num_actions, P, initial_state_distrib)"
   ]
  },
  {
   "cell_type": "code",
   "execution_count": 5,
   "metadata": {},
   "outputs": [],
   "source": [
    "    def encode(self, taxi_row, taxi_col, pass_loc, dest_idx):\n",
    "        # (5) 5, 5, 4\n",
    "        i = taxi_row\n",
    "        i *= 5\n",
    "        i += taxi_col\n",
    "        i *= 10\n",
    "        i += pass_loc\n",
    "        i *= 4\n",
    "        i += dest_idx\n",
    "        return i"
   ]
  },
  {
   "cell_type": "code",
   "execution_count": 6,
   "metadata": {},
   "outputs": [],
   "source": [
    "   def decode(self, i):\n",
    "        out = []\n",
    "        out.append(i % 4)\n",
    "        i = i // 4\n",
    "        out.append(i % 5)\n",
    "        i = i // 5\n",
    "        out.append(i % 5)\n",
    "        i = i // 5\n",
    "        out.append(i)\n",
    "        assert 0 <= i < 5\n",
    "        return reversed(out)"
   ]
  },
  {
   "cell_type": "code",
   "execution_count": null,
   "metadata": {},
   "outputs": [],
   "source": []
  },
  {
   "cell_type": "code",
   "execution_count": 7,
   "metadata": {},
   "outputs": [],
   "source": [
    "    def render(self, mode='human'):\n",
    "        outfile = StringIO() if mode == 'ansi' else sys.stdout\n",
    "\n",
    "        out = self.desc.copy().tolist()\n",
    "        out = [[c.decode('utf-8') for c in line] for line in out]\n",
    "        taxi_row, taxi_col, pass_idx, dest_idx = self.decode(self.s)\n",
    "\n",
    "        def ul(x): return \"_\" if x == \" \" else x\n",
    "        if pass_idx < 4:\n",
    "            out[1 + taxi_row][2 * taxi_col + 1] = utils.colorize(\n",
    "                out[1 + taxi_row][2 * taxi_col + 1], 'yellow', highlight=True)\n",
    "            pi, pj = self.locs[pass_idx]\n",
    "            out[1 + pi][2 * pj + 1] = utils.colorize(out[1 + pi][2 * pj + 1], 'blue', bold=True)\n",
    "        else:  # passenger in taxi\n",
    "            out[1 + taxi_row][2 * taxi_col + 1] = utils.colorize(\n",
    "                ul(out[1 + taxi_row][2 * taxi_col + 1]), 'green', highlight=True)\n",
    "\n",
    "        di, dj = self.locs[dest_idx]\n",
    "        out[1 + di][2 * dj + 1] = utils.colorize(out[1 + di][2 * dj + 1], 'magenta')\n",
    "        outfile.write(\"\\n\".join([\"\".join(row) for row in out]) + \"\\n\")\n",
    "        if self.lastaction is not None:\n",
    "            outfile.write(\"  ({})\\n\".format([\"South\", \"North\", \"East\", \"West\", \"Pickup\", \"Dropoff\"][self.lastaction]))\n",
    "        else: outfile.write(\"\\n\")\n",
    "\n",
    "        # No need to return anything for human\n",
    "        if mode != 'human':\n",
    "            with closing(outfile):\n",
    "                return outfile.getvalue()"
   ]
  },
  {
   "cell_type": "code",
   "execution_count": 8,
   "metadata": {},
   "outputs": [
    {
     "name": "stdout",
     "output_type": "stream",
     "text": [
      "1000\n"
     ]
    }
   ],
   "source": [
    "##env_to_wrap = gym.make('taxi_fleming-v0')\n",
    "##env = gym.wrappers.Monitor(env_to_wrap, \"C:/Users/Owner/Documents/MMAI/Reinf Learning/Taxi-Qlearning\",  video_callable=lambda episode_id: episode_id%500==0, force=True)\n",
    "##env = gym.wrappers.Monitor(env_to_wrap, \"C:/Users/Owner/Documents/MMAI/Reinf Learning/Taxi-Qlearning\", force=True)\n",
    "env_test = gym.make(\"taxi_fleming-v0\")\n",
    "env = gym.wrappers.Monitor(env_test, \"C:/Users/Owner/Documents/MMAI/Reinf Learning/Taxi-Qlearning\",  force=True)\n",
    "observation = env.reset()\n",
    "env.close()\n",
    "env_test.close()\n",
    "n_state = env.observation_space.n\n",
    "print(n_state)"
   ]
  },
  {
   "cell_type": "code",
   "execution_count": 9,
   "metadata": {},
   "outputs": [
    {
     "name": "stdout",
     "output_type": "stream",
     "text": [
      "6\n"
     ]
    }
   ],
   "source": [
    ">>> n_action = env.action_space.n\n",
    ">>> print(n_action)"
   ]
  },
  {
   "cell_type": "code",
   "execution_count": 10,
   "metadata": {},
   "outputs": [
    {
     "data": {
      "text/plain": [
       "381"
      ]
     },
     "execution_count": 10,
     "metadata": {},
     "output_type": "execute_result"
    }
   ],
   "source": [
    ">>> env.reset()"
   ]
  },
  {
   "cell_type": "code",
   "execution_count": 11,
   "metadata": {},
   "outputs": [
    {
     "name": "stdout",
     "output_type": "stream",
     "text": [
      "+-------------------+\n",
      "|R: | : : : : | : :G|\n",
      "| : | : : : : | : : |\n",
      "| : : : : : : : : : |\n",
      "| | : | : : | : | : |\n",
      "|Y| : | : : | : |B: |\n",
      "+-------------------+\n",
      "\n"
     ]
    }
   ],
   "source": [
    ">>> env.render()"
   ]
  },
  {
   "cell_type": "code",
   "execution_count": 12,
   "metadata": {},
   "outputs": [
    {
     "name": "stdout",
     "output_type": "stream",
     "text": [
      "(361, -1, False, {'prob': 1.0})\n",
      "(341, -1, False, {'prob': 1.0})\n",
      "(341, -1, False, {'prob': 1.0})\n",
      "(141, -1, False, {'prob': 1.0})\n",
      "(141, -1, False, {'prob': 1.0})\n",
      "(141, -10, False, {'prob': 1.0})\n"
     ]
    }
   ],
   "source": [
    "##Let's now go and pick up the passenger by heading west for three tiles and north for two tiles##\n",
    "##(you can adjust this according to your initial state) and then executing the pick-up. Then, we render the environment again##\n",
    "print(env.step(3))\n",
    "print(env.step(3))\n",
    "print(env.step(3))\n",
    "print(env.step(1))\n",
    "print(env.step(1))\n",
    "print(env.step(4))\n"
   ]
  },
  {
   "cell_type": "code",
   "execution_count": 13,
   "metadata": {},
   "outputs": [
    {
     "name": "stdout",
     "output_type": "stream",
     "text": [
      "+-------------------+\n",
      "|R: | : : : : | : :G|\n",
      "| : | : : : : | : : |\n",
      "| : : : : : : : : : |\n",
      "| | : | : : | : | : |\n",
      "|Y| : | : : | : |B: |\n",
      "+-------------------+\n",
      "  (Pickup)\n"
     ]
    }
   ],
   "source": [
    ">>> env.render()"
   ]
  },
  {
   "cell_type": "code",
   "execution_count": 14,
   "metadata": {},
   "outputs": [],
   "source": [
    "##Now, we go to the destination by heading south for four tiles (you can adjust this to your initial state) and then executing the drop-off:"
   ]
  },
  {
   "cell_type": "code",
   "execution_count": 15,
   "metadata": {},
   "outputs": [
    {
     "name": "stdout",
     "output_type": "stream",
     "text": [
      "(341, -1, False, {'prob': 1.0})\n",
      "(541, -1, False, {'prob': 1.0})\n",
      "(741, -1, False, {'prob': 1.0})\n",
      "(941, -1, False, {'prob': 1.0})\n",
      "(941, -10, False, {'prob': 1.0})\n"
     ]
    }
   ],
   "source": [
    ">>> print(env.step(0))\n",
    ">>> print(env.step(0))\n",
    ">>> print(env.step(0))\n",
    ">>> print(env.step(0))\n",
    ">>> print(env.step(5))"
   ]
  },
  {
   "cell_type": "code",
   "execution_count": 16,
   "metadata": {},
   "outputs": [
    {
     "name": "stdout",
     "output_type": "stream",
     "text": [
      "+-------------------+\n",
      "|R: | : : : : | : :G|\n",
      "| : | : : : : | : : |\n",
      "| : : : : : : : : : |\n",
      "| | : | : : | : | : |\n",
      "|Y| : | : : | : |B: |\n",
      "+-------------------+\n",
      "  (Dropoff)\n"
     ]
    }
   ],
   "source": [
    ">>> env.render()"
   ]
  },
  {
   "cell_type": "code",
   "execution_count": null,
   "metadata": {},
   "outputs": [],
   "source": []
  },
  {
   "cell_type": "markdown",
   "metadata": {},
   "source": [
    "## start defining the epsilon-greedy policy. ##"
   ]
  },
  {
   "cell_type": "code",
   "execution_count": 17,
   "metadata": {},
   "outputs": [],
   "source": [
    ">>> def gen_epsilon_greedy_policy(n_action, epsilon):\n",
    "        def policy_function(state, Q):\n",
    "            probs = torch.ones(n_action) * epsilon / n_action\n",
    "            best_action = torch.argmax(Q[state]).item()\n",
    "            probs[best_action] += 1.0 - epsilon\n",
    "            action = torch.multinomial(probs, 1).item()\n",
    "            return action\n",
    "        return policy_function"
   ]
  },
  {
   "cell_type": "markdown",
   "metadata": {},
   "source": [
    "##Now, we specify the number of episodes and initialize two variables used to track the length and total reward for each episode##"
   ]
  },
  {
   "cell_type": "code",
   "execution_count": 18,
   "metadata": {},
   "outputs": [],
   "source": [
    ">>> n_episode = 2000\n",
    ">>> length_episode = [0] * n_episode\n",
    ">>> total_reward_episode = [0] * n_episode"
   ]
  },
  {
   "cell_type": "markdown",
   "metadata": {},
   "source": [
    "## Now, define the function that performs Q-learning:##"
   ]
  },
  {
   "cell_type": "code",
   "execution_count": 19,
   "metadata": {},
   "outputs": [],
   "source": [
    ">>> def q_learning(env, gamma, n_episode, alpha):\n",
    "        n_action = env.action_space.n\n",
    "        Q = defaultdict(lambda: torch.zeros(n_action))\n",
    "        for episode in range(n_episode):\n",
    "            state = env.reset()\n",
    "            is_done = False\n",
    "            while not is_done:\n",
    "                action = epsilon_greedy_policy(state, Q)\n",
    "                next_state, reward, is_done, info = env.step(action)\n",
    "                td_delta = reward + gamma * torch.max(Q[next_state])- Q[state][action]\n",
    "                Q[state][action] += alpha * td_delta\n",
    "                if is_done:\n",
    "                    break\n",
    "                state = next_state\n",
    "                policy = {}\n",
    "        for state, actions in Q.items():\n",
    "            policy[state] = torch.argmax(actions).item()\n",
    "        return Q, policy"
   ]
  },
  {
   "cell_type": "code",
   "execution_count": null,
   "metadata": {},
   "outputs": [],
   "source": []
  },
  {
   "cell_type": "code",
   "execution_count": 20,
   "metadata": {},
   "outputs": [],
   "source": [
    ">>> def q_learning(env, gamma, n_episode, alpha):\n",
    "        n_action = env.action_space.n\n",
    "        Q = defaultdict(lambda: torch.zeros(n_action))\n",
    "        for episode in range(n_episode):\n",
    "            state = env.reset()\n",
    "            is_done = False\n",
    "            while not is_done:\n",
    "                action = epsilon_greedy_policy(state, Q)\n",
    "                next_state, reward, is_done, info = env.step(action)\n",
    "                td_delta = reward + gamma * torch.max(Q[next_state])- Q[state][action]\n",
    "                Q[state][action] += alpha * td_delta\n",
    "                length_episode[episode] += 1\n",
    "                total_reward_episode[episode] += reward\n",
    "                if is_done:\n",
    "                    break\n",
    "                state = next_state\n",
    "        policy = {}\n",
    "        for state, actions in Q.items():\n",
    "                policy[state] = torch.argmax(actions).item()\n",
    "        return Q, policy"
   ]
  },
  {
   "cell_type": "code",
   "execution_count": 21,
   "metadata": {},
   "outputs": [],
   "source": [
    ">>> gamma = 1\n",
    ">>> alpha = 0.4\n",
    ">>> epsilon = 0.1\n",
    ">>> epsilon_greedy_policy = gen_epsilon_greedy_policy(env.action_space.n, epsilon)"
   ]
  },
  {
   "cell_type": "code",
   "execution_count": 22,
   "metadata": {},
   "outputs": [],
   "source": [
    "optimal_Q, optimal_policy = q_learning(env, gamma, n_episode, alpha)"
   ]
  },
  {
   "cell_type": "code",
   "execution_count": 23,
   "metadata": {},
   "outputs": [
    {
     "name": "stdout",
     "output_type": "stream",
     "text": [
      "The optimal policy:\n",
      " {186: 4, 198: 3, 166: 2, 146: 2, 386: 1, 366: 2, 346: 2, 546: 1, 526: 2, 506: 2, 486: 2, 466: 2, 446: 2, 426: 2, 406: 2, 566: 2, 178: 0, 158: 0, 398: 3, 378: 0, 358: 0, 586: 1, 766: 2, 786: 1, 746: 1, 726: 1, 926: 1, 946: 1, 326: 0, 306: 2, 286: 2, 126: 0, 106: 0, 86: 0, 66: 0, 46: 2, 246: 2, 266: 0, 706: 1, 686: 1, 666: 2, 886: 1, 866: 1, 906: 1, 646: 1, 626: 1, 226: 0, 26: 0, 6: 2, 206: 2, 826: 1, 846: 3, 606: 1, 806: 1, 966: 2, 986: 1, 598: 3, 578: 3, 558: 3, 538: 3, 518: 3, 498: 3, 298: 0, 278: 0, 78: 2, 58: 3, 98: 0, 258: 0, 318: 0, 118: 2, 778: 1, 798: 1, 758: 3, 958: 3, 938: 3, 738: 1, 338: 3, 138: 3, 718: 1, 698: 1, 678: 1, 478: 3, 458: 3, 438: 3, 418: 0, 658: 3, 638: 1, 238: 0, 218: 0, 38: 3, 18: 0, 2: 4, 618: 0, 998: 3, 978: 1, 974: 4, 994: 3, 794: 0, 774: 0, 574: 0, 554: 2, 534: 2, 514: 2, 494: 2, 474: 2, 274: 2, 254: 0, 294: 0, 94: 0, 74: 0, 114: 0, 134: 0, 314: 0, 54: 0, 454: 2, 434: 2, 414: 2, 614: 1, 234: 0, 214: 0, 34: 0, 634: 1, 654: 1, 594: 3, 374: 0, 354: 0, 394: 3, 174: 0, 154: 2, 194: 0, 918: 5, 898: 3, 878: 3, 858: 1, 838: 1, 22: 3, 202: 1, 222: 1, 818: 5, 810: 5, 73: 0, 53: 3, 93: 0, 273: 2, 473: 2, 493: 2, 453: 2, 433: 2, 413: 2, 253: 0, 293: 2, 113: 2, 313: 0, 513: 2, 673: 1, 693: 1, 653: 1, 633: 1, 713: 1, 853: 1, 833: 2, 233: 0, 213: 2, 33: 0, 13: 0, 133: 0, 333: 0, 533: 2, 893: 1, 873: 2, 913: 1, 553: 2, 733: 2, 753: 1, 573: 0, 353: 0, 153: 0, 173: 0, 373: 0, 393: 3, 193: 0, 593: 0, 613: 1, 813: 2, 933: 1, 953: 1, 773: 0, 793: 0, 973: 4, 993: 3, 977: 1, 777: 1, 797: 1, 997: 1, 577: 2, 557: 2, 537: 2, 517: 2, 497: 2, 477: 2, 597: 1, 377: 2, 357: 2, 397: 1, 177: 2, 157: 2, 197: 5, 185: 5, 162: 0, 142: 0, 182: 3, 362: 0, 342: 0, 382: 3, 562: 3, 542: 3, 522: 3, 502: 3, 702: 3, 682: 1, 662: 1, 482: 3, 462: 3, 442: 3, 422: 3, 402: 1, 582: 3, 762: 1, 782: 3, 742: 1, 722: 1, 322: 0, 302: 0, 282: 0, 262: 3, 242: 0, 122: 3, 102: 3, 82: 0, 62: 2, 42: 0, 642: 1, 622: 1, 602: 1, 842: 1, 822: 1, 802: 1, 962: 1, 982: 3, 942: 1, 922: 1, 902: 1, 882: 1, 862: 1, 352: 0, 552: 2, 752: 1, 732: 2, 532: 2, 512: 2, 492: 2, 292: 2, 272: 2, 252: 0, 312: 2, 92: 0, 72: 2, 52: 0, 112: 0, 472: 2, 452: 2, 432: 2, 412: 2, 952: 1, 932: 2, 332: 0, 132: 0, 572: 0, 592: 3, 392: 3, 372: 0, 172: 0, 152: 2, 192: 3, 712: 1, 692: 1, 672: 2, 652: 1, 632: 1, 232: 0, 212: 2, 32: 0, 12: 4, 912: 1, 892: 1, 872: 2, 852: 1, 832: 1, 612: 1, 812: 1, 792: 3, 772: 0, 972: 4, 976: 1, 992: 3, 996: 1, 776: 1, 796: 1, 596: 3, 576: 3, 556: 3, 536: 3, 516: 3, 496: 3, 476: 3, 456: 3, 436: 1, 416: 1, 396: 3, 376: 0, 356: 0, 196: 3, 184: 4, 176: 0, 156: 0, 756: 3, 736: 1, 336: 0, 316: 3, 296: 0, 276: 0, 256: 0, 136: 1, 116: 2, 96: 3, 76: 3, 56: 0, 696: 1, 676: 1, 716: 1, 656: 1, 636: 1, 896: 1, 876: 2, 916: 2, 164: 2, 144: 2, 384: 1, 364: 2, 344: 2, 956: 3, 936: 1, 856: 1, 836: 0, 236: 3, 36: 0, 16: 5, 0: 5, 323: 3, 303: 3, 503: 3, 483: 3, 463: 3, 443: 3, 423: 1, 403: 1, 523: 3, 703: 1, 683: 1, 663: 1, 283: 0, 263: 0, 243: 0, 83: 3, 63: 0, 43: 0, 103: 3, 123: 3, 543: 3, 723: 1, 743: 1, 563: 3, 583: 0, 343: 0, 363: 0, 143: 0, 163: 0, 383: 3, 183: 0, 923: 1, 943: 0, 903: 1, 883: 3, 863: 1, 643: 1, 623: 1, 223: 3, 203: 1, 23: 3, 3: 4, 19: 0, 603: 1, 39: 0, 219: 0, 239: 0, 823: 2, 843: 1, 803: 1, 763: 1, 783: 3, 963: 1, 983: 3, 419: 2, 439: 2, 459: 2, 619: 1, 639: 1, 659: 1, 479: 2, 259: 0, 59: 1, 79: 0, 279: 0, 99: 0, 819: 1, 811: 4, 611: 0, 411: 0, 431: 3, 211: 0, 231: 0, 11: 0, 31: 3, 451: 3, 631: 1, 651: 1, 839: 2, 859: 3, 499: 2, 299: 0, 679: 1, 699: 1, 119: 2, 319: 0, 519: 2, 539: 2, 339: 0, 139: 0, 719: 1, 559: 2, 739: 1, 759: 1, 939: 1, 959: 0, 579: 0, 359: 2, 379: 0, 159: 0, 179: 2, 899: 0, 879: 2, 919: 1, 471: 3, 831: 1, 851: 3, 251: 0, 51: 0, 71: 0, 271: 0, 491: 3, 291: 0, 91: 3, 671: 1, 511: 3, 311: 0, 111: 3, 691: 1, 711: 1, 891: 0, 871: 1, 911: 0, 531: 3, 331: 3, 551: 3, 131: 0, 731: 1, 751: 3, 571: 3, 351: 0, 371: 3, 151: 0, 171: 0, 931: 1, 951: 3, 591: 3, 391: 3, 191: 3, 771: 1, 791: 3, 971: 1, 991: 1, 599: 0, 399: 3, 199: 0, 187: 4, 779: 0, 799: 3, 167: 2, 147: 2, 387: 1, 367: 2, 347: 1, 979: 5, 975: 5, 107: 3, 87: 0, 67: 2, 47: 0, 247: 2, 267: 2, 127: 0, 307: 0, 287: 2, 327: 0, 507: 2, 487: 2, 467: 2, 667: 1, 687: 1, 447: 2, 427: 2, 407: 2, 527: 2, 547: 2, 707: 1, 647: 1, 627: 1, 847: 1, 827: 1, 227: 3, 27: 0, 7: 0, 207: 0, 607: 1, 727: 1, 747: 1, 567: 1, 927: 1, 947: 1, 587: 1, 767: 1, 787: 1, 967: 1, 987: 1, 999: 3, 674: 1, 694: 1, 854: 1, 834: 1, 334: 0, 714: 1, 894: 1, 874: 1, 914: 1, 734: 1, 754: 4, 954: 3, 934: 1, 14: 1, 814: 1, 209: 0, 229: 0, 29: 3, 9: 0, 429: 3, 409: 0, 449: 3, 629: 1, 649: 1, 609: 0, 469: 3, 669: 1, 689: 1, 249: 0, 269: 0, 49: 0, 69: 0, 829: 1, 849: 1, 489: 3, 289: 0, 89: 0, 509: 3, 309: 0, 109: 3, 709: 3, 889: 3, 869: 1, 909: 1, 529: 3, 329: 0, 129: 3, 549: 3, 729: 1, 749: 3, 569: 3, 349: 0, 369: 0, 149: 0, 169: 0, 929: 0, 949: 1, 589: 3, 389: 3, 189: 0, 769: 1, 789: 3, 969: 1, 989: 1, 809: 4, 817: 1, 617: 1, 417: 2, 437: 2, 217: 0, 237: 0, 17: 2, 1: 4, 21: 3, 201: 1, 221: 3, 37: 0, 457: 2, 637: 2, 657: 1, 257: 0, 277: 3, 57: 1, 77: 0, 97: 1, 117: 3, 137: 0, 297: 2, 317: 0, 337: 0, 837: 1, 857: 2, 677: 1, 697: 2, 717: 1, 877: 2, 897: 1, 917: 2, 737: 2, 757: 1, 957: 1, 937: 3, 161: 3, 141: 0, 181: 0, 361: 0, 341: 0, 381: 3, 561: 3, 581: 3, 541: 3, 741: 1, 721: 1, 521: 3, 501: 3, 481: 3, 321: 0, 301: 0, 281: 0, 261: 0, 241: 0, 121: 3, 101: 0, 81: 0, 61: 0, 41: 0, 761: 1, 781: 1, 701: 1, 681: 1, 661: 1, 461: 3, 441: 3, 421: 3, 401: 1, 961: 1, 981: 3, 941: 3, 921: 1, 641: 1, 621: 1, 601: 1, 861: 1, 881: 1, 901: 1, 841: 1, 821: 1, 801: 0, 664: 1, 684: 1, 464: 2, 444: 2, 424: 2, 404: 2, 484: 2, 264: 0, 244: 2, 284: 2, 64: 0, 44: 0, 84: 3, 864: 1, 884: 1, 704: 1, 504: 2, 304: 2, 104: 2, 904: 1, 644: 1, 624: 1, 224: 0, 204: 0, 24: 1, 4: 0, 844: 1, 824: 1, 604: 1, 524: 2, 724: 1, 744: 1, 324: 0, 124: 0, 544: 1, 804: 2, 564: 2, 924: 2, 944: 1, 584: 1, 764: 1, 784: 1, 964: 2, 984: 1, 216: 1, 616: 1, 907: 1, 887: 1, 867: 3, 807: 1, 816: 1, 808: 4, 608: 0, 408: 0, 88: 0, 68: 3, 48: 0, 108: 0, 288: 0, 268: 0, 248: 0, 128: 3, 308: 0, 328: 0, 488: 3, 468: 3, 448: 3, 428: 3, 508: 3, 708: 1, 688: 1, 668: 1, 528: 3, 628: 1, 228: 0, 208: 0, 28: 3, 8: 0, 648: 1, 848: 1, 828: 1, 888: 1, 868: 1, 908: 2, 548: 3, 728: 1, 748: 3, 568: 3, 768: 1, 788: 3, 348: 0, 368: 3, 148: 0, 168: 1, 928: 1, 948: 1, 588: 3, 388: 3, 188: 0, 968: 1, 988: 1}\n"
     ]
    }
   ],
   "source": [
    ">>> print('The optimal policy:\\n', optimal_policy)"
   ]
  },
  {
   "cell_type": "code",
   "execution_count": 26,
   "metadata": {},
   "outputs": [
    {
     "data": {
      "image/png": "[encoded data removed]",
      "text/plain": [
       "<Figure size 432x288 with 1 Axes>"
      ]
     },
     "metadata": {
      "needs_background": "light"
     },
     "output_type": "display_data"
    }
   ],
   "source": [
    ">>> import matplotlib.pyplot as plt\n",
    ">>> plt.plot(length_episode)\n",
    ">>> plt.title('Episode length over time')\n",
    ">>> plt.xlabel('Episode')\n",
    ">>> plt.ylabel('Length')\n",
    ">>> plt.show()"
   ]
  },
  {
   "cell_type": "code",
   "execution_count": 27,
   "metadata": {},
   "outputs": [
    {
     "name": "stdout",
     "output_type": "stream",
     "text": [
      "[1324, 645, 47, 959, 1137, 2426, 453, 1374, 1120, 1621, 864, 979, 368, 1221, 1138, 1242, 1166, 819, 280, 862, 1168, 889, 222, 348, 362, 800, 620, 524, 982, 142, 382, 129, 462, 423, 636, 734, 386, 381, 471, 986, 218, 368, 625, 178, 825, 1141, 458, 619, 356, 86, 351, 372, 207, 1081, 683, 467, 579, 481, 168, 230, 473, 159, 631, 185, 317, 301, 639, 161, 301, 242, 436, 15, 46, 45, 288, 204, 152, 149, 135, 196, 372, 474, 25, 389, 333, 454, 54, 132, 433, 40, 410, 248, 59, 564, 575, 344, 227, 10, 337, 330, 26, 287, 250, 92, 555, 453, 293, 63, 199, 8, 414, 111, 360, 209, 93, 110, 417, 331, 113, 136, 20, 21, 119, 54, 490, 128, 182, 31, 253, 51, 195, 222, 84, 57, 17, 148, 121, 209, 28, 355, 280, 226, 110, 344, 193, 88, 129, 43, 331, 409, 18, 23, 17, 68, 138, 410, 60, 275, 382, 390, 187, 37, 195, 174, 180, 184, 166, 125, 130, 265, 9, 260, 11, 32, 10, 144, 50, 55, 105, 232, 214, 70, 28, 57, 83, 233, 6, 13, 280, 56, 50, 104, 579, 24, 197, 121, 52, 25, 53, 221, 119, 157, 14, 178, 108, 33, 178, 29, 22, 114, 46, 86, 8, 110, 46, 340, 356, 101, 21, 245, 148, 121, 104, 77, 16, 200, 94, 364, 315, 215, 131, 202, 25, 20, 29, 22, 211, 14, 141, 36, 74, 162, 16, 33, 93, 58, 19, 45, 23, 30, 36, 85, 48, 138, 118, 165, 139, 253, 49, 42, 20, 266, 176, 241, 13, 118, 23, 9, 31, 38, 161, 9, 100, 212, 17, 120, 32, 21, 9, 27, 78, 97, 18, 88, 119, 44, 137, 109, 19, 138, 177, 52, 52, 30, 241, 86, 34, 50, 157, 23, 6, 27, 32, 17, 14, 111, 18, 33, 94, 19, 40, 47, 7, 182, 136, 21, 23, 29, 34, 11, 130, 89, 20, 39, 103, 75, 123, 66, 97, 29, 237, 20, 30, 23, 41, 18, 15, 27, 25, 34, 140, 133, 125, 41, 100, 39, 184, 25, 47, 21, 15, 13, 38, 14, 9, 152, 27, 26, 25, 119, 21, 16, 84, 54, 22, 26, 21, 24, 99, 10, 20, 28, 27, 15, 26, 18, 77, 15, 17, 152, 93, 22, 105, 91, 33, 23, 91, 15, 16, 48, 15, 30, 25, 23, 30, 22, 28, 101, 90, 90, 15, 83, 49, 92, 63, 20, 46, 56, 24, 11, 54, 107, 36, 46, 89, 21, 24, 14, 24, 25, 140, 88, 9, 7, 18, 22, 31, 74, 20, 46, 38, 28, 101, 35, 50, 27, 13, 111, 63, 36, 26, 135, 13, 58, 21, 17, 28, 20, 30, 48, 38, 40, 21, 14, 20, 27, 19, 19, 17, 21, 23, 43, 22, 12, 39, 57, 26, 25, 22, 40, 25, 67, 92, 34, 22, 43, 55, 42, 19, 38, 26, 59, 20, 18, 22, 24, 22, 19, 51, 27, 79, 29, 70, 17, 33, 19, 39, 40, 90, 26, 41, 21, 9, 19, 56, 7, 18, 29, 26, 48, 39, 16, 20, 20, 32, 29, 28, 22, 42, 77, 14, 24, 35, 24, 18, 22, 43, 64, 19, 24, 20, 24, 126, 11, 19, 19, 59, 26, 38, 26, 27, 17, 18, 56, 31, 22, 18, 24, 30, 16, 26, 10, 36, 28, 42, 52, 21, 33, 30, 25, 22, 66, 26, 58, 34, 63, 11, 67, 23, 21, 34, 16, 17, 26, 39, 13, 33, 31, 25, 81, 25, 17, 24, 20, 25, 38, 15, 29, 19, 43, 23, 21, 21, 62, 36, 54, 25, 22, 29, 21, 40, 33, 15, 49, 33, 20, 26, 24, 12, 29, 38, 19, 18, 15, 33, 28, 11, 10, 41, 43, 40, 95, 18, 12, 22, 21, 19, 21, 29, 20, 10, 21, 77, 21, 26, 33, 16, 20, 18, 28, 24, 46, 21, 15, 39, 23, 17, 10, 25, 11, 22, 26, 25, 15, 28, 12, 17, 20, 14, 23, 26, 18, 13, 44, 18, 22, 16, 13, 18, 27, 30, 15, 13, 15, 13, 46, 19, 33, 13, 37, 32, 18, 29, 17, 20, 50, 21, 22, 21, 27, 15, 25, 23, 32, 25, 18, 18, 26, 29, 20, 19, 23, 16, 25, 21, 12, 21, 33, 10, 16, 20, 32, 24, 20, 43, 41, 22, 29, 27, 23, 18, 19, 18, 27, 16, 11, 14, 11, 28, 28, 21, 21, 19, 20, 27, 23, 22, 19, 10, 29, 18, 18, 14, 18, 30, 18, 19, 22, 30, 20, 16, 18, 32, 23, 17, 28, 51, 20, 27, 23, 26, 11, 18, 21, 26, 28, 20, 27, 10, 17, 6, 25, 10, 7, 24, 29, 20, 26, 19, 27, 25, 22, 48, 16, 22, 22, 38, 6, 16, 13, 25, 30, 32, 20, 20, 24, 20, 14, 26, 36, 18, 33, 26, 34, 24, 35, 21, 28, 16, 22, 22, 23, 12, 17, 25, 24, 27, 21, 12, 9, 53, 29, 27, 27, 33, 23, 54, 47, 26, 17, 24, 22, 30, 30, 12, 18, 29, 34, 13, 21, 11, 22, 21, 24, 26, 32, 25, 8, 11, 34, 28, 17, 27, 17, 11, 26, 25, 17, 51, 25, 27, 25, 10, 31, 22, 10, 20, 26, 22, 18, 30, 17, 17, 31, 16, 28, 26, 25, 21, 22, 13, 32, 37, 26, 26, 22, 18, 24, 20, 17, 33, 19, 25, 28, 20, 18, 24, 27, 27, 21, 55, 25, 33, 25, 17, 32, 29, 29, 22, 24, 36, 25, 17, 16, 21, 20, 24, 29, 27, 26, 13, 18, 26, 24, 38, 12, 35, 31, 25, 28, 18, 29, 26, 14, 29, 27, 24, 40, 25, 11, 24, 21, 33, 36, 13, 13, 19, 15, 18, 13, 18, 18, 24, 29, 25, 18, 19, 24, 22, 19, 26, 28, 19, 19, 25, 24, 19, 23, 19, 29, 29, 15, 6, 25, 18, 17, 26, 26, 23, 8, 33, 28, 13, 16, 18, 26, 10, 22, 16, 28, 16, 14, 27, 24, 35, 23, 20, 25, 18, 24, 11, 24, 22, 61, 59, 15, 17, 37, 31, 21, 15, 26, 23, 24, 23, 17, 7, 38, 13, 17, 25, 14, 14, 40, 20, 23, 22, 19, 17, 23, 24, 22, 20, 25, 20, 12, 16, 26, 20, 25, 25, 23, 7, 25, 20, 17, 18, 13, 35, 17, 30, 33, 22, 14, 20, 31, 26, 17, 28, 20, 14, 20, 22, 28, 12, 26, 23, 21, 28, 27, 24, 35, 28, 27, 22, 19, 27, 28, 27, 17, 20, 23, 28, 21, 8, 25, 19, 21, 16, 27, 31, 28, 20, 21, 24, 28, 29, 10, 21, 20, 29, 10, 31, 27, 20, 29, 26, 16, 29, 18, 11, 27, 14, 32, 32, 18, 17, 35, 26, 14, 30, 31, 23, 34, 20, 8, 32, 11, 16, 28, 19, 34, 22, 34, 32, 16, 14, 23, 24, 24, 31, 13, 25, 9, 12, 17, 21, 28, 29, 18, 28, 27, 20, 29, 28, 34, 21, 21, 21, 15, 10, 36, 14, 22, 19, 15, 16, 7, 22, 12, 25, 30, 20, 23, 25, 16, 16, 27, 18, 30, 23, 23, 26, 8, 13, 21, 31, 30, 27, 15, 20, 23, 18, 20, 27, 19, 17, 19, 30, 29, 13, 34, 29, 15, 36, 11, 16, 25, 19, 25, 21, 17, 29, 22, 15, 29, 30, 40, 18, 21, 38, 26, 40, 14, 32, 17, 24, 22, 21, 19, 26, 26, 18, 25, 14, 22, 30, 26, 17, 22, 12, 18, 19, 16, 11, 6, 24, 10, 24, 22, 27, 27, 20, 26, 31, 23, 21, 8, 25, 18, 34, 30, 22, 28, 17, 17, 20, 29, 21, 27, 29, 33, 24, 27, 23, 30, 23, 29, 12, 8, 41, 16, 17, 27, 27, 16, 26, 25, 12, 37, 20, 18, 24, 23, 23, 20, 29, 30, 26, 12, 32, 16, 12, 15, 26, 27, 30, 12, 24, 23, 25, 15, 30, 26, 24, 15, 10, 19, 18, 12, 12, 20, 29, 20, 24, 20, 19, 18, 27, 11, 27, 20, 23, 20, 16, 27, 15, 19, 28, 9, 25, 24, 27, 24, 15, 17, 32, 23, 26, 25, 26, 16, 22, 23, 14, 17, 20, 20, 16, 35, 19, 28, 13, 31, 22, 16, 21, 13, 26, 26, 14, 36, 14, 22, 11, 18, 28, 13, 21, 22, 22, 26, 18, 14, 22, 20, 26, 19, 23, 26, 13, 12, 32, 25, 21, 23, 29, 24, 23, 26, 19, 31, 7, 13, 22, 15, 24, 28, 31, 26, 26, 15, 30, 25, 20, 30, 27, 18, 17, 14, 27, 24, 28, 35, 25, 10, 21, 15, 26, 30, 11, 24, 31, 14, 28, 28, 24, 14, 26, 24, 31, 15, 28, 22, 33, 29, 27, 29, 23, 27, 25, 22, 30, 21, 36, 18, 30, 27, 18, 31, 16, 27, 21, 15, 26, 19, 16, 11, 8, 26, 35, 15, 28, 13, 24, 28, 30, 22, 17, 15, 24, 10, 32, 29, 19, 31, 32, 13, 15, 14, 31, 7, 15, 26, 16, 18, 19, 22, 14, 8, 33, 20, 27, 21, 18, 18, 26, 12, 25, 25, 16, 24, 26, 32, 33, 29, 11, 16, 27, 18, 22, 20, 12, 26, 27, 25, 30, 14, 14, 20, 34, 29, 22, 23, 15, 17, 20, 28, 22, 24, 24, 27, 30, 26, 27, 20, 12, 15, 33, 20, 29, 17, 16, 11, 26, 22, 16, 10, 16, 10, 26, 22, 18, 12, 23, 13, 23, 25, 12, 21, 24, 15, 35, 10, 30, 28, 26, 21, 18, 23, 19, 32, 24, 19, 18, 40, 20, 21, 20, 25, 15, 30, 24, 29, 23, 21, 26, 20, 9, 20, 21, 15, 26, 17, 21, 15, 17, 24, 25, 27, 26, 17, 22, 38, 21, 24, 25, 35, 15, 18, 30, 22, 20, 21, 32, 14, 28, 20, 26, 17, 20, 22, 22, 31, 20, 15, 30, 19, 29, 26, 17, 24, 31, 38, 22, 34, 16, 30, 28, 21, 24, 16, 28, 20, 23, 40, 14, 24, 33, 16, 23, 18, 23, 20, 30, 21, 23, 28, 15, 16, 24, 16, 28, 27, 27, 20, 21, 14, 10, 23, 29, 24, 14, 19, 12, 23, 29, 15, 16, 14, 30, 21, 26, 13, 27, 20, 28, 23, 28, 21, 26, 27, 38, 20, 24, 23, 27, 27, 32, 32, 26, 25, 29, 30, 22, 24, 12, 25, 25, 25, 18, 20, 29, 19, 29, 20, 18, 12, 22, 16, 24, 10, 20, 27, 27, 22, 34, 20, 21, 25, 29, 19, 14, 20, 31, 23, 28, 14, 16, 17, 11, 13, 31, 33, 28, 23, 25, 21, 23, 19, 15, 22, 30, 22, 7, 20, 17, 35, 12, 16, 24, 26, 17, 23, 26, 29, 23, 25, 28, 23, 26, 26, 29, 26, 28, 30, 17, 33, 24, 14, 19, 22, 18, 26, 27, 18, 19, 21, 27, 19, 24, 19, 29, 29, 27, 29, 25, 25, 32, 11, 15, 33, 18, 32, 17, 31, 27, 29, 12, 23, 16, 26, 33, 23, 23, 18, 31, 29, 26, 20, 18, 19, 14, 28, 29, 23, 18, 34, 19, 29, 15, 28, 28, 13, 23, 12, 36, 27, 24, 21, 28, 19, 21, 19, 12, 22, 34, 33, 21, 22, 28, 24, 17, 15, 26, 24, 13, 24, 11, 9, 22, 14, 23, 16, 27, 15, 25, 18, 11, 18, 15, 16, 25, 18, 26, 18, 20, 20, 25, 11, 12, 25, 12, 32, 35, 20, 20, 15, 25, 20, 27, 21, 30, 27, 30, 28, 29, 21, 28, 14, 18, 17, 20, 31, 24, 17, 25, 21, 30, 16, 16, 17, 17, 20, 27, 29, 28, 18, 31, 12, 25, 10, 27, 27, 21, 9, 18, 19, 25, 22, 19, 17, 27, 20, 12, 12, 28, 14, 6, 18, 12, 11, 31, 16, 25, 22, 22, 32, 24, 23, 21, 31, 21, 32, 27, 25, 15, 28, 7, 12, 25, 17, 22, 21, 21, 19, 24, 27, 26, 11, 21, 25, 12, 31, 42, 21, 27, 24, 23, 24, 10, 25, 22, 26, 32, 25, 30, 17, 31, 34]\n"
     ]
    }
   ],
   "source": [
    "print(length_episode)"
   ]
  },
  {
   "cell_type": "code",
   "execution_count": 28,
   "metadata": {},
   "outputs": [],
   "source": [
    "import numpy as np\n",
    "\n",
    "from bokeh.io import show\n",
    "from bokeh.layouts import column\n",
    "from bokeh.models import ColumnDataSource, RangeTool\n",
    "from bokeh.plotting import figure"
   ]
  },
  {
   "cell_type": "code",
   "execution_count": 29,
   "metadata": {},
   "outputs": [],
   "source": [
    "Y=np.array(length_episode)"
   ]
  },
  {
   "cell_type": "code",
   "execution_count": 30,
   "metadata": {},
   "outputs": [],
   "source": [
    "p = figure(plot_height=300, plot_width=800, tools=\"xpan\", toolbar_location=None,\n",
    "           x_axis_type=\"linear\", x_axis_location=\"above\",\n",
    "           background_fill_color=\"#efefef\", x_range=(50,150))"
   ]
  },
  {
   "cell_type": "code",
   "execution_count": 31,
   "metadata": {},
   "outputs": [],
   "source": [
    "p.line(range(0, 2000),Y)\n",
    "p.yaxis.axis_label = 'Length'"
   ]
  },
  {
   "cell_type": "code",
   "execution_count": 32,
   "metadata": {},
   "outputs": [],
   "source": [
    "select = figure(title=\"Drag the middle and edges of the selection box to change the range above\",\n",
    "                plot_height=130, plot_width=800, y_range=p.y_range,\n",
    "                x_axis_type=\"linear\", y_axis_type=None,\n",
    "                tools=\"\", toolbar_location=None, background_fill_color=\"#efefef\")"
   ]
  },
  {
   "cell_type": "code",
   "execution_count": 33,
   "metadata": {},
   "outputs": [],
   "source": [
    "range_tool = RangeTool(x_range=p.x_range)\n",
    "range_tool.overlay.fill_color = \"navy\"\n",
    "range_tool.overlay.fill_alpha = 0.2"
   ]
  },
  {
   "cell_type": "code",
   "execution_count": 34,
   "metadata": {},
   "outputs": [],
   "source": [
    "select.line(range(0, 2000),Y)\n",
    "select.ygrid.grid_line_color = None\n",
    "select.add_tools(range_tool)\n",
    "select.toolbar.active_multi = range_tool"
   ]
  },
  {
   "cell_type": "code",
   "execution_count": 35,
   "metadata": {},
   "outputs": [],
   "source": [
    "show(column(p, select))"
   ]
  },
  {
   "cell_type": "code",
   "execution_count": 36,
   "metadata": {},
   "outputs": [
    {
     "data": {
      "image/png": "[encoded data removed]",
      "text/plain": [
       "<Figure size 432x288 with 1 Axes>"
      ]
     },
     "metadata": {
      "needs_background": "light"
     },
     "output_type": "display_data"
    }
   ],
   "source": [
    ">>> plt.plot(total_reward_episode)\n",
    ">>> plt.title('Episode reward over time')\n",
    ">>> plt.xlabel('Episode')\n",
    ">>> plt.ylabel('Total reward')\n",
    ">>> plt.show()"
   ]
  },
  {
   "cell_type": "code",
   "execution_count": 37,
   "metadata": {},
   "outputs": [
    {
     "name": "stdout",
     "output_type": "stream",
     "text": [
      "[-4093, -1965, -35, -2018, -3150, -5717, -1215, -1992, -2899, -2122, -1140, -1723, -491, -2397, -2323, -1626, -1433, -1131, -331, -1093, -1480, -1255, -282, -435, -449, -1031, -752, -674, -1618, -166, -478, -162, -585, -708, -1155, -1424, -572, -468, -657, -1199, -260, -446, -973, -229, -1857, -1912, -653, -823, -434, -182, -492, -414, -249, -1690, -1139, -734, -684, -667, -219, -263, -767, -165, -781, -200, -449, -442, -852, -194, -397, -482, -613, -3, -61, -51, -366, -309, -257, -191, -141, -409, -531, -678, -13, -548, -609, -541, -42, -138, -691, -19, -650, -398, -83, -687, -770, -422, -323, 11, -433, -489, -14, -374, -409, -98, -948, -720, -425, -60, -340, 13, -582, -144, -573, -332, -153, -125, -621, -526, -119, -205, -8, -9, -125, -60, -847, -188, -224, -37, -322, -57, -246, -291, -108, -72, 4, -163, -145, -296, -7, -532, -430, -259, -98, -422, -235, -112, -171, -49, -472, -532, -6, -11, -5, -83, -135, -542, -57, -434, -451, -486, -211, -43, -228, -207, -285, -244, -181, -167, -163, -388, 12, -347, 10, -29, 11, -195, -29, -43, -138, -346, -238, -58, -16, -72, -107, -320, 15, 8, -430, -80, -38, -110, -972, -3, -329, -172, -76, -4, -41, -281, -161, -208, -2, -256, -150, -12, -292, -8, -1, -120, -34, -74, 13, -143, -52, -472, -524, -107, 0, -332, -145, -181, -137, -74, 5, -251, -109, -523, -465, -275, -164, -253, -4, -8, -26, -1, -334, 7, -192, -33, -53, -213, 5, -39, -117, -64, 2, -42, -11, -18, -42, -118, -27, -162, -133, -270, -208, -331, -46, -21, 1, -353, -254, -346, -1, -133, -20, 12, -19, -44, -221, 12, -133, -299, 4, -153, -20, -27, 12, -24, -84, -112, 3, -85, -179, -23, -161, -151, -7, -216, -237, -58, -76, -27, -382, -119, -13, -47, -235, -2, 15, -15, -11, 4, -2, -153, 3, -30, -118, 2, -73, -35, 14, -224, -178, -27, -11, -26, -22, 10, -181, -104, -8, -45, -100, -81, -138, -90, -139, -8, -297, -17, -18, -2, -29, -24, -3, -6, -13, -22, -209, -202, -230, -29, -133, -27, -253, -13, -53, -9, -3, 8, -35, 7, 12, -203, -24, -5, -13, -143, 0, 5, -99, -78, -1, -14, 0, -3, -123, 11, -8, -16, -15, 6, -14, -15, -110, -3, 4, -257, -117, -10, -93, -115, -21, -20, -88, 6, 5, -27, 6, -18, -22, -2, -9, -10, -25, -107, -87, -159, -12, -80, -46, -80, -60, 1, -34, -44, -3, 10, -51, -131, -33, -25, -131, 0, -3, 7, -3, -13, -155, -139, 3, 14, -6, -1, -19, -80, 1, -43, -26, -7, -134, -14, -47, -24, 8, -189, -51, -15, -23, -168, 8, -46, 0, 4, -7, -8, -9, -45, -35, -37, -9, -2, 1, -15, 2, 2, -5, 0, -2, -40, -10, 9, -27, -72, -14, -22, -1, -19, -22, -82, -143, -13, -19, -40, -52, -30, -7, -17, -41, -83, 1, -6, -10, -3, -1, 2, -48, -6, -94, -8, -76, -5, -39, 2, -36, -37, -105, -5, -29, -9, 12, -7, -53, 14, 3, -17, -5, -45, -27, -13, 1, 1, -20, -17, -7, -1, -30, -92, -2, -12, -23, -3, 3, -1, -49, -61, 2, -3, 1, -3, -150, 10, 2, -7, -65, -14, -35, -14, -6, 4, -6, -35, -10, -1, 3, -30, -27, 5, -5, 11, -15, -43, -39, -58, -9, -30, -9, -13, -10, -99, -14, -46, -31, -69, 10, -91, -11, -18, -40, 5, 4, -14, -27, 8, -30, -19, -22, -96, -4, -5, -12, 1, -4, -26, 6, -8, -7, -22, -20, -9, 0, -59, -15, -42, -13, -1, -17, 0, -28, -21, 6, -37, -30, 1, -5, -3, 9, -8, -17, -7, 3, 6, -39, -16, 10, 11, -29, -40, -19, -146, 3, 9, -1, 0, -7, 0, -26, -8, 11, 0, -101, 0, -5, -30, -4, 1, -6, -16, -12, -52, 0, 6, -27, -2, 4, 11, -13, 10, -10, -5, -4, 6, -7, 9, 4, 1, -11, -2, -5, 3, -19, -68, 3, -1, 5, 8, -6, -15, -18, -3, -1, -3, 8, -61, 2, -12, 8, -43, -11, 3, -17, -14, 1, -65, 0, -10, 0, -6, -3, -4, -2, -20, -4, 3, 3, -5, -17, 1, -7, -2, 5, -13, -9, 9, -9, -39, 11, 5, 1, -20, -12, -8, -40, -38, -1, -26, -15, -2, 3, -7, -6, -6, 5, 1, 7, 10, -16, -16, -18, -9, 2, 1, -6, -2, -1, 2, 11, -17, 3, 3, -2, 3, -36, -6, 2, -1, -45, 1, -4, 3, -11, -11, -5, -16, -48, 1, -6, -20, -14, 10, 3, -18, -5, -43, 1, -15, 2, 4, 15, -22, 11, 14, -21, -8, -26, -5, -7, -15, -4, -10, -54, -4, -10, -1, -26, 15, 5, 8, -13, -9, -20, 1, -8, -3, -8, 7, -32, -24, 3, -30, -14, -31, -3, -14, -18, -25, 5, -1, -1, -2, 9, 4, -13, -3, -6, -9, 0, 12, -50, -26, -15, -33, -21, -2, -51, -62, -23, 4, -3, -1, -9, -18, 9, 3, -26, -31, 8, 0, 10, -10, 0, -3, -14, -20, -4, 13, 10, -22, -16, 4, -15, 4, 10, -5, -13, 4, -48, -22, -15, -4, 11, -46, -1, 11, 1, -14, -1, 3, -18, -5, 4, -28, 5, -7, -5, -13, 0, -19, 8, -29, -34, -14, -14, -10, -15, -3, 1, 4, -39, -7, -13, -7, 1, -6, -12, -15, -15, 0, -70, -4, -21, -4, 4, -47, -26, -35, -10, -3, -15, -13, 4, 5, 0, -8, -12, -17, -15, -5, 8, 3, -14, -21, -26, 9, -41, -19, -4, -16, -6, -17, -5, 7, -17, -15, -21, -46, -4, 10, -3, 0, -12, -15, -1, 8, 2, 6, -6, 8, -15, -6, -3, -17, -13, 3, -7, -3, -1, -7, -23, -7, -7, -7, -13, -3, 2, -20, 2, -26, -26, -3, 15, -13, -6, -5, -14, -14, -2, 13, -21, -7, 8, -4, -6, -5, 11, -1, 5, -34, 5, 7, -6, -12, -32, -2, 1, -22, -6, -12, 10, -12, -10, -85, -65, 6, -5, -16, -10, -18, -3, -5, -2, -12, -11, 4, 14, -35, 8, 4, -4, 7, 7, -46, 1, -2, -10, -7, 4, -20, -21, -1, 1, -22, 1, 9, -4, -32, 1, -13, -22, -20, 14, -49, 1, 4, -6, 8, -32, 4, -27, -21, -1, 7, -8, -19, -5, 4, -16, 1, 7, -8, -1, -16, 0, -5, -2, -27, -7, -24, -3, -32, -16, -15, -1, 2, -15, -16, -15, 4, 1, -2, -25, 0, 13, -22, 2, -9, -4, -15, -28, -16, 1, 0, -3, -7, -8, 11, 0, -17, -8, 11, -28, -15, 1, -17, -14, 5, -26, -6, 10, -15, -2, -29, -20, 3, 4, -41, -14, 7, -27, -37, -11, -13, 1, 13, -11, 10, 5, -7, 2, -31, -1, -22, -29, -4, 7, -2, -3, -12, -28, -1, -4, 3, 9, 4, -18, -7, -8, 3, -16, -6, 1, -17, -7, -22, -18, -9, 0, 6, 11, -15, 7, -1, -16, -3, 5, 14, -1, 9, -31, -27, 1, -2, -13, 5, 5, -6, -15, -9, -11, -2, -5, 4, 8, -9, -19, -27, -15, 6, 1, -2, 3, 1, -6, -7, 4, 2, -27, -26, 8, -22, -17, -3, -24, 1, -4, -4, -7, -13, 0, 4, -17, -19, 6, -17, -18, -19, -15, 0, -17, -14, -46, 7, -38, -14, -12, -19, -9, 2, -14, -14, 3, -13, -2, -10, -36, -14, -14, -10, 9, -15, 2, 5, 10, 15, -21, 11, -12, -1, -6, -33, 1, -5, -19, -2, -9, 13, -4, 3, -31, -9, -10, -7, 4, 4, -8, -17, 0, -15, -17, -21, -3, -15, -11, -18, -2, -26, 9, 13, -20, -13, 4, -24, -6, -13, -5, -13, 9, -34, 1, 3, -21, -2, -2, 1, -26, -9, -5, 9, -11, -4, 9, -3, -14, -24, -18, 9, -3, -2, -13, -3, -18, -14, -3, 6, 11, 2, 3, 9, 9, -8, -17, 1, -12, -8, 2, -6, -15, 10, -6, 1, -20, -8, 5, -24, 6, -7, -16, 12, -13, -12, -6, -12, 6, -5, -38, -11, -5, -4, -14, 5, -1, -11, -2, 4, 1, 1, 5, -23, -7, -25, -1, -10, -19, -4, 0, 8, -14, -5, -2, -24, 7, -1, 10, -6, -25, 8, -9, -1, -1, -5, -6, 7, -1, -8, -5, 2, -20, -14, 8, 0, -11, -4, 0, -2, -8, -3, -2, -23, 2, -19, 14, -1, -10, 6, -3, -25, -10, -5, -5, -3, -18, -22, 1, -27, -6, 3, 4, -2, -6, -3, -16, -23, -31, 11, 0, -3, -23, -18, 10, -3, -19, -2, -7, -25, -30, -2, -5, -30, -19, -3, -16, -1, -21, -26, -15, -17, -20, -15, -4, -1, -27, -9, -51, -6, -27, -6, -6, -10, 5, -6, 0, 6, -5, -7, 5, 10, 13, -14, -14, 6, -25, -1, -30, -16, -36, -1, 4, 6, -3, 2, -29, -17, 2, -37, -20, -1, -3, 7, -28, 14, 6, -5, 5, 3, 2, -10, 7, 13, -30, -8, -24, 0, -6, 3, -5, 9, -13, -4, 5, -12, -5, -29, -21, -35, 10, 5, -6, -6, -1, -17, 9, -32, -15, -13, -18, 7, -2, 1, -13, -26, -1, -11, 6, -5, 1, -16, -10, -12, -3, -15, -9, -5, -15, 1, 0, 6, -21, -17, -17, -14, 5, 10, -14, -10, 5, 11, 5, 2, -5, -1, 3, 9, -2, 8, -11, -13, 9, 0, -12, 6, -41, 11, -36, -7, -5, -9, 3, -2, -7, -11, -12, -25, 3, -19, 1, 0, 1, -4, 6, -27, -12, -35, -20, 0, -5, -8, 12, -17, 0, -12, -14, 4, 0, 6, -5, -12, -4, -6, -5, -14, -10, -26, 0, -3, -4, -23, 6, -6, -9, -1, -8, 0, -20, -2, -7, 1, -14, 4, -8, -10, -1, -28, -8, -3, -18, -16, -17, -14, 4, -3, -10, -44, -1, -13, 5, -36, -7, 0, -3, 5, -16, 1, -2, -46, -2, -3, -12, -13, -11, 3, -2, 1, -18, 0, -11, -25, 6, 5, -3, 5, -25, -6, -6, 1, 0, 7, 11, -2, -8, -12, 7, 2, 9, -11, -17, 6, 5, 7, -9, 0, -5, 8, -15, -17, -7, -2, -16, -9, -5, -6, -35, 1, -12, -11, -15, -6, -29, -20, -14, -4, -17, -18, -1, -12, 9, -4, -4, -13, -6, -17, -17, -7, -8, 1, -6, 9, -1, 5, -3, 11, 1, -6, -24, -10, -40, 1, -27, -4, -8, 2, 7, 1, -19, -11, -16, 7, -4, 4, 10, 8, -19, -12, -16, -47, -4, -9, -11, 2, 6, -1, -27, -1, 14, -8, 4, -32, 9, 5, -12, -5, 4, -11, -23, -8, -11, -4, -16, -2, -32, -23, -8, -32, -7, -18, -5, -21, -3, 7, 2, -10, 3, -5, -15, -6, 2, 0, -6, 2, -3, 2, -26, -26, -6, -17, -13, -4, -20, 10, -3, -30, 3, -38, 4, -28, -15, -17, 9, -11, 5, -5, -12, -2, -2, 3, -55, -17, -5, -8, -6, 2, 7, -7, -26, -2, 3, -31, 2, -26, -3, -7, -7, 8, -2, 9, -15, -6, -3, -18, -7, 2, 0, 2, 0, -1, -31, -12, 0, -19, -16, -12, 4, 6, -5, -3, 8, -12, 1, 12, -1, 7, -29, 5, -6, 6, -22, 3, 10, 3, -3, 5, -4, -6, -5, 3, 1, -8, -22, 10, 9, -22, 9, -29, -32, -8, 1, 6, -4, 1, -24, -18, -9, -24, -9, -7, -8, 0, -25, -2, -6, 4, 1, -19, -12, -5, -13, -18, -18, -13, 5, -5, 4, 1, -24, -26, -25, -6, -10, 9, -4, 11, -6, -15, -9, 12, 3, -7, -4, -1, 2, 4, -15, 1, 9, 0, -16, 7, 15, 3, 9, 1, -19, 5, -13, -10, -10, -29, -3, -38, -18, -19, 0, -20, -15, -4, 6, -7, 14, 0, -13, -5, -1, 0, -18, -34, -12, -33, -32, 10, 0, -4, 9, -19, -39, 0, -24, -3, -2, -3, 2, -13, -1, -5, -29, -22, -9, 4, -10, -22]"
     ]
    },
    {
     "name": "stdout",
     "output_type": "stream",
     "text": [
      "\n"
     ]
    }
   ],
   "source": [
    "print(total_reward_episode)"
   ]
  },
  {
   "cell_type": "code",
   "execution_count": 38,
   "metadata": {},
   "outputs": [],
   "source": [
    "Y1=np.array(total_reward_episode)"
   ]
  },
  {
   "cell_type": "code",
   "execution_count": 39,
   "metadata": {},
   "outputs": [],
   "source": [
    "p2 = figure(plot_height=300, plot_width=800, tools=\"xpan\", toolbar_location=None,\n",
    "           x_axis_type=\"linear\", x_axis_location=\"above\",\n",
    "           background_fill_color=\"#efefef\", x_range=(50,150))"
   ]
  },
  {
   "cell_type": "code",
   "execution_count": 40,
   "metadata": {},
   "outputs": [],
   "source": [
    "p2.line(range(0, 2000),Y1)\n",
    "p2.yaxis.axis_label = 'Total reward'"
   ]
  },
  {
   "cell_type": "code",
   "execution_count": 41,
   "metadata": {},
   "outputs": [],
   "source": [
    "select = figure(title=\"Drag the middle and edges of the selection box to change the range above\",\n",
    "                plot_height=130, plot_width=800, y_range=p2.y_range,\n",
    "                x_axis_type=\"linear\", y_axis_type=None,\n",
    "                tools=\"\", toolbar_location=None, background_fill_color=\"#efefef\")"
   ]
  },
  {
   "cell_type": "code",
   "execution_count": 42,
   "metadata": {},
   "outputs": [],
   "source": [
    "range_tool = RangeTool(x_range=p2.x_range)\n",
    "range_tool.overlay.fill_color = \"navy\"\n",
    "range_tool.overlay.fill_alpha = 0.2"
   ]
  },
  {
   "cell_type": "code",
   "execution_count": 43,
   "metadata": {},
   "outputs": [],
   "source": [
    "select.line(range(0, 2000),Y1)\n",
    "select.ygrid.grid_line_color = None\n",
    "select.add_tools(range_tool)\n",
    "select.toolbar.active_multi = range_tool"
   ]
  },
  {
   "cell_type": "code",
   "execution_count": 44,
   "metadata": {},
   "outputs": [],
   "source": [
    "show(column(p2, select))"
   ]
  },
  {
   "cell_type": "code",
   "execution_count": 45,
   "metadata": {},
   "outputs": [],
   "source": [
    "##Bonus Track##"
   ]
  },
  {
   "cell_type": "code",
   "execution_count": 46,
   "metadata": {},
   "outputs": [],
   "source": [
    "from bokeh.layouts import gridplot\n",
    "from bokeh.plotting import figure, output_file, show"
   ]
  },
  {
   "cell_type": "code",
   "execution_count": 47,
   "metadata": {},
   "outputs": [],
   "source": [
    "TOOLS = \"pan,wheel_zoom,box_zoom,reset,save,box_select\""
   ]
  },
  {
   "cell_type": "code",
   "execution_count": 48,
   "metadata": {},
   "outputs": [],
   "source": [
    "p3 = figure(title=\"Episode length over time New Map\", tools=TOOLS)"
   ]
  },
  {
   "cell_type": "code",
   "execution_count": 49,
   "metadata": {},
   "outputs": [
    {
     "data": {
      "text/html": [
       "<div style=\"display: table;\"><div style=\"display: table-row;\"><div style=\"display: table-cell;\"><b title=\"bokeh.models.renderers.GlyphRenderer\">GlyphRenderer</b>(</div><div style=\"display: table-cell;\">id&nbsp;=&nbsp;'1484', <span id=\"1496\" style=\"cursor: pointer;\">&hellip;)</span></div></div><div class=\"1495\" style=\"display: none;\"><div style=\"display: table-cell;\"></div><div style=\"display: table-cell;\">data_source&nbsp;=&nbsp;ColumnDataSource(id='1481', ...),</div></div><div class=\"1495\" style=\"display: none;\"><div style=\"display: table-cell;\"></div><div style=\"display: table-cell;\">glyph&nbsp;=&nbsp;Line(id='1482', ...),</div></div><div class=\"1495\" style=\"display: none;\"><div style=\"display: table-cell;\"></div><div style=\"display: table-cell;\">hover_glyph&nbsp;=&nbsp;None,</div></div><div class=\"1495\" style=\"display: none;\"><div style=\"display: table-cell;\"></div><div style=\"display: table-cell;\">js_event_callbacks&nbsp;=&nbsp;{},</div></div><div class=\"1495\" style=\"display: none;\"><div style=\"display: table-cell;\"></div><div style=\"display: table-cell;\">js_property_callbacks&nbsp;=&nbsp;{},</div></div><div class=\"1495\" style=\"display: none;\"><div style=\"display: table-cell;\"></div><div style=\"display: table-cell;\">level&nbsp;=&nbsp;'glyph',</div></div><div class=\"1495\" style=\"display: none;\"><div style=\"display: table-cell;\"></div><div style=\"display: table-cell;\">muted&nbsp;=&nbsp;False,</div></div><div class=\"1495\" style=\"display: none;\"><div style=\"display: table-cell;\"></div><div style=\"display: table-cell;\">muted_glyph&nbsp;=&nbsp;None,</div></div><div class=\"1495\" style=\"display: none;\"><div style=\"display: table-cell;\"></div><div style=\"display: table-cell;\">name&nbsp;=&nbsp;None,</div></div><div class=\"1495\" style=\"display: none;\"><div style=\"display: table-cell;\"></div><div style=\"display: table-cell;\">nonselection_glyph&nbsp;=&nbsp;Line(id='1483', ...),</div></div><div class=\"1495\" style=\"display: none;\"><div style=\"display: table-cell;\"></div><div style=\"display: table-cell;\">selection_glyph&nbsp;=&nbsp;None,</div></div><div class=\"1495\" style=\"display: none;\"><div style=\"display: table-cell;\"></div><div style=\"display: table-cell;\">subscribed_events&nbsp;=&nbsp;[],</div></div><div class=\"1495\" style=\"display: none;\"><div style=\"display: table-cell;\"></div><div style=\"display: table-cell;\">tags&nbsp;=&nbsp;[],</div></div><div class=\"1495\" style=\"display: none;\"><div style=\"display: table-cell;\"></div><div style=\"display: table-cell;\">view&nbsp;=&nbsp;CDSView(id='1485', ...),</div></div><div class=\"1495\" style=\"display: none;\"><div style=\"display: table-cell;\"></div><div style=\"display: table-cell;\">visible&nbsp;=&nbsp;True,</div></div><div class=\"1495\" style=\"display: none;\"><div style=\"display: table-cell;\"></div><div style=\"display: table-cell;\">x_range_name&nbsp;=&nbsp;'default',</div></div><div class=\"1495\" style=\"display: none;\"><div style=\"display: table-cell;\"></div><div style=\"display: table-cell;\">y_range_name&nbsp;=&nbsp;'default')</div></div></div>\n",
       "<script>\n",
       "(function() {\n",
       "  var expanded = false;\n",
       "  var ellipsis = document.getElementById(\"1496\");\n",
       "  ellipsis.addEventListener(\"click\", function() {\n",
       "    var rows = document.getElementsByClassName(\"1495\");\n",
       "    for (var i = 0; i < rows.length; i++) {\n",
       "      var el = rows[i];\n",
       "      el.style.display = expanded ? \"none\" : \"table-row\";\n",
       "    }\n",
       "    ellipsis.innerHTML = expanded ? \"&hellip;)\" : \"&lsaquo;&lsaquo;&lsaquo;\";\n",
       "    expanded = !expanded;\n",
       "  });\n",
       "})();\n",
       "</script>\n"
      ],
      "text/plain": [
       "GlyphRenderer(id='1484', ...)"
      ]
     },
     "execution_count": 49,
     "metadata": {},
     "output_type": "execute_result"
    }
   ],
   "source": [
    "\n",
    "##p3.circle(range(0, 1000), Y, legend_label=\"\")\n",
    "p3.line(range(0, 2000), Y, legend_label=\"\")"
   ]
  },
  {
   "cell_type": "code",
   "execution_count": 50,
   "metadata": {},
   "outputs": [],
   "source": [
    "p3.legend.title = ''"
   ]
  },
  {
   "cell_type": "code",
   "execution_count": 51,
   "metadata": {},
   "outputs": [],
   "source": [
    "p4 = figure(title=\"Episode reward over time New Map\", tools=TOOLS)"
   ]
  },
  {
   "cell_type": "code",
   "execution_count": 52,
   "metadata": {},
   "outputs": [
    {
     "data": {
      "text/html": [
       "<div style=\"display: table;\"><div style=\"display: table-row;\"><div style=\"display: table-cell;\"><b title=\"bokeh.models.renderers.GlyphRenderer\">GlyphRenderer</b>(</div><div style=\"display: table-cell;\">id&nbsp;=&nbsp;'1534', <span id=\"1546\" style=\"cursor: pointer;\">&hellip;)</span></div></div><div class=\"1545\" style=\"display: none;\"><div style=\"display: table-cell;\"></div><div style=\"display: table-cell;\">data_source&nbsp;=&nbsp;ColumnDataSource(id='1531', ...),</div></div><div class=\"1545\" style=\"display: none;\"><div style=\"display: table-cell;\"></div><div style=\"display: table-cell;\">glyph&nbsp;=&nbsp;Line(id='1532', ...),</div></div><div class=\"1545\" style=\"display: none;\"><div style=\"display: table-cell;\"></div><div style=\"display: table-cell;\">hover_glyph&nbsp;=&nbsp;None,</div></div><div class=\"1545\" style=\"display: none;\"><div style=\"display: table-cell;\"></div><div style=\"display: table-cell;\">js_event_callbacks&nbsp;=&nbsp;{},</div></div><div class=\"1545\" style=\"display: none;\"><div style=\"display: table-cell;\"></div><div style=\"display: table-cell;\">js_property_callbacks&nbsp;=&nbsp;{},</div></div><div class=\"1545\" style=\"display: none;\"><div style=\"display: table-cell;\"></div><div style=\"display: table-cell;\">level&nbsp;=&nbsp;'glyph',</div></div><div class=\"1545\" style=\"display: none;\"><div style=\"display: table-cell;\"></div><div style=\"display: table-cell;\">muted&nbsp;=&nbsp;False,</div></div><div class=\"1545\" style=\"display: none;\"><div style=\"display: table-cell;\"></div><div style=\"display: table-cell;\">muted_glyph&nbsp;=&nbsp;None,</div></div><div class=\"1545\" style=\"display: none;\"><div style=\"display: table-cell;\"></div><div style=\"display: table-cell;\">name&nbsp;=&nbsp;None,</div></div><div class=\"1545\" style=\"display: none;\"><div style=\"display: table-cell;\"></div><div style=\"display: table-cell;\">nonselection_glyph&nbsp;=&nbsp;Line(id='1533', ...),</div></div><div class=\"1545\" style=\"display: none;\"><div style=\"display: table-cell;\"></div><div style=\"display: table-cell;\">selection_glyph&nbsp;=&nbsp;None,</div></div><div class=\"1545\" style=\"display: none;\"><div style=\"display: table-cell;\"></div><div style=\"display: table-cell;\">subscribed_events&nbsp;=&nbsp;[],</div></div><div class=\"1545\" style=\"display: none;\"><div style=\"display: table-cell;\"></div><div style=\"display: table-cell;\">tags&nbsp;=&nbsp;[],</div></div><div class=\"1545\" style=\"display: none;\"><div style=\"display: table-cell;\"></div><div style=\"display: table-cell;\">view&nbsp;=&nbsp;CDSView(id='1535', ...),</div></div><div class=\"1545\" style=\"display: none;\"><div style=\"display: table-cell;\"></div><div style=\"display: table-cell;\">visible&nbsp;=&nbsp;True,</div></div><div class=\"1545\" style=\"display: none;\"><div style=\"display: table-cell;\"></div><div style=\"display: table-cell;\">x_range_name&nbsp;=&nbsp;'default',</div></div><div class=\"1545\" style=\"display: none;\"><div style=\"display: table-cell;\"></div><div style=\"display: table-cell;\">y_range_name&nbsp;=&nbsp;'default')</div></div></div>\n",
       "<script>\n",
       "(function() {\n",
       "  var expanded = false;\n",
       "  var ellipsis = document.getElementById(\"1546\");\n",
       "  ellipsis.addEventListener(\"click\", function() {\n",
       "    var rows = document.getElementsByClassName(\"1545\");\n",
       "    for (var i = 0; i < rows.length; i++) {\n",
       "      var el = rows[i];\n",
       "      el.style.display = expanded ? \"none\" : \"table-row\";\n",
       "    }\n",
       "    ellipsis.innerHTML = expanded ? \"&hellip;)\" : \"&lsaquo;&lsaquo;&lsaquo;\";\n",
       "    expanded = !expanded;\n",
       "  });\n",
       "})();\n",
       "</script>\n"
      ],
      "text/plain": [
       "GlyphRenderer(id='1534', ...)"
      ]
     },
     "execution_count": 52,
     "metadata": {},
     "output_type": "execute_result"
    }
   ],
   "source": [
    "##p4.circle(range(0, 1000),Y1, legend_label=\"\",color=\"orange\")\n",
    "p4.line(range(0, 2000),Y1, legend_label=\"\",color=\"orange\")"
   ]
  },
  {
   "cell_type": "code",
   "execution_count": 53,
   "metadata": {},
   "outputs": [],
   "source": [
    "p4.legend.title = ''"
   ]
  },
  {
   "cell_type": "code",
   "execution_count": 54,
   "metadata": {},
   "outputs": [],
   "source": [
    "output_file(\"lenght.html\", title=\"Episode length over time New Map\")\n",
    "\n",
    "show(gridplot([p3,p4], ncols=2, plot_width=400, plot_height=400))  # open a browser"
   ]
  },
  {
   "cell_type": "code",
   "execution_count": null,
   "metadata": {},
   "outputs": [],
   "source": []
  }
 ],
 "metadata": {
  "kernelspec": {
   "display_name": "Python 3",
   "language": "python",
   "name": "python3"
  },
  "language_info": {
   "codemirror_mode": {
    "name": "ipython",
    "version": 3
   },
   "file_extension": ".py",
   "mimetype": "text/x-python",
   "name": "python",
   "nbconvert_exporter": "python",
   "pygments_lexer": "ipython3",
   "version": "3.7.3"
  }
 },
 "nbformat": 4,
 "nbformat_minor": 2
}
